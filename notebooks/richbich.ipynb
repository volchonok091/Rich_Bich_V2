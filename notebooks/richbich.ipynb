{
  "nbformat": 4,
  "nbformat_minor": 0,
  "metadata": {
    "colab": {
      "provenance": [],
      "collapsed_sections": [
        "G6KYVMJSI0lT",
        "lixSqqv8VBPW",
        "CzHeBnRnXJSh",
        "3SEv_l2P8Ll6",
        "HuqfV5XIANYA",
        "fHv9BA18ETOC"
      ]
    },
    "kernelspec": {
      "display_name": "Python 3",
      "name": "python3"
    },
    "language_info": {
      "name": "python"
    },
    "accelerator": "GPU"
  },
  "cells": [
    {
      "cell_type": "code",
      "metadata": {
        "colab": {
          "base_uri": "https://localhost:8080/"
        },
        "id": "cICCz-A5qwVB",
        "outputId": "048d546e-07f7-455e-c020-e334728b10ca"
      },
      "source": [
        "from google.colab import drive\n",
        "drive.mount('/content/gdrive')"
      ],
      "execution_count": null,
      "outputs": [
        {
          "output_type": "stream",
          "name": "stdout",
          "text": [
            "Mounted at /content/gdrive\n"
          ]
        }
      ]
    },
    {
      "cell_type": "code",
      "metadata": {
        "id": "IFpDOUBQI0Xh"
      },
      "source": [
        "# test and train (done)\n",
        "# TO DO ComposableTimeSeriesForestClassifier (ensamble of trees)\n",
        "# run primitive model (done)\n",
        "# good visualization and decoding (test that indeed labels are good), done, looks ok\n",
        "# Decode back from input to tickerrs (done)\n",
        "# fix files update?? It looks like working\n",
        "# Check metrics and etc. Create funstions for this (done)\n",
        "# check train data, it looks like something is wrong causing sucn a huge overtraining -> data look alright\n",
        "# Check mode models from sktime\n",
        "# check examples.  Create funstions for this\n",
        "# reverse knowkedge to the ticket\n",
        "# select best examples\n",
        "# select actual predictions?\n",
        "  # prediction sample????\n",
        "\n",
        "# testing directly tsfresh\n",
        "  # principal proble is that rolling horizon doesn't have a step\n",
        "  # indirectly running cruches\n"
      ],
      "execution_count": null,
      "outputs": []
    },
    {
      "cell_type": "markdown",
      "metadata": {
        "id": "G6KYVMJSI0lT"
      },
      "source": [
        "# Init"
      ]
    },
    {
      "cell_type": "code",
      "metadata": {
        "id": "OVgYFDturK_I",
        "colab": {
          "base_uri": "https://localhost:8080/"
        },
        "outputId": "d961f9db-f76f-47c6-e60a-f359fbcaa504"
      },
      "source": [
        "# !pip install 'scipy==1.5'\n",
        "!pip install yfinance\n",
        "# !pip install sktime[all_extras]\n",
        "# !pip install statsmodels==0.12.1\n"
      ],
      "execution_count": null,
      "outputs": [
        {
          "output_type": "stream",
          "name": "stdout",
          "text": [
            "Collecting yfinance\n",
            "  Downloading yfinance-0.1.67-py2.py3-none-any.whl (25 kB)\n",
            "Requirement already satisfied: requests>=2.20 in /usr/local/lib/python3.7/dist-packages (from yfinance) (2.23.0)\n",
            "Collecting lxml>=4.5.1\n",
            "  Downloading lxml-4.6.4-cp37-cp37m-manylinux_2_17_x86_64.manylinux2014_x86_64.manylinux_2_24_x86_64.whl (6.3 MB)\n",
            "\u001b[K     |████████████████████████████████| 6.3 MB 7.6 MB/s \n",
            "\u001b[?25hRequirement already satisfied: multitasking>=0.0.7 in /usr/local/lib/python3.7/dist-packages (from yfinance) (0.0.10)\n",
            "Requirement already satisfied: pandas>=0.24 in /usr/local/lib/python3.7/dist-packages (from yfinance) (1.1.5)\n",
            "Requirement already satisfied: numpy>=1.15 in /usr/local/lib/python3.7/dist-packages (from yfinance) (1.19.5)\n",
            "Requirement already satisfied: pytz>=2017.2 in /usr/local/lib/python3.7/dist-packages (from pandas>=0.24->yfinance) (2018.9)\n",
            "Requirement already satisfied: python-dateutil>=2.7.3 in /usr/local/lib/python3.7/dist-packages (from pandas>=0.24->yfinance) (2.8.2)\n",
            "Requirement already satisfied: six>=1.5 in /usr/local/lib/python3.7/dist-packages (from python-dateutil>=2.7.3->pandas>=0.24->yfinance) (1.15.0)\n",
            "Requirement already satisfied: certifi>=2017.4.17 in /usr/local/lib/python3.7/dist-packages (from requests>=2.20->yfinance) (2021.10.8)\n",
            "Requirement already satisfied: idna<3,>=2.5 in /usr/local/lib/python3.7/dist-packages (from requests>=2.20->yfinance) (2.10)\n",
            "Requirement already satisfied: chardet<4,>=3.0.2 in /usr/local/lib/python3.7/dist-packages (from requests>=2.20->yfinance) (3.0.4)\n",
            "Requirement already satisfied: urllib3!=1.25.0,!=1.25.1,<1.26,>=1.21.1 in /usr/local/lib/python3.7/dist-packages (from requests>=2.20->yfinance) (1.24.3)\n",
            "Installing collected packages: lxml, yfinance\n",
            "  Attempting uninstall: lxml\n",
            "    Found existing installation: lxml 4.2.6\n",
            "    Uninstalling lxml-4.2.6:\n",
            "      Successfully uninstalled lxml-4.2.6\n",
            "Successfully installed lxml-4.6.4 yfinance-0.1.67\n"
          ]
        }
      ]
    },
    {
      "cell_type": "code",
      "metadata": {
        "id": "VtUXP0UMyfho"
      },
      "source": [
        "import yfinance as yf\n",
        "# from sktime.classification.compose import ComposableTimeSeriesForestClassifier\n",
        "# from sktime.datasets import load_arrow_head\n",
        "# from sktime.utils.slope_and_trend import _slope\n",
        "# from sktime.transformations.panel.summarize import RandomIntervalFeatureExtractor\n"
      ],
      "execution_count": null,
      "outputs": []
    },
    {
      "cell_type": "code",
      "metadata": {
        "id": "C-YI7OkOq367"
      },
      "source": [
        "import pandas as pd\n",
        "import numpy as np\n",
        "# import seaborn as sns\n",
        "import pandas as pd\n",
        "import datetime\n",
        "#pd.set_option('display.max_columns', 20)\n",
        "pd.options.display.max_columns = None\n",
        "#pd.options.display.max_rows = None\n",
        "import matplotlib.pyplot as plt\n",
        "%matplotlib inline\n",
        "#plt.rcParams['font.family'] = \"serif\"\n",
        "#plt.rcParams['font.size'] = 17\n",
        "import os\n",
        "import numpy as np\n",
        "import math\n",
        "from datetime import datetime, timedelta\n",
        "\n",
        "import matplotlib.pyplot as plt\n",
        "import numpy as np\n",
        "from sklearn.metrics import accuracy_score\n",
        "from sklearn.model_selection import train_test_split\n",
        "from sklearn.pipeline import Pipeline\n",
        "from sklearn.tree import DecisionTreeClassifier\n",
        "from tensorflow import keras\n",
        "from tensorflow.keras import layers\n",
        "\n",
        "from pickle import dump,load\n",
        "\n",
        "from tensorflow import keras\n",
        "import numpy as np\n",
        "import matplotlib.pyplot as plt"
      ],
      "execution_count": null,
      "outputs": []
    },
    {
      "cell_type": "code",
      "metadata": {
        "id": "rjZBcJvuhqQA"
      },
      "source": [
        "from numpy.random import seed\n",
        "seed(1)\n",
        "import tensorflow\n",
        "tensorflow.random.set_seed(2)"
      ],
      "execution_count": null,
      "outputs": []
    },
    {
      "cell_type": "markdown",
      "metadata": {
        "id": "lixSqqv8VBPW"
      },
      "source": [
        "# Download all tickets files"
      ]
    },
    {
      "cell_type": "code",
      "metadata": {
        "colab": {
          "base_uri": "https://localhost:8080/"
        },
        "id": "DimloaZVVFmH",
        "outputId": "1d5bb17f-b736-403b-b19f-f77fbdbffc55"
      },
      "source": [
        "!ls gdrive/MyDrive/richbich/data"
      ],
      "execution_count": null,
      "outputs": [
        {
          "output_type": "stream",
          "name": "stdout",
          "text": [
            "america_2021-07-19.csv\thongkong_2021-07-19.csv  uk_2021-07-19.csv\n",
            "canada_2021-07-19.csv\ttest3.csv\t\t us_hist.csv\n",
            "germany_2021-07-19.csv\ttest_hist.csv\t\t working_data\n"
          ]
        }
      ]
    },
    {
      "cell_type": "code",
      "metadata": {
        "id": "bUiNP3DGVIRk"
      },
      "source": [
        "file_us = \"gdrive/MyDrive/richbich/data/america_2021-07-19.csv\"\n",
        "file_can = \"gdrive/MyDrive/richbich/data/canada_2021-07-19.csv\"\n",
        "file_ger = \"gdrive/MyDrive/richbich/data/germany_2021-07-19.csv\"\n",
        "file_hong = \"gdrive/MyDrive/richbich/data/hongkong_2021-07-19.csv\"\n",
        "file_uk = \"gdrive/MyDrive/richbich/data/uk_2021-07-19.csv\"\n",
        "\n",
        "df_master_us = pd.read_csv(file_us)\n",
        "df_master_can = pd.read_csv(file_can)\n",
        "df_master_ger = pd.read_csv(file_ger)\n",
        "df_master_hong = pd.read_csv(file_hong)\n",
        "df_master_uk = pd.read_csv(file_uk)"
      ],
      "execution_count": null,
      "outputs": []
    },
    {
      "cell_type": "code",
      "metadata": {
        "id": "dmaUWxHTcyoc"
      },
      "source": [
        "tickers_list = list(df_master_can.Ticker.unique())\n",
        "tickers_list_chunks = chunker(tickers_list, 500)\n"
      ],
      "execution_count": null,
      "outputs": []
    },
    {
      "cell_type": "code",
      "metadata": {
        "id": "ZKQ64lr2diSj"
      },
      "source": [
        "l = list(tickers_list_chunks)"
      ],
      "execution_count": null,
      "outputs": []
    },
    {
      "cell_type": "code",
      "metadata": {
        "colab": {
          "base_uri": "https://localhost:8080/"
        },
        "id": "-XNtMSY7c6cw",
        "outputId": "bf194500-ba62-40f1-f627-421109bde4ad"
      },
      "source": [
        "len(l[1:])"
      ],
      "execution_count": null,
      "outputs": [
        {
          "output_type": "execute_result",
          "data": {
            "text/plain": [
              "5"
            ]
          },
          "metadata": {},
          "execution_count": 40
        }
      ]
    },
    {
      "cell_type": "code",
      "metadata": {
        "id": "QtExLbgaUB-Z"
      },
      "source": [
        "def chunker(seq, size):\n",
        "    return (seq[pos:pos + size] for pos in range(0, len(seq), size))\n",
        "\n",
        "def download_history(input_df, output_name=\"test_hist\", from_chunk=0, path=\"gdrive/MyDrive/richbich/data/working_data/\"):\n",
        "  tickers_list = list(input_df.Ticker.unique())\n",
        "\n",
        "  tickers_list_chunks = chunker(tickers_list, 500)\n",
        "  list_chunk = list(tickers_list_chunks)\n",
        "  list_chunk = list_chunk[from_chunk:]\n",
        "\n",
        "  iterator = 0+from_chunk\n",
        "  for tickers_chunk in list_chunk:\n",
        "\n",
        "    print(f'load {iterator} chunk of length {len(tickers_chunk)}')\n",
        "    print(tickers_chunk)\n",
        "    data = yf.download(\n",
        "          tickers = tickers_chunk,\n",
        "          period = \"11y\",\n",
        "          interval = \"1d\",\n",
        "          group_by = 'ticker',\n",
        "          auto_adjust = True,\n",
        "          threads = True,\n",
        "          proxy = None\n",
        "      ).stack(level=0).rename_axis(['Date', 'Ticker']).reset_index(level=1)\n",
        "    data.to_csv(f'{path}{output_name}_{iterator}.csv')\n",
        "    iterator += 1\n",
        "\n",
        "def update_file(input_file):\n",
        "\n",
        "  df_input = pd.read_csv(input_file)\n",
        "  start_date =  pd.to_datetime(df_input.Date).max() + timedelta(days=1)\n",
        "\n",
        "  print(start_date)\n",
        "  tickers_list = list(df_input.Ticker.unique())\n",
        "  data = yf.download(\n",
        "        tickers = tickers_list,\n",
        "        start = start_date,\n",
        "        interval = \"1d\",\n",
        "        group_by = 'ticker',\n",
        "        auto_adjust = True,\n",
        "        threads = True,\n",
        "        proxy = None\n",
        "    ).stack(level=0).rename_axis(['Date', 'Ticker']).reset_index(level=1)\n",
        "\n",
        "  df_input = df_input.append(data.reset_index(), ignore_index=True)\n",
        "  return df_input\n",
        "  # data.to_csv(input_file)\n"
      ],
      "execution_count": null,
      "outputs": []
    },
    {
      "cell_type": "code",
      "metadata": {
        "id": "1W103BzfWPRj"
      },
      "source": [
        "download_history(df_master_us, 'us_hist', from_chunk=7)"
      ],
      "execution_count": null,
      "outputs": []
    },
    {
      "cell_type": "code",
      "metadata": {
        "id": "LDy8sN-JTikf"
      },
      "source": [
        "!ls -sh gdrive/MyDrive/richbich/data/"
      ],
      "execution_count": null,
      "outputs": []
    },
    {
      "cell_type": "code",
      "metadata": {
        "colab": {
          "base_uri": "https://localhost:8080/"
        },
        "id": "DUnSsQYkIbHg",
        "outputId": "1e900965-77b4-40b3-ff3e-a50fe1fdc6a6"
      },
      "source": [
        "!ls -sh gdrive/MyDrive/richbich/data/working_data"
      ],
      "execution_count": null,
      "outputs": [
        {
          "output_type": "stream",
          "name": "stdout",
          "text": [
            "total 975M\n",
            "114M us_hist_0.csv   2.4M us_hist_14.csv   81M us_hist_5.csv\n",
            " 70M us_hist_10.csv  102M us_hist_1.csv    52M us_hist_7.csv\n",
            " 63M us_hist_11.csv   91M us_hist_2.csv    60M us_hist_8.csv\n",
            " 61M us_hist_12.csv   91M us_hist_3.csv    65M us_hist_9.csv\n",
            " 47M us_hist_13.csv   83M us_hist_4.csv\n"
          ]
        }
      ]
    },
    {
      "cell_type": "code",
      "metadata": {
        "id": "VDPUGRnR9G-c"
      },
      "source": [
        "df_test2 = update_file('gdrive/MyDrive/richbich/data/working_data/us_hist_9.csv')"
      ],
      "execution_count": null,
      "outputs": []
    },
    {
      "cell_type": "code",
      "metadata": {
        "id": "ysTQCOf3WmS2"
      },
      "source": [
        "df_test = pd.read_csv('gdrive/MyDrive/richbich/data/working_data/us_hist_9.csv')"
      ],
      "execution_count": null,
      "outputs": []
    },
    {
      "cell_type": "code",
      "metadata": {
        "id": "iBCcv-Rq9rhz"
      },
      "source": [
        "df_test.Ticker.unique()"
      ],
      "execution_count": null,
      "outputs": []
    },
    {
      "cell_type": "code",
      "metadata": {
        "colab": {
          "base_uri": "https://localhost:8080/",
          "height": 206
        },
        "id": "AKtgs06vjVGk",
        "outputId": "acba2e21-92f3-4a0d-d02f-193c17b960d7"
      },
      "source": [
        "df_test[df_test.Ticker == 'ACU'].head()"
      ],
      "execution_count": null,
      "outputs": [
        {
          "output_type": "execute_result",
          "data": {
            "text/html": [
              "<div>\n",
              "<style scoped>\n",
              "    .dataframe tbody tr th:only-of-type {\n",
              "        vertical-align: middle;\n",
              "    }\n",
              "\n",
              "    .dataframe tbody tr th {\n",
              "        vertical-align: top;\n",
              "    }\n",
              "\n",
              "    .dataframe thead th {\n",
              "        text-align: right;\n",
              "    }\n",
              "</style>\n",
              "<table border=\"1\" class=\"dataframe\">\n",
              "  <thead>\n",
              "    <tr style=\"text-align: right;\">\n",
              "      <th></th>\n",
              "      <th>Date</th>\n",
              "      <th>Ticker</th>\n",
              "      <th>Adj Close</th>\n",
              "      <th>Close</th>\n",
              "      <th>High</th>\n",
              "      <th>Low</th>\n",
              "      <th>Open</th>\n",
              "      <th>Volume</th>\n",
              "    </tr>\n",
              "  </thead>\n",
              "  <tbody>\n",
              "    <tr>\n",
              "      <th>0</th>\n",
              "      <td>2010-10-14</td>\n",
              "      <td>ACU</td>\n",
              "      <td>NaN</td>\n",
              "      <td>7.895349</td>\n",
              "      <td>7.895349</td>\n",
              "      <td>7.895349</td>\n",
              "      <td>7.895349</td>\n",
              "      <td>0.0</td>\n",
              "    </tr>\n",
              "    <tr>\n",
              "      <th>191</th>\n",
              "      <td>2010-10-15</td>\n",
              "      <td>ACU</td>\n",
              "      <td>NaN</td>\n",
              "      <td>7.801451</td>\n",
              "      <td>7.824925</td>\n",
              "      <td>7.746676</td>\n",
              "      <td>7.824925</td>\n",
              "      <td>800.0</td>\n",
              "    </tr>\n",
              "    <tr>\n",
              "      <th>360</th>\n",
              "      <td>2010-10-18</td>\n",
              "      <td>ACU</td>\n",
              "      <td>NaN</td>\n",
              "      <td>8.044024</td>\n",
              "      <td>8.098799</td>\n",
              "      <td>7.895351</td>\n",
              "      <td>7.903176</td>\n",
              "      <td>2200.0</td>\n",
              "    </tr>\n",
              "    <tr>\n",
              "      <th>530</th>\n",
              "      <td>2010-10-19</td>\n",
              "      <td>ACU</td>\n",
              "      <td>NaN</td>\n",
              "      <td>8.044024</td>\n",
              "      <td>8.044024</td>\n",
              "      <td>8.044024</td>\n",
              "      <td>8.044024</td>\n",
              "      <td>0.0</td>\n",
              "    </tr>\n",
              "    <tr>\n",
              "      <th>695</th>\n",
              "      <td>2010-10-20</td>\n",
              "      <td>ACU</td>\n",
              "      <td>NaN</td>\n",
              "      <td>8.051850</td>\n",
              "      <td>8.137924</td>\n",
              "      <td>7.950126</td>\n",
              "      <td>7.957951</td>\n",
              "      <td>1400.0</td>\n",
              "    </tr>\n",
              "  </tbody>\n",
              "</table>\n",
              "</div>"
            ],
            "text/plain": [
              "           Date Ticker  Adj Close     Close      High       Low      Open  \\\n",
              "0    2010-10-14    ACU        NaN  7.895349  7.895349  7.895349  7.895349   \n",
              "191  2010-10-15    ACU        NaN  7.801451  7.824925  7.746676  7.824925   \n",
              "360  2010-10-18    ACU        NaN  8.044024  8.098799  7.895351  7.903176   \n",
              "530  2010-10-19    ACU        NaN  8.044024  8.044024  8.044024  8.044024   \n",
              "695  2010-10-20    ACU        NaN  8.051850  8.137924  7.950126  7.957951   \n",
              "\n",
              "     Volume  \n",
              "0       0.0  \n",
              "191   800.0  \n",
              "360  2200.0  \n",
              "530     0.0  \n",
              "695  1400.0  "
            ]
          },
          "metadata": {},
          "execution_count": 17
        }
      ]
    },
    {
      "cell_type": "code",
      "metadata": {
        "colab": {
          "base_uri": "https://localhost:8080/",
          "height": 206
        },
        "id": "cELBUGfq9hAK",
        "outputId": "125d55a2-e5d6-4d96-efd6-afa1e7932aef"
      },
      "source": [
        "df_test2[df_test2.Ticker == 'ACU'].head()"
      ],
      "execution_count": null,
      "outputs": [
        {
          "output_type": "execute_result",
          "data": {
            "text/html": [
              "<div>\n",
              "<style scoped>\n",
              "    .dataframe tbody tr th:only-of-type {\n",
              "        vertical-align: middle;\n",
              "    }\n",
              "\n",
              "    .dataframe tbody tr th {\n",
              "        vertical-align: top;\n",
              "    }\n",
              "\n",
              "    .dataframe thead th {\n",
              "        text-align: right;\n",
              "    }\n",
              "</style>\n",
              "<table border=\"1\" class=\"dataframe\">\n",
              "  <thead>\n",
              "    <tr style=\"text-align: right;\">\n",
              "      <th></th>\n",
              "      <th>Date</th>\n",
              "      <th>Ticker</th>\n",
              "      <th>Adj Close</th>\n",
              "      <th>Close</th>\n",
              "      <th>High</th>\n",
              "      <th>Low</th>\n",
              "      <th>Open</th>\n",
              "      <th>Volume</th>\n",
              "    </tr>\n",
              "  </thead>\n",
              "  <tbody>\n",
              "    <tr>\n",
              "      <th>0</th>\n",
              "      <td>2010-10-14</td>\n",
              "      <td>ACU</td>\n",
              "      <td>NaN</td>\n",
              "      <td>7.895349</td>\n",
              "      <td>7.895349</td>\n",
              "      <td>7.895349</td>\n",
              "      <td>7.895349</td>\n",
              "      <td>0.0</td>\n",
              "    </tr>\n",
              "    <tr>\n",
              "      <th>191</th>\n",
              "      <td>2010-10-15</td>\n",
              "      <td>ACU</td>\n",
              "      <td>NaN</td>\n",
              "      <td>7.801451</td>\n",
              "      <td>7.824925</td>\n",
              "      <td>7.746676</td>\n",
              "      <td>7.824925</td>\n",
              "      <td>800.0</td>\n",
              "    </tr>\n",
              "    <tr>\n",
              "      <th>360</th>\n",
              "      <td>2010-10-18</td>\n",
              "      <td>ACU</td>\n",
              "      <td>NaN</td>\n",
              "      <td>8.044024</td>\n",
              "      <td>8.098799</td>\n",
              "      <td>7.895351</td>\n",
              "      <td>7.903176</td>\n",
              "      <td>2200.0</td>\n",
              "    </tr>\n",
              "    <tr>\n",
              "      <th>530</th>\n",
              "      <td>2010-10-19</td>\n",
              "      <td>ACU</td>\n",
              "      <td>NaN</td>\n",
              "      <td>8.044024</td>\n",
              "      <td>8.044024</td>\n",
              "      <td>8.044024</td>\n",
              "      <td>8.044024</td>\n",
              "      <td>0.0</td>\n",
              "    </tr>\n",
              "    <tr>\n",
              "      <th>695</th>\n",
              "      <td>2010-10-20</td>\n",
              "      <td>ACU</td>\n",
              "      <td>NaN</td>\n",
              "      <td>8.051850</td>\n",
              "      <td>8.137924</td>\n",
              "      <td>7.950126</td>\n",
              "      <td>7.957951</td>\n",
              "      <td>1400.0</td>\n",
              "    </tr>\n",
              "  </tbody>\n",
              "</table>\n",
              "</div>"
            ],
            "text/plain": [
              "           Date Ticker  Adj Close     Close      High       Low      Open  \\\n",
              "0    2010-10-14    ACU        NaN  7.895349  7.895349  7.895349  7.895349   \n",
              "191  2010-10-15    ACU        NaN  7.801451  7.824925  7.746676  7.824925   \n",
              "360  2010-10-18    ACU        NaN  8.044024  8.098799  7.895351  7.903176   \n",
              "530  2010-10-19    ACU        NaN  8.044024  8.044024  8.044024  8.044024   \n",
              "695  2010-10-20    ACU        NaN  8.051850  8.137924  7.950126  7.957951   \n",
              "\n",
              "     Volume  \n",
              "0       0.0  \n",
              "191   800.0  \n",
              "360  2200.0  \n",
              "530     0.0  \n",
              "695  1400.0  "
            ]
          },
          "metadata": {},
          "execution_count": 18
        }
      ]
    },
    {
      "cell_type": "code",
      "metadata": {
        "colab": {
          "base_uri": "https://localhost:8080/",
          "height": 283
        },
        "id": "SrZYdVg2G1D5",
        "outputId": "cfdeaa32-ce16-4c80-9c22-fb3aa3a252e1"
      },
      "source": [
        "df_test[df_test.Ticker == 'ZIVO'].Close.hist()"
      ],
      "execution_count": null,
      "outputs": [
        {
          "output_type": "execute_result",
          "data": {
            "text/plain": [
              "<matplotlib.axes._subplots.AxesSubplot at 0x7f7d22100310>"
            ]
          },
          "metadata": {},
          "execution_count": 16
        },
        {
          "output_type": "display_data",
          "data": {
            "image/png": "[encoded data removed]",
            "text/plain": [
              "<Figure size 432x288 with 1 Axes>"
            ]
          },
          "metadata": {
            "needs_background": "light"
          }
        }
      ]
    },
    {
      "cell_type": "code",
      "metadata": {
        "id": "OQHkQ3BbjIZg"
      },
      "source": [
        "df_test2[df_test2.Ticker == 'ACAD'].tail(60)"
      ],
      "execution_count": null,
      "outputs": []
    },
    {
      "cell_type": "code",
      "metadata": {
        "id": "u3cnfb4-kUl7"
      },
      "source": [],
      "execution_count": null,
      "outputs": []
    },
    {
      "cell_type": "markdown",
      "metadata": {
        "id": "RucpqP_ClRld"
      },
      "source": [
        "# Update Files"
      ]
    },
    {
      "cell_type": "code",
      "metadata": {
        "id": "WQmDh85YlVBF",
        "colab": {
          "base_uri": "https://localhost:8080/"
        },
        "outputId": "7434f82d-ee90-4595-c1bf-b7733df2a751"
      },
      "source": [
        "def update_file(input_file):\n",
        "\n",
        "  df_input = pd.read_csv(input_file)\n",
        "  start_date =  pd.to_datetime(df_input.Date).max() + timedelta(days=1)\n",
        "\n",
        "  print(start_date)\n",
        "  tickers_list = list(df_input.Ticker.unique())\n",
        "  data = yf.download(\n",
        "        tickers = tickers_list,\n",
        "        start = start_date,\n",
        "        interval = \"1d\",\n",
        "        group_by = 'ticker',\n",
        "        auto_adjust = True,\n",
        "        threads = True,\n",
        "        proxy = None\n",
        "    ).stack(level=0).rename_axis(['Date', 'Ticker']).reset_index(level=1)\n",
        "\n",
        "  df_input = df_input.append(data.reset_index(), ignore_index=True)\n",
        "  # return df_input\n",
        "  df_input.to_csv(input_file)\n",
        "\n",
        "\n",
        "# doesn't work properly.....\n",
        "\n",
        "list_files = !ls gdrive/MyDrive/richbich/data/working_data/us_hist*\n",
        "for file in list_files:\n",
        "  print(file)\n",
        "  update_file(file)"
      ],
      "execution_count": null,
      "outputs": [
        {
          "output_type": "stream",
          "name": "stdout",
          "text": [
            "gdrive/MyDrive/richbich/data/working_data/us_hist_0.csv\n",
            "2021-12-02 00:00:00\n",
            "[*********************100%***********************]  397 of 397 completed\n",
            "\n",
            "1 Failed download:\n",
            "- MXIM: No data found, symbol may be delisted\n",
            "gdrive/MyDrive/richbich/data/working_data/us_hist_10.csv\n",
            "2021-12-02 00:00:00\n",
            "[*********************100%***********************]  495 of 495 completed\n",
            "\n",
            "18 Failed downloads:\n",
            "- ARPO: No data found, symbol may be delisted\n",
            "- ARHH: No data found, symbol may be delisted\n",
            "- IEC: No data found for this date range, symbol may be delisted\n",
            "- RIVE: No data found for this date range, symbol may be delisted\n",
            "- LIVK: No data found, symbol may be delisted\n",
            "- ITAC: No data found for this date range, symbol may be delisted\n",
            "- AMHC: No data found, symbol may be delisted\n",
            "- MAGS: No data found, symbol may be delisted\n",
            "- SPRT: No data found, symbol may be delisted\n",
            "- CHFW: No data found, symbol may be delisted\n",
            "- PTK: No data found, symbol may be delisted\n",
            "- JMP: No data found for this date range, symbol may be delisted\n",
            "- LSAQ: No data found for this date range, symbol may be delisted\n",
            "- NWHM: No data found for this date range, symbol may be delisted\n",
            "- CLDB: No data found for this date range, symbol may be delisted\n",
            "- CHAQ: No data found, symbol may be delisted\n",
            "- CATB: No data found, symbol may be delisted\n",
            "- AHAC: No data found, symbol may be delisted\n",
            "gdrive/MyDrive/richbich/data/working_data/us_hist_11.csv\n",
            "2021-12-02 00:00:00\n",
            "[*********************100%***********************]  499 of 499 completed\n",
            "\n",
            "9 Failed downloads:\n",
            "- BLUW: No data found, symbol may be delisted\n",
            "- GLVMF: No data found for this date range, symbol may be delisted\n",
            "- AZRX: No data found, symbol may be delisted\n",
            "- NETE: No data found for this date range, symbol may be delisted\n",
            "- CBLI: No data found, symbol may be delisted\n",
            "- NNA: No data found for this date range, symbol may be delisted\n",
            "- HJLI: No data found, symbol may be delisted\n",
            "- MCAD: No data found for this date range, symbol may be delisted\n",
            "- WDDMF: No data found, symbol may be delisted\n",
            "gdrive/MyDrive/richbich/data/working_data/us_hist_12.csv\n",
            "2021-12-02 00:00:00\n",
            "[*********************100%***********************]  493 of 493 completed\n",
            "\n",
            "10 Failed downloads:\n",
            "- NTGSF: No data found, symbol may be delisted\n",
            "- AGOL: No data found, symbol may be delisted\n",
            "- EXPFF: No data found for this date range, symbol may be delisted\n",
            "- AGAUF: No data found, symbol may be delisted\n",
            "- TDLAF: No data found, symbol may be delisted\n",
            "- GRNV: No data found, symbol may be delisted\n",
            "- NTSFF: No data found for this date range, symbol may be delisted\n",
            "- OSN: No data found, symbol may be delisted\n",
            "- DVCR: No data found for this date range, symbol may be delisted\n",
            "- AQSP: No data found, symbol may be delisted\n",
            "gdrive/MyDrive/richbich/data/working_data/us_hist_13.csv\n",
            "2021-12-02 00:00:00\n",
            "[*********************100%***********************]  496 of 496 completed\n",
            "\n",
            "8 Failed downloads:\n",
            "- XRTXF: No data found, symbol may be delisted\n",
            "- BASX: No data found, symbol may be delisted\n",
            "- WIZD: No data found, symbol may be delisted\n",
            "- APOP: No data found for this date range, symbol may be delisted\n",
            "- SPRCY: No data found, symbol may be delisted\n",
            "- SCON: No data found, symbol may be delisted\n",
            "- KTNNF: No data found, symbol may be delisted\n",
            "- SQBG: No data found, symbol may be delisted\n",
            "gdrive/MyDrive/richbich/data/working_data/us_hist_14.csv\n",
            "2021-12-02 00:00:00\n",
            "[*********************100%***********************]  23 of 23 completed\n",
            "gdrive/MyDrive/richbich/data/working_data/us_hist_1.csv\n",
            "2021-12-02 00:00:00\n",
            "[*********************100%***********************]  493 of 493 completed\n",
            "\n",
            "4 Failed downloads:\n",
            "- CREE: No data found, symbol may be delisted\n",
            "- PFPT: No data found, symbol may be delisted\n",
            "- SOLVY: No data found, symbol may be delisted\n",
            "- VEDL: No data found for this date range, symbol may be delisted\n",
            "gdrive/MyDrive/richbich/data/working_data/us_hist_2.csv\n",
            "2021-12-02 00:00:00\n",
            "[*********************100%***********************]  497 of 497 completed\n",
            "\n",
            "9 Failed downloads:\n",
            "- INOV: No data found for this date range, symbol may be delisted\n",
            "- XLRN: No data found for this date range, symbol may be delisted\n",
            "- COG: No data found, symbol may be delisted\n",
            "- MDLA: No data found for this date range, symbol may be delisted\n",
            "- GRA: No data found, symbol may be delisted\n",
            "- ARD: No data found for this date range, symbol may be delisted\n",
            "- STMP: No data found for this date range, symbol may be delisted\n",
            "- CLDR: No data found for this date range, symbol may be delisted\n",
            "- XEC: No data found, symbol may be delisted\n",
            "gdrive/MyDrive/richbich/data/working_data/us_hist_3.csv\n",
            "2021-12-02 00:00:00\n",
            "[*********************100%***********************]  492 of 492 completed\n",
            "\n",
            "4 Failed downloads:\n",
            "- SOGO: No data found, symbol may be delisted\n",
            "- CSOD: No data found for this date range, symbol may be delisted\n",
            "- UFS: No data found for this date range, symbol may be delisted\n",
            "- CVA: No data found for this date range, symbol may be delisted\n",
            "gdrive/MyDrive/richbich/data/working_data/us_hist_4.csv\n",
            "2021-12-02 00:00:00\n",
            "[*********************100%***********************]  494 of 494 completed\n",
            "\n",
            "9 Failed downloads:\n",
            "- SRNG: No data found, symbol may be delisted\n",
            "- QADB: No data found for this date range, symbol may be delisted\n",
            "- TBIO: No data found, symbol may be delisted\n",
            "- LDL: No data found, symbol may be delisted\n",
            "- HRVSF: No data found for this date range, symbol may be delisted\n",
            "- SYKE: No data found, symbol may be delisted\n",
            "- QADA: No data found for this date range, symbol may be delisted\n",
            "- CORE: No data found, symbol may be delisted\n",
            "- RAVN: No data found for this date range, symbol may be delisted\n",
            "gdrive/MyDrive/richbich/data/working_data/us_hist_5.csv\n",
            "2021-12-02 00:00:00\n",
            "[*********************100%***********************]  497 of 497 completed\n",
            "\n",
            "14 Failed downloads:\n",
            "- EBSB: No data found for this date range, symbol may be delisted\n",
            "- RTP: No data found, symbol may be delisted\n",
            "- VEI: No data found for this date range, symbol may be delisted\n",
            "- AMTBB: No data found for this date range, symbol may be delisted\n",
            "- CBB: No data found, symbol may be delisted\n",
            "- AJAX: No data found, symbol may be delisted\n",
            "- SCR: No data found for this date range, symbol may be delisted\n",
            "- CCGGY: No data found for this date range, symbol may be delisted\n",
            "- USCR: No data found, symbol may be delisted\n",
            "- XOG: No data found for this date range, symbol may be delisted\n",
            "- RTPY: No data found for this date range, symbol may be delisted\n",
            "- LORL: No data found for this date range, symbol may be delisted\n",
            "- CAI: No data found for this date range, symbol may be delisted\n",
            "- ORBC: No data found, symbol may be delisted\n",
            "gdrive/MyDrive/richbich/data/working_data/us_hist_7.csv\n",
            "2021-12-02 00:00:00\n",
            "[*********************100%***********************]  483 of 483 completed\n",
            "\n",
            "27 Failed downloads:\n",
            "- CTAC: No data found, symbol may be delisted\n",
            "- SGMLF: No data found, symbol may be delisted\n",
            "- DEH: No data found, symbol may be delisted\n",
            "- GPX: No data found for this date range, symbol may be delisted\n",
            "- NSRXF: No data found, symbol may be delisted\n",
            "- SOAC: No data found for this date range, symbol may be delisted\n",
            "- KIN: No data found, symbol may be delisted\n",
            "- NGAC: No data found, symbol may be delisted\n",
            "- QELL: No data found, symbol may be delisted\n",
            "- SPFR: No data found, symbol may be delisted\n",
            "- VACQ: No data found, symbol may be delisted\n",
            "- ROT: No data found, symbol may be delisted\n",
            "- LIII: No data found for this date range, symbol may be delisted\n",
            "- MRAC: No data found for this date range, symbol may be delisted\n",
            "- RMGB: No data found, symbol may be delisted\n",
            "- SNPR: No data found, symbol may be delisted\n",
            "- FLXN: No data found for this date range, symbol may be delisted\n",
            "- CENH: No data found, symbol may be delisted\n",
            "- EXFO: No data found, symbol may be delisted\n",
            "- XONE: No data found for this date range, symbol may be delisted\n",
            "- DMYI: No data found, symbol may be delisted\n",
            "- KURI: No data found for this date range, symbol may be delisted\n",
            "- FUSE: No data found, symbol may be delisted\n",
            "- PDAC: No data found, symbol may be delisted\n",
            "- SWBK: No data found for this date range, symbol may be delisted\n",
            "- MSON: No data found for this date range, symbol may be delisted\n",
            "- CMII: No data found, symbol may be delisted\n",
            "gdrive/MyDrive/richbich/data/working_data/us_hist_8.csv\n",
            "2021-12-02 00:00:00\n",
            "[*********************100%***********************]  496 of 496 completed\n",
            "\n",
            "27 Failed downloads:\n",
            "- STWO: No data found for this date range, symbol may be delisted\n",
            "- SRAC: No data found, symbol may be delisted\n",
            "- SLCT: No data found for this date range, symbol may be delisted\n",
            "- KSMT: No data found, symbol may be delisted\n",
            "- BCTG: No data found, symbol may be delisted\n",
            "- TMTS: No data found for this date range, symbol may be delisted\n",
            "- HCHC: No data found, symbol may be delisted\n",
            "- SIC: No data found for this date range, symbol may be delisted\n",
            "- NSH: No data found, symbol may be delisted\n",
            "- VOSO: No data found for this date range, symbol may be delisted\n",
            "- SCPE: No data found, symbol may be delisted\n",
            "- CFAC: No data found, symbol may be delisted\n",
            "- LOKB: No data found for this date range, symbol may be delisted\n",
            "- VIH: No data found for this date range, symbol may be delisted\n",
            "- LWAC: No data found, symbol may be delisted\n",
            "- CERC: No data found, symbol may be delisted\n",
            "- PFBI: No data found, symbol may be delisted\n",
            "- TLC: No data found, symbol may be delisted\n",
            "- CHMA: No data found for this date range, symbol may be delisted\n",
            "- DFNS: No data found, symbol may be delisted\n",
            "- LEGO: No data found for this date range, symbol may be delisted\n",
            "- ADMS: No data found for this date range, symbol may be delisted\n",
            "- IACB: No data found for this date range, symbol may be delisted\n",
            "- KCAC: No data found, symbol may be delisted\n",
            "- DFPH: No data found for this date range, symbol may be delisted\n",
            "- SHSP: No data found, symbol may be delisted\n",
            "- BOCH: No data found, symbol may be delisted\n",
            "gdrive/MyDrive/richbich/data/working_data/us_hist_9.csv\n",
            "2021-12-02 00:00:00\n",
            "[*********************100%***********************]  495 of 495 completed\n",
            "\n",
            "21 Failed downloads:\n",
            "- JAX: No data found, symbol may be delisted\n",
            "- SVBI: No data found for this date range, symbol may be delisted\n",
            "- TDAC: No data found for this date range, symbol may be delisted\n",
            "- MMAC: No data found, symbol may be delisted\n",
            "- MOTN: No data found for this date range, symbol may be delisted\n",
            "- KSHB: No data found, symbol may be delisted\n",
            "- LATN: No data found, symbol may be delisted\n",
            "- ELYGF: No data found, symbol may be delisted\n",
            "- GWAC: No data found, symbol may be delisted\n",
            "- NBA: No data found, symbol may be delisted\n",
            "- CAHC: No data found, symbol may be delisted\n",
            "- SGAM: No data found for this date range, symbol may be delisted\n",
            "- BRGGF: No data found, symbol may be delisted\n",
            "- MFNC: No data found, symbol may be delisted\n",
            "- SAII: No data found, symbol may be delisted\n",
            "- GNPK: No data found, symbol may be delisted\n",
            "- PMBC: No data found for this date range, symbol may be delisted\n",
            "- VQSLF: No data found, symbol may be delisted\n",
            "- SBBP: No data found for this date range, symbol may be delisted\n",
            "- DDMX: No data found for this date range, symbol may be delisted\n",
            "- GLEO: No data found, symbol may be delisted\n"
          ]
        }
      ]
    },
    {
      "cell_type": "code",
      "metadata": {
        "colab": {
          "base_uri": "https://localhost:8080/"
        },
        "id": "VC_svT1jphXA",
        "outputId": "b07d482c-fb79-4e38-c186-0c5742aa6e55"
      },
      "source": [
        "list_files"
      ],
      "execution_count": null,
      "outputs": [
        {
          "output_type": "execute_result",
          "data": {
            "text/plain": [
              "['gdrive/MyDrive/richbich/data/working_data/us_hist_0.csv',\n",
              " 'gdrive/MyDrive/richbich/data/working_data/us_hist_10.csv',\n",
              " 'gdrive/MyDrive/richbich/data/working_data/us_hist_11.csv',\n",
              " 'gdrive/MyDrive/richbich/data/working_data/us_hist_12.csv',\n",
              " 'gdrive/MyDrive/richbich/data/working_data/us_hist_13.csv',\n",
              " 'gdrive/MyDrive/richbich/data/working_data/us_hist_14.csv',\n",
              " 'gdrive/MyDrive/richbich/data/working_data/us_hist_1.csv',\n",
              " 'gdrive/MyDrive/richbich/data/working_data/us_hist_2.csv',\n",
              " 'gdrive/MyDrive/richbich/data/working_data/us_hist_3.csv',\n",
              " 'gdrive/MyDrive/richbich/data/working_data/us_hist_4.csv',\n",
              " 'gdrive/MyDrive/richbich/data/working_data/us_hist_5.csv',\n",
              " 'gdrive/MyDrive/richbich/data/working_data/us_hist_7.csv',\n",
              " 'gdrive/MyDrive/richbich/data/working_data/us_hist_8.csv',\n",
              " 'gdrive/MyDrive/richbich/data/working_data/us_hist_9.csv']"
            ]
          },
          "metadata": {},
          "execution_count": 66
        }
      ]
    },
    {
      "cell_type": "markdown",
      "metadata": {
        "id": "O1WKTH7U0rT-"
      },
      "source": [
        "# Enrich data"
      ]
    },
    {
      "cell_type": "code",
      "metadata": {
        "id": "TgtqR91R0uc5"
      },
      "source": [
        "def enrich_timeseries(input_file):\n",
        "  df = pd.read_csv(input_file)\n",
        "\n",
        "  # df['ma_50'] = df.groupby(['Ticker'])['Close'].transform(lambda x: x.rolling(50).mean())\n",
        "  # df['ma_100'] = df.groupby(['Ticker'])['Close'].transform(lambda x: x.rolling(100).mean())\n",
        "  df['ma_200'] = df.groupby(['Ticker'])['Close'].transform(lambda x: x.rolling(200).mean())\n",
        "\n",
        "  # df['ma_50_low'] = (df['ma_50'] - 2* df.groupby(['Ticker'])['Close'].transform(lambda x: x.rolling(50).std())).clip(lower=0)\n",
        "  # df['ma_100_low'] = (df['ma_100'] - 2* df.groupby(['Ticker'])['Close'].transform(lambda x: x.rolling(100).std())).clip(lower=0)\n",
        "  df['ma_200_low'] = (df['ma_200'] - 2* df.groupby(['Ticker'])['Close'].transform(lambda x: x.rolling(200).std())).clip(lower=0)\n",
        "\n",
        "  # df['ma_50_high'] = df['ma_50'] + 2* df.groupby(['Ticker'])['Close'].transform(lambda x: x.rolling(50).std())\n",
        "  # df['ma_100_high'] = df['ma_100'] + 2* df.groupby(['Ticker'])['Close'].transform(lambda x: x.rolling(100).std())\n",
        "  df['ma_200_high'] = df['ma_200'] + 2* df.groupby(['Ticker'])['Close'].transform(lambda x: x.rolling(200).std())\n",
        "\n",
        "  df['ma'] = df.groupby(['Ticker'])['Close'].transform(lambda x: x.expanding().mean())\n",
        "\n",
        "  # df['turnover'] = df.Close * df.Volume\n",
        "\n",
        "  df.to_csv(input_file, index=False)\n"
      ],
      "execution_count": null,
      "outputs": []
    },
    {
      "cell_type": "code",
      "metadata": {
        "colab": {
          "base_uri": "https://localhost:8080/"
        },
        "id": "HXMTyfcUP-BJ",
        "outputId": "db6391a6-2ea9-4a45-8aa8-208dd448da37"
      },
      "source": [
        "list_files = !ls gdrive/MyDrive/richbich/data/working_data/us_hist*\n",
        "for file in list_files:\n",
        "  print(file)\n",
        "  enrich_timeseries(file)"
      ],
      "execution_count": null,
      "outputs": [
        {
          "output_type": "stream",
          "name": "stdout",
          "text": [
            "gdrive/MyDrive/richbich/data/working_data/us_hist_0.csv\n",
            "gdrive/MyDrive/richbich/data/working_data/us_hist_10.csv\n",
            "gdrive/MyDrive/richbich/data/working_data/us_hist_11.csv\n",
            "gdrive/MyDrive/richbich/data/working_data/us_hist_12.csv\n",
            "gdrive/MyDrive/richbich/data/working_data/us_hist_13.csv\n",
            "gdrive/MyDrive/richbich/data/working_data/us_hist_14.csv\n",
            "gdrive/MyDrive/richbich/data/working_data/us_hist_1.csv\n",
            "gdrive/MyDrive/richbich/data/working_data/us_hist_2.csv\n",
            "gdrive/MyDrive/richbich/data/working_data/us_hist_3.csv\n",
            "gdrive/MyDrive/richbich/data/working_data/us_hist_4.csv\n",
            "gdrive/MyDrive/richbich/data/working_data/us_hist_5.csv\n",
            "gdrive/MyDrive/richbich/data/working_data/us_hist_7.csv\n",
            "gdrive/MyDrive/richbich/data/working_data/us_hist_8.csv\n",
            "gdrive/MyDrive/richbich/data/working_data/us_hist_9.csv\n"
          ]
        }
      ]
    },
    {
      "cell_type": "code",
      "metadata": {
        "id": "aDUcCKJyXIiN"
      },
      "source": [],
      "execution_count": null,
      "outputs": []
    },
    {
      "cell_type": "code",
      "metadata": {
        "id": "GM-O9xldXIlY"
      },
      "source": [],
      "execution_count": null,
      "outputs": []
    },
    {
      "cell_type": "code",
      "metadata": {
        "id": "hNNKbtleJaUt"
      },
      "source": [
        "Loss=−i=1∑sizeoutput​​yi​⋅logy^​i​"
      ],
      "execution_count": null,
      "outputs": []
    },
    {
      "cell_type": "markdown",
      "metadata": {
        "id": "CzHeBnRnXJSh"
      },
      "source": [
        "# Load and prepare data:"
      ]
    },
    {
      "cell_type": "code",
      "metadata": {
        "id": "3IbC7ISrVUIx"
      },
      "source": [
        "# dft = pd.read_csv('gdrive/MyDrive/richbich/data/working_data/us_hist_1.csv')"
      ],
      "execution_count": null,
      "outputs": []
    },
    {
      "cell_type": "code",
      "metadata": {
        "id": "ubd-zWUWhXCA"
      },
      "source": [
        "list_files = !ls gdrive/MyDrive/richbich/data/working_data/us_hist*\n",
        "\n",
        "def read_all_data(list_files=list_files):\n",
        "  df = pd.read_csv(list_files[0])\n",
        "  for file in list_files[1:]:\n",
        "    df = df.append(pd.read_csv(file), ignore_index=True)\n",
        "    print(file)\n",
        "    print(df.Ticker.nunique())\n",
        "  return df"
      ],
      "execution_count": null,
      "outputs": []
    },
    {
      "cell_type": "code",
      "metadata": {
        "id": "021HAZmriz_6",
        "colab": {
          "base_uri": "https://localhost:8080/"
        },
        "outputId": "56604ad5-d59f-4dd6-f4ae-03a90e97aedf"
      },
      "source": [
        "dft = read_all_data(list_files)"
      ],
      "execution_count": null,
      "outputs": [
        {
          "output_type": "stream",
          "name": "stdout",
          "text": [
            "gdrive/MyDrive/richbich/data/working_data/us_hist_10.csv\n",
            "892\n",
            "gdrive/MyDrive/richbich/data/working_data/us_hist_11.csv\n",
            "1391\n",
            "gdrive/MyDrive/richbich/data/working_data/us_hist_12.csv\n",
            "1884\n",
            "gdrive/MyDrive/richbich/data/working_data/us_hist_13.csv\n",
            "2380\n",
            "gdrive/MyDrive/richbich/data/working_data/us_hist_14.csv\n",
            "2403\n",
            "gdrive/MyDrive/richbich/data/working_data/us_hist_1.csv\n",
            "2896\n",
            "gdrive/MyDrive/richbich/data/working_data/us_hist_2.csv\n",
            "3393\n",
            "gdrive/MyDrive/richbich/data/working_data/us_hist_3.csv\n",
            "3885\n",
            "gdrive/MyDrive/richbich/data/working_data/us_hist_4.csv\n",
            "4379\n",
            "gdrive/MyDrive/richbich/data/working_data/us_hist_5.csv\n",
            "4876\n",
            "gdrive/MyDrive/richbich/data/working_data/us_hist_7.csv\n",
            "5359\n",
            "gdrive/MyDrive/richbich/data/working_data/us_hist_8.csv\n",
            "5855\n",
            "gdrive/MyDrive/richbich/data/working_data/us_hist_9.csv\n",
            "6350\n"
          ]
        }
      ]
    },
    {
      "cell_type": "code",
      "metadata": {
        "id": "ecuOAFupRPVg"
      },
      "source": [
        "def final_enrich(input_file):\n",
        "\n",
        "  df = dft[['Date', 'Ticker', 'ma_200', 'Close']]\n",
        "  df = df[~df.ma_200.isna()]\n",
        "\n",
        "  df['Date'] = pd.to_datetime(df.Date)\n",
        "  df['max_close'] = df.groupby(['Ticker'])['Close'].transform(lambda x: x.rolling(30).max().shift(-29))\n",
        "  df['min_close'] = df.groupby(['Ticker'])['Close'].transform(lambda x: x.rolling(30).min().shift(-29))\n",
        "  df['relative_close'] =  df['Close']/df['ma_200']\n",
        "\n",
        "  df_future = df[df.Date > (df.Date.max() - timedelta(days=150))]\n",
        "\n",
        "  df = df[~df.max_close.isna()]\n",
        "  df['count'] = df.groupby(['Ticker'])['Close'].transform(lambda x: x.nunique())\n",
        "  df_future['count'] = df_future.groupby(['Ticker'])['Close'].transform(lambda x: x.nunique())\n",
        "\n",
        "  df['relative_future_close'] =  df['max_close']/df['ma_200']\n",
        "  df['relative_future_gain'] = 1 - (df['min_close']/df['Close'] < 0.85)\n",
        "  df['relative_future_gain'] = df['relative_future_gain'].astype(int)\n",
        "  df.loc[(df['max_close']/df['Close'] > 1.15), 'relative_future_gain'] = 2\n",
        "  # df['relative_future_gain_binned'] = pd.cut(df['relative_future_gain'], bins=[0, 0.8, 1.2, 10000], labels=[0,1,2]).astype(int)\n",
        "  df = df[df['count'] > 150 ]\n",
        "  df_future = df_future[df_future['count'] >= 100 ]\n",
        "\n",
        "  return df, df_future\n"
      ],
      "execution_count": null,
      "outputs": []
    },
    {
      "cell_type": "code",
      "metadata": {
        "id": "z8Ky2_rAVaOF"
      },
      "source": [
        "df, df_future = final_enrich(dft)"
      ],
      "execution_count": null,
      "outputs": []
    },
    {
      "cell_type": "code",
      "metadata": {
        "colab": {
          "base_uri": "https://localhost:8080/"
        },
        "id": "tuoucGYm8qty",
        "outputId": "c74c9685-6bec-40f9-fa2e-a0d757f47649"
      },
      "source": [
        "df_future.Ticker.nunique()"
      ],
      "execution_count": null,
      "outputs": [
        {
          "output_type": "execute_result",
          "data": {
            "text/plain": [
              "1368"
            ]
          },
          "metadata": {},
          "execution_count": 14
        }
      ]
    },
    {
      "cell_type": "code",
      "metadata": {
        "id": "RVUVF7Fx-LAx"
      },
      "source": [],
      "execution_count": null,
      "outputs": []
    },
    {
      "cell_type": "code",
      "metadata": {
        "id": "9ZKgWyxE74RB"
      },
      "source": [
        "del(dft)"
      ],
      "execution_count": null,
      "outputs": []
    },
    {
      "cell_type": "markdown",
      "metadata": {
        "id": "3SEv_l2P8Ll6"
      },
      "source": [
        "# Continue data preparation"
      ]
    },
    {
      "cell_type": "code",
      "metadata": {
        "id": "0h8_yVxPZJn3"
      },
      "source": [
        "def rolling_window(a, window, step, truth=False):\n",
        "    shape = a.shape[:-1] + (math.ceil((a.shape[-1] - window + 1)/step), window)\n",
        "    strides = tuple(step*np.array(a.strides))  + (a.strides[-1],)\n",
        "    # strides = (16,8)\n",
        "    # print(strides)\n",
        "    if truth:\n",
        "      shape = tuple([shape[0], 1])\n",
        "      a = a[window-1:]\n",
        "\n",
        "    # print(shape)\n",
        "    return np.lib.stride_tricks.as_strided(a, shape=shape, strides=strides)\n",
        "\n",
        "def create_input(df, column='relative_close'):\n",
        "\n",
        "  result_x = df.groupby(['Ticker'])[column].apply(lambda x: rolling_window(x.values, 100, 10))\n",
        "  result_x = np.concatenate( result_x.values, axis=0 )\n",
        "  result_x = np.expand_dims(result_x, axis=1)\n",
        "  return result_x\n",
        "\n",
        "def create_labels(df, column='relative_future_gain'):\n",
        "\n",
        "  result_y = df.groupby(['Ticker'])[column].apply(lambda x: rolling_window(x.values, 100, 10, truth=True))\n",
        "  result_y = np.concatenate( result_y.values, axis=0 )\n",
        "  result_y = np.concatenate( result_y, axis=0 )\n",
        "\n",
        "  result_date = df.groupby(['Ticker'])['Date'].apply(lambda x: rolling_window(x.values, 100, 10, truth=True))\n",
        "  result_date = np.concatenate( result_date.values, axis=0 )\n",
        "  result_date = np.concatenate( result_date, axis=0 )\n",
        "\n",
        "  result_ticker = df.groupby(['Ticker'])['Ticker'].apply(lambda x: rolling_window(x.values, 100, 10, truth=True))\n",
        "  result_ticker = np.concatenate( result_ticker.values, axis=0 )\n",
        "  result_ticker = np.concatenate( result_ticker, axis=0 )\n",
        "\n",
        "  result_df = pd.DataFrame({column: result_y, 'start_date': result_date, 'Ticker': result_ticker})\n",
        "  result_y = np.array(list(zip(result_y, result_ticker, result_date)))\n",
        "\n",
        "  return result_y, result_df"
      ],
      "execution_count": null,
      "outputs": []
    },
    {
      "cell_type": "code",
      "metadata": {
        "id": "bZcCSns5_tJw"
      },
      "source": [
        "x = create_input(df)\n",
        "y_full, df_y = create_labels(df)\n",
        "y = y_full[:,0]\n",
        "x_future = create_input(df_future)\n",
        "y_future, df_y_future = create_labels(df_future, 'Close')"
      ],
      "execution_count": null,
      "outputs": []
    },
    {
      "cell_type": "code",
      "metadata": {
        "id": "YjAyc9tcHVhF"
      },
      "source": [],
      "execution_count": null,
      "outputs": []
    },
    {
      "cell_type": "code",
      "metadata": {
        "id": "vHnVaIOrYrPH"
      },
      "source": [
        "def plotter(df, Ticker, date_min, date_max, now_date):\n",
        "  df_cut = df[(df.Ticker == Ticker) & (df.Date >= date_min) & (df.Date <= date_max)]\n",
        "\n",
        "  plt.plot(df_cut.Date, df_cut.Close, label=\"Close price for \" + Ticker)\n",
        "  plt.plot(df_cut.Date, df_cut.ma_200 , label=\"ma 200\")\n",
        "\n",
        "  plt.axhline(y = df_cut[df_cut.Date == now_date].Close.values[0], label=\"current level\", c='g')\n",
        "  plt.axvline(x = pd.to_datetime(now_date), label=\"current date\", c='m')\n",
        "\n",
        "  plt.legend(loc=\"best\")\n",
        "  plt.show()\n",
        "  plt.close()"
      ],
      "execution_count": null,
      "outputs": []
    },
    {
      "cell_type": "code",
      "metadata": {
        "id": "avf_ZRno7eGP"
      },
      "source": [
        "from sklearn import metrics\n",
        "\n",
        "def metrics_calculations(classification_model, Xtrain, Xtest, ytrain, ytest):\n",
        "  predictions_train = classification_model.predict(Xtrain)\n",
        "  predictions_train_prob = classification_model.predict_proba(Xtrain)\n",
        "\n",
        "  predictions_test =  classification_model.predict(Xtest)\n",
        "  predictions_test_prob =  classification_model.predict_proba(Xtest)\n",
        "\n",
        "  print('confusion matrix on the test sample', metrics.confusion_matrix(ytest, predictions_test))\n",
        "  print('confusion matrix on the train sample', metrics.confusion_matrix(ytrain, predictions_train))\n",
        "  print('cross entropy on the test sample', metrics.log_loss(ytest, predictions_test_prob, eps=1e-15))\n",
        "  print('cross entropy on the train sample', metrics.log_loss(ytrain, predictions_train_prob, eps=1e-15))\n",
        "\n",
        "  return predictions_train, predictions_train_prob, predictions_test, predictions_test_prob"
      ],
      "execution_count": null,
      "outputs": []
    },
    {
      "cell_type": "code",
      "metadata": {
        "id": "PXN64vbI7oOJ"
      },
      "source": [
        "\n",
        "def prob_hists(predictions_test_prob, predictions_train_prob, y_test, y_train):\n",
        "\n",
        "  print('label 2')\n",
        "  fig = plt.figure()\n",
        "  ax = fig.add_subplot(111)\n",
        "  ax.hist(predictions_test_prob[y_test == '2'][:,2], alpha = 0.5, lw=3, color= 'b')\n",
        "  ax.hist(predictions_train_prob[y_train == '2'][:,2], alpha = 0.5, lw=3, color= 'r')\n",
        "  plt.show()\n",
        "\n",
        "  print('label 1')\n",
        "\n",
        "  fig = plt.figure()\n",
        "  ax = fig.add_subplot(111)\n",
        "  ax.hist(predictions_test_prob[y_test == '1'][:,1], alpha = 0.5, lw=3, color= 'b')\n",
        "  ax.hist(predictions_train_prob[y_train == '1'][:,1], alpha = 0.5, lw=3, color= 'r')\n",
        "  plt.show()\n",
        "\n",
        "  print('label 10')\n",
        "\n",
        "  fig = plt.figure()\n",
        "  ax = fig.add_subplot(111)\n",
        "  ax.hist(predictions_test_prob[y_test == '0'][:,0], alpha = 0.5, lw=3, color= 'b')\n",
        "  ax.hist(predictions_train_prob[y_train == '0'][:,0], alpha = 0.5, lw=3, color= 'r')\n",
        "  plt.show()"
      ],
      "execution_count": null,
      "outputs": []
    },
    {
      "cell_type": "code",
      "metadata": {
        "id": "a5tZUfuw7j2E"
      },
      "source": [],
      "execution_count": null,
      "outputs": []
    },
    {
      "cell_type": "code",
      "metadata": {
        "colab": {
          "base_uri": "https://localhost:8080/",
          "height": 145
        },
        "id": "_22hIP10f923",
        "outputId": "4aa614a7-42e6-4cd3-a235-fea4f51ba8aa"
      },
      "source": [
        "for c in [0,1,2]:\n",
        "    selection = df_y[df_y.relative_future_gain == c].values[5]\n",
        "    print(c)\n",
        "    plotter(df, selection[2],\n",
        "            pd.to_datetime(selection[1])-timedelta(days=100),\n",
        "            pd.to_datetime(selection[1])+timedelta(days=30),\n",
        "            pd.to_datetime(selection[1]))"
      ],
      "execution_count": null,
      "outputs": [
        {
          "output_type": "stream",
          "name": "stdout",
          "text": [
            "0\n"
          ]
        },
        {
          "output_type": "display_data",
          "data": {
            "image/png": "[encoded data removed]",
            "text/plain": [
              "<Figure size 432x288 with 1 Axes>"
            ]
          },
          "metadata": {
            "needs_background": "light"
          }
        },
        {
          "output_type": "stream",
          "name": "stdout",
          "text": [
            "1\n"
          ]
        },
        {
          "output_type": "display_data",
          "data": {
            "image/png": "[encoded data removed]",
            "text/plain": [
              "<Figure size 432x288 with 1 Axes>"
            ]
          },
          "metadata": {
            "needs_background": "light"
          }
        },
        {
          "output_type": "stream",
          "name": "stdout",
          "text": [
            "2\n"
          ]
        },
        {
          "output_type": "display_data",
          "data": {
            "image/png": "[encoded data removed]",
            "text/plain": [
              "<Figure size 432x288 with 1 Axes>"
            ]
          },
          "metadata": {
            "needs_background": "light"
          }
        }
      ]
    },
    {
      "cell_type": "code",
      "metadata": {
        "colab": {
          "base_uri": "https://localhost:8080/",
          "height": 145
        },
        "id": "EoQwV1u6ja_W",
        "outputId": "f292b42c-53f1-498a-ef73-e99486c8de03"
      },
      "source": [
        "for c in [0,1,2]:\n",
        "    selection = df_y[df_y.relative_future_gain == c].values[500]\n",
        "    print(c)\n",
        "    plotter(df, selection[2],\n",
        "            pd.to_datetime(selection[1])-timedelta(days=200),\n",
        "            pd.to_datetime(selection[1])+timedelta(days=30),\n",
        "            pd.to_datetime(selection[1]))"
      ],
      "execution_count": null,
      "outputs": [
        {
          "output_type": "stream",
          "name": "stdout",
          "text": [
            "0\n"
          ]
        },
        {
          "output_type": "display_data",
          "data": {
            "image/png": "[encoded data removed]",
            "text/plain": [
              "<Figure size 432x288 with 1 Axes>"
            ]
          },
          "metadata": {
            "needs_background": "light"
          }
        },
        {
          "output_type": "stream",
          "name": "stdout",
          "text": [
            "1\n"
          ]
        },
        {
          "output_type": "display_data",
          "data": {
            "image/png": "[encoded data removed]",
            "text/plain": [
              "<Figure size 432x288 with 1 Axes>"
            ]
          },
          "metadata": {
            "needs_background": "light"
          }
        },
        {
          "output_type": "stream",
          "name": "stdout",
          "text": [
            "2\n"
          ]
        },
        {
          "output_type": "display_data",
          "data": {
            "image/png": "[encoded data removed]",
            "text/plain": [
              "<Figure size 432x288 with 1 Axes>"
            ]
          },
          "metadata": {
            "needs_background": "light"
          }
        }
      ]
    },
    {
      "cell_type": "code",
      "metadata": {
        "id": "qX3prynaALFU"
      },
      "source": [
        "X_train, X_test, y_full_train, y_full_test = train_test_split(x, y_full, test_size=0.33, random_state=42)\n",
        "y_train = y_full_train[:,0]\n",
        "y_test = y_full_test[:,0]"
      ],
      "execution_count": null,
      "outputs": []
    },
    {
      "cell_type": "markdown",
      "metadata": {
        "id": "1UagijGEZ-J7"
      },
      "source": [
        "*Benchmark* model for shares\n"
      ]
    },
    {
      "cell_type": "markdown",
      "metadata": {
        "id": "HuqfV5XIANYA"
      },
      "source": [
        "# Tree Model"
      ]
    },
    {
      "cell_type": "code",
      "metadata": {
        "id": "yv7roL4TyFCD"
      },
      "source": [
        "steps = [\n",
        "    (\n",
        "        \"extract\",\n",
        "        RandomIntervalFeatureExtractor(\n",
        "            n_intervals=\"sqrt\", features=[np.mean, np.std, _slope]\n",
        "        ),\n",
        "    ),\n",
        "    (\"clf\", DecisionTreeClassifier(max_depth=10, min_samples_split=3)),\n",
        "]\n",
        "time_series_tree = Pipeline(steps)"
      ],
      "execution_count": null,
      "outputs": []
    },
    {
      "cell_type": "code",
      "metadata": {
        "id": "MQZ3ip5DacT3",
        "colab": {
          "base_uri": "https://localhost:8080/"
        },
        "outputId": "92586838-e59f-4208-f1ae-ce59adcf2480"
      },
      "source": [
        "time_series_tree.fit(X_train, y_train)\n",
        "print(time_series_tree.score(X_test, y_test))\n",
        "print(time_series_tree.score(X_train, y_train))\n"
      ],
      "execution_count": null,
      "outputs": [
        {
          "output_type": "stream",
          "name": "stdout",
          "text": [
            "0.753951800984711\n",
            "0.7931205028797524\n"
          ]
        }
      ]
    },
    {
      "cell_type": "code",
      "metadata": {
        "colab": {
          "base_uri": "https://localhost:8080/"
        },
        "id": "Wsf7rBcD7KTy",
        "outputId": "4b31b64d-3217-4931-8c02-201e6938e27d"
      },
      "source": [
        "predictions_train_tree, predictions_train_prob_tree, predictions_test_tree, predictions_test_prob_tree = metrics_calculations(time_series_tree, X_train, X_test, y_train, y_test)"
      ],
      "execution_count": null,
      "outputs": [
        {
          "output_type": "stream",
          "name": "stdout",
          "text": [
            "confusion matrix on the test sample [[  189  2418   350]\n",
            " [  299 22238   618]\n",
            " [  236  3675   849]]\n",
            "confusion matrix on the train sample [[  961  4583   521]\n",
            " [  184 46006   657]\n",
            " [  243  6779  2745]]\n",
            "cross entropy on the test sample 1.1876001606247375\n",
            "cross entropy on the train sample 0.5712817018653324\n"
          ]
        }
      ]
    },
    {
      "cell_type": "markdown",
      "metadata": {
        "id": "P2jifCk9VWh7"
      },
      "source": []
    },
    {
      "cell_type": "code",
      "metadata": {
        "colab": {
          "base_uri": "https://localhost:8080/"
        },
        "id": "l_I9EV6adLDL",
        "outputId": "9635b2d4-77e7-4110-a268-98b35964fdc1"
      },
      "source": [
        "# from sklearn import tree\n",
        "# text_representation = tree.export_text(time_series_tree[1])\n",
        "# print(text_representation)\n"
      ],
      "execution_count": null,
      "outputs": [
        {
          "output_type": "stream",
          "name": "stdout",
          "text": [
            "|--- feature_10 <= 0.12\n",
            "|   |--- feature_1 <= 0.85\n",
            "|   |   |--- feature_1 <= 0.72\n",
            "|   |   |   |--- class: 1\n",
            "|   |   |--- feature_1 >  0.72\n",
            "|   |   |   |--- class: 1\n",
            "|   |--- feature_1 >  0.85\n",
            "|   |   |--- feature_16 <= 0.03\n",
            "|   |   |   |--- class: 1\n",
            "|   |   |--- feature_16 >  0.03\n",
            "|   |   |   |--- class: 1\n",
            "|--- feature_10 >  0.12\n",
            "|   |--- feature_3 <= 0.76\n",
            "|   |   |--- feature_25 <= -0.01\n",
            "|   |   |   |--- class: 2\n",
            "|   |   |--- feature_25 >  -0.01\n",
            "|   |   |   |--- class: 1\n",
            "|   |--- feature_3 >  0.76\n",
            "|   |   |--- feature_16 <= 0.05\n",
            "|   |   |   |--- class: 1\n",
            "|   |   |--- feature_16 >  0.05\n",
            "|   |   |   |--- class: 1\n",
            "\n"
          ]
        }
      ]
    },
    {
      "cell_type": "markdown",
      "metadata": {
        "id": "E252dCqIV7wD"
      },
      "source": [
        "# Transformer test"
      ]
    },
    {
      "cell_type": "markdown",
      "metadata": {
        "id": "vGeBUWrmLML6"
      },
      "source": [
        "[link text](https://)(it looks like working, really small overtraining, and it can detect gorwth in 50% cases. But it doesn't detect drop at all. Wow, it really detects some interesting drops and cosequent raises, TO DO, play with reweighting and different learning rate (smaller learning rate is beneficial))\n",
        "\n",
        "I checked 5 example in forecast with highest ranking. Results are average. Maybe half got increase\n",
        "\n",
        "Reducting drop our helped a lot. It might continue training from the checkpoint. Resulats are in the analysis\n",
        "\n",
        "\n",
        "TO DO\n",
        "- create update and live test\n",
        "- remake realtive ratio: it easy to satysfy after the drop, each cut should be reweighed with the last value\n",
        "- live test?\n",
        "- adding seasons\n",
        "- adding volume?\n",
        "-\n"
      ]
    },
    {
      "cell_type": "code",
      "metadata": {
        "id": "4Dvqx8HcWAAb"
      },
      "source": [
        "\n",
        "\n",
        "def readucr(filename):\n",
        "    data = np.loadtxt(filename, delimiter=\"\\t\")\n",
        "    y = data[:, 0]\n",
        "    x = data[:, 1:]\n",
        "    return x, y.astype(int)"
      ],
      "execution_count": null,
      "outputs": []
    },
    {
      "cell_type": "code",
      "metadata": {
        "id": "kBhwOnJ-l56A"
      },
      "source": [
        "def transformer_format(X_train, X_test, y_train, y_test):\n",
        "  X_train_transformer = np.expand_dims(X_train, axis=3)[:,0]\n",
        "  X_test_transformer = np.expand_dims(X_test, axis=3)[:,0]\n",
        "  y_test_transformer  = np.array(list(map(int, y_test)))\n",
        "  y_train_transformer  = np.array(list(map(int, y_train)))\n",
        "  return X_train_transformer, X_test_transformer, y_test_transformer, y_train_transformer"
      ],
      "execution_count": null,
      "outputs": []
    },
    {
      "cell_type": "code",
      "metadata": {
        "id": "WbjzClmLmJun"
      },
      "source": [
        "X_train_transformer, X_test_transformer, y_test_transformer, y_train_transformer = transformer_format(X_train, X_test, y_train, y_test)\n",
        "x_future_transformer = np.expand_dims(x_future, axis=3)[:,0]"
      ],
      "execution_count": null,
      "outputs": []
    },
    {
      "cell_type": "code",
      "metadata": {
        "id": "_yvpDwfGWVUT"
      },
      "source": [
        "def transformer_encoder(inputs, head_size, num_heads, ff_dim, dropout=0):\n",
        "    # Normalization and Attention\n",
        "    x = layers.LayerNormalization(epsilon=1e-6)(inputs)\n",
        "    x = layers.MultiHeadAttention(\n",
        "        key_dim=head_size, num_heads=num_heads, dropout=dropout\n",
        "    )(x, x)\n",
        "    x = layers.Dropout(dropout)(x)\n",
        "    res = x + inputs\n",
        "\n",
        "    # Feed Forward Part\n",
        "    x = layers.LayerNormalization(epsilon=1e-6)(res)\n",
        "    x = layers.Conv1D(filters=ff_dim, kernel_size=1, activation=\"relu\")(x)\n",
        "    x = layers.Dropout(dropout)(x)\n",
        "    x = layers.Conv1D(filters=inputs.shape[-1], kernel_size=1)(x)\n",
        "    return x + res\n"
      ],
      "execution_count": null,
      "outputs": []
    },
    {
      "cell_type": "code",
      "metadata": {
        "id": "i4FbBtEFWfBq"
      },
      "source": [
        "def build_model(\n",
        "    input_shape,\n",
        "    head_size,\n",
        "    num_heads,\n",
        "    ff_dim,\n",
        "    num_transformer_blocks,\n",
        "    mlp_units,\n",
        "    dropout=0,\n",
        "    mlp_dropout=0,\n",
        "    n_classes=2\n",
        "):\n",
        "    inputs = keras.Input(shape=input_shape)\n",
        "    x = inputs\n",
        "    for _ in range(num_transformer_blocks):\n",
        "        x = transformer_encoder(x, head_size, num_heads, ff_dim, dropout)\n",
        "\n",
        "    x = layers.GlobalAveragePooling1D(data_format=\"channels_first\")(x)\n",
        "    for dim in mlp_units:\n",
        "        x = layers.Dense(dim, activation=\"relu\")(x)\n",
        "        x = layers.Dropout(mlp_dropout)(x)\n",
        "    outputs = layers.Dense(n_classes, activation=\"softmax\")(x)\n",
        "    return keras.Model(inputs, outputs)\n"
      ],
      "execution_count": null,
      "outputs": []
    },
    {
      "cell_type": "code",
      "metadata": {
        "colab": {
          "base_uri": "https://localhost:8080/"
        },
        "id": "ADluKbmV6kNN",
        "outputId": "8d2d8419-574b-4cea-d4f0-e9007630b352"
      },
      "source": [
        "len(np.unique(y_train_transformer))"
      ],
      "execution_count": null,
      "outputs": [
        {
          "output_type": "execute_result",
          "data": {
            "text/plain": [
              "3"
            ]
          },
          "metadata": {},
          "execution_count": 26
        }
      ]
    },
    {
      "cell_type": "code",
      "metadata": {
        "colab": {
          "base_uri": "https://localhost:8080/"
        },
        "id": "KYDJDZ9RlCWa",
        "outputId": "94883876-2f14-43b8-bf31-a10e0030468e"
      },
      "source": [
        "# model.save('gdrive/MyDrive/richbich/transformers')\n"
      ],
      "execution_count": null,
      "outputs": [
        {
          "output_type": "stream",
          "name": "stderr",
          "text": [
            "WARNING:absl:Found untraced functions such as query_layer_call_fn, query_layer_call_and_return_conditional_losses, key_layer_call_fn, key_layer_call_and_return_conditional_losses, value_layer_call_fn while saving (showing 5 of 60). These functions will not be directly callable after loading.\n"
          ]
        },
        {
          "output_type": "stream",
          "name": "stdout",
          "text": [
            "INFO:tensorflow:Assets written to: gdrive/MyDrive/richbich/transformers/assets\n"
          ]
        },
        {
          "output_type": "stream",
          "name": "stderr",
          "text": [
            "INFO:tensorflow:Assets written to: gdrive/MyDrive/richbich/transformers/assets\n"
          ]
        }
      ]
    },
    {
      "cell_type": "code",
      "metadata": {
        "id": "_-xZdHMUlCem"
      },
      "source": [
        "# model = keras.models.load_model('gdrive/MyDrive/richbich/transformers')\n"
      ],
      "execution_count": null,
      "outputs": []
    },
    {
      "cell_type": "code",
      "metadata": {
        "colab": {
          "base_uri": "https://localhost:8080/"
        },
        "id": "LWIqNFlCu0hf",
        "outputId": "35530060-5791-452f-f58d-9bf69637b1c6"
      },
      "source": [
        "# model.save('gdrive/MyDrive/richbich/transformers_decay_learning_weights')\n"
      ],
      "execution_count": null,
      "outputs": [
        {
          "output_type": "stream",
          "name": "stderr",
          "text": [
            "WARNING:absl:Found untraced functions such as query_layer_call_fn, query_layer_call_and_return_conditional_losses, key_layer_call_fn, key_layer_call_and_return_conditional_losses, value_layer_call_fn while saving (showing 5 of 60). These functions will not be directly callable after loading.\n"
          ]
        },
        {
          "output_type": "stream",
          "name": "stdout",
          "text": [
            "INFO:tensorflow:Assets written to: gdrive/MyDrive/richbich/transformers_decay_learning_weights/assets\n"
          ]
        },
        {
          "output_type": "stream",
          "name": "stderr",
          "text": [
            "INFO:tensorflow:Assets written to: gdrive/MyDrive/richbich/transformers_decay_learning_weights/assets\n"
          ]
        }
      ]
    },
    {
      "cell_type": "code",
      "metadata": {
        "id": "1K7pFSUmA0xq"
      },
      "source": [
        "model = keras.models.load_model('gdrive/MyDrive/richbich/transformers_decay_learning_weights')\n"
      ],
      "execution_count": null,
      "outputs": []
    },
    {
      "cell_type": "code",
      "metadata": {
        "colab": {
          "base_uri": "https://localhost:8080/"
        },
        "id": "BbC78c1zVQVd",
        "outputId": "c82ed515-3663-4ba1-df75-30880899cfd6"
      },
      "source": [
        "# model.save('gdrive/MyDrive/richbich/transformers_decay_reweighted')\n"
      ],
      "execution_count": null,
      "outputs": [
        {
          "output_type": "stream",
          "name": "stderr",
          "text": [
            "WARNING:absl:Found untraced functions such as query_layer_call_fn, query_layer_call_and_return_conditional_losses, key_layer_call_fn, key_layer_call_and_return_conditional_losses, value_layer_call_fn while saving (showing 5 of 60). These functions will not be directly callable after loading.\n"
          ]
        },
        {
          "output_type": "stream",
          "name": "stdout",
          "text": [
            "INFO:tensorflow:Assets written to: gdrive/MyDrive/richbich/transformers_decay_reweighted/assets\n"
          ]
        },
        {
          "output_type": "stream",
          "name": "stderr",
          "text": [
            "INFO:tensorflow:Assets written to: gdrive/MyDrive/richbich/transformers_decay_reweighted/assets\n"
          ]
        }
      ]
    },
    {
      "cell_type": "code",
      "metadata": {
        "id": "ySq8BaBgXCXW",
        "colab": {
          "base_uri": "https://localhost:8080/"
        },
        "outputId": "9e32a49c-8342-4bb8-fa89-d193f6b535c8"
      },
      "source": [
        "# model.save('gdrive/MyDrive/richbich/transformers_full_final')\n"
      ],
      "execution_count": null,
      "outputs": [
        {
          "output_type": "stream",
          "name": "stderr",
          "text": [
            "WARNING:absl:Found untraced functions such as query_layer_call_fn, query_layer_call_and_return_conditional_losses, key_layer_call_fn, key_layer_call_and_return_conditional_losses, value_layer_call_fn while saving (showing 5 of 60). These functions will not be directly callable after loading.\n"
          ]
        },
        {
          "output_type": "stream",
          "name": "stdout",
          "text": [
            "INFO:tensorflow:Assets written to: gdrive/MyDrive/richbich/transformers_full_final/assets\n"
          ]
        },
        {
          "output_type": "stream",
          "name": "stderr",
          "text": [
            "INFO:tensorflow:Assets written to: gdrive/MyDrive/richbich/transformers_full_final/assets\n"
          ]
        }
      ]
    },
    {
      "cell_type": "code",
      "metadata": {
        "id": "pKv6lMgZgKph"
      },
      "source": [
        "model = keras.models.load_model('gdrive/MyDrive/richbich/transformers_full')\n"
      ],
      "execution_count": null,
      "outputs": []
    },
    {
      "cell_type": "code",
      "metadata": {
        "colab": {
          "base_uri": "https://localhost:8080/"
        },
        "id": "-fHxX24w5ap_",
        "outputId": "438c90c6-17c9-428a-e2b4-00cdbff7ef83"
      },
      "source": [
        "input_shape = X_train_transformer.shape[1:]\n",
        "n_classes=len(np.unique(y_train_transformer))\n",
        "# weights = Counter(y_train_transformer)\n",
        "# class_weight = {0: weights[1]/weights[0],\n",
        "#                 1: 1.,\n",
        "#                 2: weights[1]/weights[2]}\n",
        "\n",
        "\n",
        "model = build_model(\n",
        "    input_shape,\n",
        "    head_size=256,\n",
        "    num_heads=4,\n",
        "    ff_dim=4,\n",
        "    num_transformer_blocks=2,\n",
        "    mlp_units=[32],\n",
        "    mlp_dropout=0.05, # dropout of final layer\n",
        "    dropout=0.05, # dropout of transformers\n",
        "    n_classes=n_classes,\n",
        ")\n",
        "\n",
        "\n",
        "# lr_schedule = keras.optimizers.schedules.ExponentialDecay(\n",
        "#     initial_learning_rate=1e-3,\n",
        "#     decay_steps=50,\n",
        "#     decay_rate=0.1)\n",
        "optimizer = keras.optimizers.Adam(learning_rate=0.001)\n",
        "\n",
        "model.compile(\n",
        "    loss=\"sparse_categorical_crossentropy\",\n",
        "    optimizer=optimizer,\n",
        "    metrics=[\"sparse_categorical_accuracy\"],\n",
        ")\n",
        "\n",
        "# categorical_crossentropy\n",
        "model.summary()\n",
        "filepath = 'gdrive/MyDrive/richbich/transformers_full'\n",
        "checkpoint = keras.callbacks.ModelCheckpoint(filepath, monitor='sparse_categorical_accuracy', verbose=1, save_best_only=True, mode='max')\n",
        "callbacks = [checkpoint,\n",
        "             keras.callbacks.EarlyStopping(patience=5, restore_best_weights=True)]\n",
        "\n",
        "model.fit(\n",
        "    X_train_transformer,\n",
        "    y_train_transformer,\n",
        "    validation_split=0.2,\n",
        "    epochs=50,\n",
        "    batch_size=128,\n",
        "    callbacks=callbacks,\n",
        "    # class_weight=class_weight,\n",
        ")\n",
        "\n",
        "print(model.evaluate(X_test_transformer, y_test_transformer, verbose=1))\n",
        "model.evaluate(X_train_transformer, y_train_transformer, verbose=1)"
      ],
      "execution_count": null,
      "outputs": [
        {
          "metadata": {
            "tags": null
          },
          "name": "stdout",
          "output_type": "stream",
          "text": [
            "Model: \"model_4\"\n",
            "__________________________________________________________________________________________________\n",
            " Layer (type)                   Output Shape         Param #     Connected to                     \n",
            "==================================================================================================\n",
            " input_5 (InputLayer)           [(None, 100, 1)]     0           []                               \n",
            "                                                                                                  \n",
            " layer_normalization_16 (LayerN  (None, 100, 1)      2           ['input_5[0][0]']                \n",
            " ormalization)                                                                                    \n",
            "                                                                                                  \n",
            " multi_head_attention_8 (MultiH  (None, 100, 1)      7169        ['layer_normalization_16[0][0]', \n",
            " eadAttention)                                                    'layer_normalization_16[0][0]'] \n",
            "                                                                                                  \n",
            " dropout_24 (Dropout)           (None, 100, 1)       0           ['multi_head_attention_8[0][0]'] \n",
            "                                                                                                  \n",
            " tf.__operators__.add_24 (TFOpL  (None, 100, 1)      0           ['dropout_24[0][0]',             \n",
            " ambda)                                                           'input_5[0][0]']                \n",
            "                                                                                                  \n",
            " layer_normalization_17 (LayerN  (None, 100, 1)      2           ['tf.__operators__.add_24[0][0]']\n",
            " ormalization)                                                                                    \n",
            "                                                                                                  \n",
            " conv1d_16 (Conv1D)             (None, 100, 4)       8           ['layer_normalization_17[0][0]'] \n",
            "                                                                                                  \n",
            " dropout_25 (Dropout)           (None, 100, 4)       0           ['conv1d_16[0][0]']              \n",
            "                                                                                                  \n",
            " conv1d_17 (Conv1D)             (None, 100, 1)       5           ['dropout_25[0][0]']             \n",
            "                                                                                                  \n",
            " tf.__operators__.add_25 (TFOpL  (None, 100, 1)      0           ['conv1d_17[0][0]',              \n",
            " ambda)                                                           'tf.__operators__.add_24[0][0]']\n",
            "                                                                                                  \n",
            " layer_normalization_18 (LayerN  (None, 100, 1)      2           ['tf.__operators__.add_25[0][0]']\n",
            " ormalization)                                                                                    \n",
            "                                                                                                  \n",
            " multi_head_attention_9 (MultiH  (None, 100, 1)      7169        ['layer_normalization_18[0][0]', \n",
            " eadAttention)                                                    'layer_normalization_18[0][0]'] \n",
            "                                                                                                  \n",
            " dropout_26 (Dropout)           (None, 100, 1)       0           ['multi_head_attention_9[0][0]'] \n",
            "                                                                                                  \n",
            " tf.__operators__.add_26 (TFOpL  (None, 100, 1)      0           ['dropout_26[0][0]',             \n",
            " ambda)                                                           'tf.__operators__.add_25[0][0]']\n",
            "                                                                                                  \n",
            " layer_normalization_19 (LayerN  (None, 100, 1)      2           ['tf.__operators__.add_26[0][0]']\n",
            " ormalization)                                                                                    \n",
            "                                                                                                  \n",
            " conv1d_18 (Conv1D)             (None, 100, 4)       8           ['layer_normalization_19[0][0]'] \n",
            "                                                                                                  \n",
            " dropout_27 (Dropout)           (None, 100, 4)       0           ['conv1d_18[0][0]']              \n",
            "                                                                                                  \n",
            " conv1d_19 (Conv1D)             (None, 100, 1)       5           ['dropout_27[0][0]']             \n",
            "                                                                                                  \n",
            " tf.__operators__.add_27 (TFOpL  (None, 100, 1)      0           ['conv1d_19[0][0]',              \n",
            " ambda)                                                           'tf.__operators__.add_26[0][0]']\n",
            "                                                                                                  \n",
            " global_average_pooling1d_4 (Gl  (None, 100)         0           ['tf.__operators__.add_27[0][0]']\n",
            " obalAveragePooling1D)                                                                            \n",
            "                                                                                                  \n",
            " dense_8 (Dense)                (None, 32)           3232        ['global_average_pooling1d_4[0][0\n",
            "                                                                 ]']                              \n",
            "                                                                                                  \n",
            " dropout_28 (Dropout)           (None, 32)           0           ['dense_8[0][0]']                \n",
            "                                                                                                  \n",
            " dense_9 (Dense)                (None, 3)            99          ['dropout_28[0][0]']             \n",
            "                                                                                                  \n",
            "==================================================================================================\n",
            "Total params: 17,703\n",
            "Trainable params: 17,703\n",
            "Non-trainable params: 0\n",
            "__________________________________________________________________________________________________\n",
            "Epoch 1/50\n",
            "3145/3145 [==============================] - ETA: 0s - loss: 0.9130 - sparse_categorical_accuracy: 0.6023\n",
            "Epoch 00001: sparse_categorical_accuracy improved from -inf to 0.60226, saving model to gdrive/MyDrive/richbich/transformers_full\n"
          ]
        },
        {
          "metadata": {
            "tags": null
          },
          "name": "stderr",
          "output_type": "stream",
          "text": [
            "WARNING:absl:Found untraced functions such as query_layer_call_fn, query_layer_call_and_return_conditional_losses, key_layer_call_fn, key_layer_call_and_return_conditional_losses, value_layer_call_fn while saving (showing 5 of 60). These functions will not be directly callable after loading.\n"
          ]
        },
        {
          "metadata": {
            "tags": null
          },
          "name": "stdout",
          "output_type": "stream",
          "text": [
            "INFO:tensorflow:Assets written to: gdrive/MyDrive/richbich/transformers_full/assets\n"
          ]
        },
        {
          "metadata": {
            "tags": null
          },
          "name": "stderr",
          "output_type": "stream",
          "text": [
            "INFO:tensorflow:Assets written to: gdrive/MyDrive/richbich/transformers_full/assets\n"
          ]
        },
        {
          "metadata": {
            "tags": null
          },
          "name": "stdout",
          "output_type": "stream",
          "text": [
            "3145/3145 [==============================] - 399s 126ms/step - loss: 0.9130 - sparse_categorical_accuracy: 0.6023 - val_loss: 0.8730 - val_sparse_categorical_accuracy: 0.6169\n",
            "Epoch 2/50\n",
            "3145/3145 [==============================] - ETA: 0s - loss: 0.8750 - sparse_categorical_accuracy: 0.6153\n",
            "Epoch 00002: sparse_categorical_accuracy improved from 0.60226 to 0.61527, saving model to gdrive/MyDrive/richbich/transformers_full\n"
          ]
        },
        {
          "metadata": {
            "tags": null
          },
          "name": "stderr",
          "output_type": "stream",
          "text": [
            "WARNING:absl:Found untraced functions such as query_layer_call_fn, query_layer_call_and_return_conditional_losses, key_layer_call_fn, key_layer_call_and_return_conditional_losses, value_layer_call_fn while saving (showing 5 of 60). These functions will not be directly callable after loading.\n"
          ]
        },
        {
          "metadata": {
            "tags": null
          },
          "name": "stdout",
          "output_type": "stream",
          "text": [
            "INFO:tensorflow:Assets written to: gdrive/MyDrive/richbich/transformers_full/assets\n"
          ]
        },
        {
          "metadata": {
            "tags": null
          },
          "name": "stderr",
          "output_type": "stream",
          "text": [
            "INFO:tensorflow:Assets written to: gdrive/MyDrive/richbich/transformers_full/assets\n"
          ]
        },
        {
          "metadata": {
            "tags": null
          },
          "name": "stdout",
          "output_type": "stream",
          "text": [
            "3145/3145 [==============================] - 386s 123ms/step - loss: 0.8750 - sparse_categorical_accuracy: 0.6153 - val_loss: 0.8725 - val_sparse_categorical_accuracy: 0.6207\n",
            "Epoch 3/50\n",
            "3145/3145 [==============================] - ETA: 0s - loss: 0.8660 - sparse_categorical_accuracy: 0.6171\n",
            "Epoch 00003: sparse_categorical_accuracy improved from 0.61527 to 0.61708, saving model to gdrive/MyDrive/richbich/transformers_full\n"
          ]
        },
        {
          "metadata": {
            "tags": null
          },
          "name": "stderr",
          "output_type": "stream",
          "text": [
            "WARNING:absl:Found untraced functions such as query_layer_call_fn, query_layer_call_and_return_conditional_losses, key_layer_call_fn, key_layer_call_and_return_conditional_losses, value_layer_call_fn while saving (showing 5 of 60). These functions will not be directly callable after loading.\n"
          ]
        },
        {
          "metadata": {
            "tags": null
          },
          "name": "stdout",
          "output_type": "stream",
          "text": [
            "INFO:tensorflow:Assets written to: gdrive/MyDrive/richbich/transformers_full/assets\n"
          ]
        },
        {
          "metadata": {
            "tags": null
          },
          "name": "stderr",
          "output_type": "stream",
          "text": [
            "INFO:tensorflow:Assets written to: gdrive/MyDrive/richbich/transformers_full/assets\n"
          ]
        },
        {
          "metadata": {
            "tags": null
          },
          "name": "stdout",
          "output_type": "stream",
          "text": [
            "3145/3145 [==============================] - 387s 123ms/step - loss: 0.8660 - sparse_categorical_accuracy: 0.6171 - val_loss: 0.8624 - val_sparse_categorical_accuracy: 0.6210\n",
            "Epoch 4/50\n",
            "3145/3145 [==============================] - ETA: 0s - loss: 0.8601 - sparse_categorical_accuracy: 0.6181\n",
            "Epoch 00004: sparse_categorical_accuracy improved from 0.61708 to 0.61815, saving model to gdrive/MyDrive/richbich/transformers_full\n"
          ]
        },
        {
          "metadata": {
            "tags": null
          },
          "name": "stderr",
          "output_type": "stream",
          "text": [
            "WARNING:absl:Found untraced functions such as query_layer_call_fn, query_layer_call_and_return_conditional_losses, key_layer_call_fn, key_layer_call_and_return_conditional_losses, value_layer_call_fn while saving (showing 5 of 60). These functions will not be directly callable after loading.\n"
          ]
        },
        {
          "metadata": {
            "tags": null
          },
          "name": "stdout",
          "output_type": "stream",
          "text": [
            "INFO:tensorflow:Assets written to: gdrive/MyDrive/richbich/transformers_full/assets\n"
          ]
        },
        {
          "metadata": {
            "tags": null
          },
          "name": "stderr",
          "output_type": "stream",
          "text": [
            "INFO:tensorflow:Assets written to: gdrive/MyDrive/richbich/transformers_full/assets\n"
          ]
        },
        {
          "metadata": {
            "tags": null
          },
          "name": "stdout",
          "output_type": "stream",
          "text": [
            "3145/3145 [==============================] - 386s 123ms/step - loss: 0.8601 - sparse_categorical_accuracy: 0.6181 - val_loss: 0.8593 - val_sparse_categorical_accuracy: 0.6209\n",
            "Epoch 5/50\n",
            "3145/3145 [==============================] - ETA: 0s - loss: 0.8590 - sparse_categorical_accuracy: 0.6186\n",
            "Epoch 00005: sparse_categorical_accuracy improved from 0.61815 to 0.61858, saving model to gdrive/MyDrive/richbich/transformers_full\n"
          ]
        },
        {
          "metadata": {
            "tags": null
          },
          "name": "stderr",
          "output_type": "stream",
          "text": [
            "WARNING:absl:Found untraced functions such as query_layer_call_fn, query_layer_call_and_return_conditional_losses, key_layer_call_fn, key_layer_call_and_return_conditional_losses, value_layer_call_fn while saving (showing 5 of 60). These functions will not be directly callable after loading.\n"
          ]
        },
        {
          "metadata": {
            "tags": null
          },
          "name": "stdout",
          "output_type": "stream",
          "text": [
            "INFO:tensorflow:Assets written to: gdrive/MyDrive/richbich/transformers_full/assets\n"
          ]
        },
        {
          "metadata": {
            "tags": null
          },
          "name": "stderr",
          "output_type": "stream",
          "text": [
            "INFO:tensorflow:Assets written to: gdrive/MyDrive/richbich/transformers_full/assets\n"
          ]
        },
        {
          "metadata": {
            "tags": null
          },
          "name": "stdout",
          "output_type": "stream",
          "text": [
            "3145/3145 [==============================] - 396s 126ms/step - loss: 0.8590 - sparse_categorical_accuracy: 0.6186 - val_loss: 0.8582 - val_sparse_categorical_accuracy: 0.6225\n",
            "Epoch 6/50\n",
            "3145/3145 [==============================] - ETA: 0s - loss: 0.8558 - sparse_categorical_accuracy: 0.6197\n",
            "Epoch 00006: sparse_categorical_accuracy improved from 0.61858 to 0.61969, saving model to gdrive/MyDrive/richbich/transformers_full\n"
          ]
        },
        {
          "metadata": {
            "tags": null
          },
          "name": "stderr",
          "output_type": "stream",
          "text": [
            "WARNING:absl:Found untraced functions such as query_layer_call_fn, query_layer_call_and_return_conditional_losses, key_layer_call_fn, key_layer_call_and_return_conditional_losses, value_layer_call_fn while saving (showing 5 of 60). These functions will not be directly callable after loading.\n"
          ]
        },
        {
          "metadata": {
            "tags": null
          },
          "name": "stdout",
          "output_type": "stream",
          "text": [
            "INFO:tensorflow:Assets written to: gdrive/MyDrive/richbich/transformers_full/assets\n"
          ]
        },
        {
          "metadata": {
            "tags": null
          },
          "name": "stderr",
          "output_type": "stream",
          "text": [
            "INFO:tensorflow:Assets written to: gdrive/MyDrive/richbich/transformers_full/assets\n"
          ]
        },
        {
          "metadata": {
            "tags": null
          },
          "name": "stdout",
          "output_type": "stream",
          "text": [
            "3145/3145 [==============================] - 385s 122ms/step - loss: 0.8558 - sparse_categorical_accuracy: 0.6197 - val_loss: 0.8577 - val_sparse_categorical_accuracy: 0.6213\n",
            "Epoch 7/50\n",
            "3145/3145 [==============================] - ETA: 0s - loss: 0.8548 - sparse_categorical_accuracy: 0.6201\n",
            "Epoch 00007: sparse_categorical_accuracy improved from 0.61969 to 0.62013, saving model to gdrive/MyDrive/richbich/transformers_full\n"
          ]
        },
        {
          "metadata": {
            "tags": null
          },
          "name": "stderr",
          "output_type": "stream",
          "text": [
            "WARNING:absl:Found untraced functions such as query_layer_call_fn, query_layer_call_and_return_conditional_losses, key_layer_call_fn, key_layer_call_and_return_conditional_losses, value_layer_call_fn while saving (showing 5 of 60). These functions will not be directly callable after loading.\n"
          ]
        },
        {
          "metadata": {
            "tags": null
          },
          "name": "stdout",
          "output_type": "stream",
          "text": [
            "INFO:tensorflow:Assets written to: gdrive/MyDrive/richbich/transformers_full/assets\n"
          ]
        },
        {
          "metadata": {
            "tags": null
          },
          "name": "stderr",
          "output_type": "stream",
          "text": [
            "INFO:tensorflow:Assets written to: gdrive/MyDrive/richbich/transformers_full/assets\n"
          ]
        },
        {
          "metadata": {
            "tags": null
          },
          "name": "stdout",
          "output_type": "stream",
          "text": [
            "3145/3145 [==============================] - 386s 123ms/step - loss: 0.8548 - sparse_categorical_accuracy: 0.6201 - val_loss: 0.8565 - val_sparse_categorical_accuracy: 0.6229\n",
            "Epoch 8/50\n",
            "3145/3145 [==============================] - ETA: 0s - loss: 0.8528 - sparse_categorical_accuracy: 0.6204\n",
            "Epoch 00008: sparse_categorical_accuracy improved from 0.62013 to 0.62039, saving model to gdrive/MyDrive/richbich/transformers_full\n"
          ]
        },
        {
          "metadata": {
            "tags": null
          },
          "name": "stderr",
          "output_type": "stream",
          "text": [
            "WARNING:absl:Found untraced functions such as query_layer_call_fn, query_layer_call_and_return_conditional_losses, key_layer_call_fn, key_layer_call_and_return_conditional_losses, value_layer_call_fn while saving (showing 5 of 60). These functions will not be directly callable after loading.\n"
          ]
        },
        {
          "metadata": {
            "tags": null
          },
          "name": "stdout",
          "output_type": "stream",
          "text": [
            "INFO:tensorflow:Assets written to: gdrive/MyDrive/richbich/transformers_full/assets\n"
          ]
        },
        {
          "metadata": {
            "tags": null
          },
          "name": "stderr",
          "output_type": "stream",
          "text": [
            "INFO:tensorflow:Assets written to: gdrive/MyDrive/richbich/transformers_full/assets\n"
          ]
        },
        {
          "metadata": {
            "tags": null
          },
          "name": "stdout",
          "output_type": "stream",
          "text": [
            "3145/3145 [==============================] - 384s 122ms/step - loss: 0.8528 - sparse_categorical_accuracy: 0.6204 - val_loss: 0.8564 - val_sparse_categorical_accuracy: 0.6241\n",
            "Epoch 9/50\n",
            "3145/3145 [==============================] - ETA: 0s - loss: 0.8515 - sparse_categorical_accuracy: 0.6209\n",
            "Epoch 00009: sparse_categorical_accuracy improved from 0.62039 to 0.62091, saving model to gdrive/MyDrive/richbich/transformers_full\n"
          ]
        },
        {
          "metadata": {
            "tags": null
          },
          "name": "stderr",
          "output_type": "stream",
          "text": [
            "WARNING:absl:Found untraced functions such as query_layer_call_fn, query_layer_call_and_return_conditional_losses, key_layer_call_fn, key_layer_call_and_return_conditional_losses, value_layer_call_fn while saving (showing 5 of 60). These functions will not be directly callable after loading.\n"
          ]
        },
        {
          "metadata": {
            "tags": null
          },
          "name": "stdout",
          "output_type": "stream",
          "text": [
            "INFO:tensorflow:Assets written to: gdrive/MyDrive/richbich/transformers_full/assets\n"
          ]
        },
        {
          "metadata": {
            "tags": null
          },
          "name": "stderr",
          "output_type": "stream",
          "text": [
            "INFO:tensorflow:Assets written to: gdrive/MyDrive/richbich/transformers_full/assets\n"
          ]
        },
        {
          "metadata": {
            "tags": null
          },
          "name": "stdout",
          "output_type": "stream",
          "text": [
            "3145/3145 [==============================] - 395s 126ms/step - loss: 0.8515 - sparse_categorical_accuracy: 0.6209 - val_loss: 0.8560 - val_sparse_categorical_accuracy: 0.6239\n",
            "Epoch 10/50\n",
            "3145/3145 [==============================] - ETA: 0s - loss: 0.8512 - sparse_categorical_accuracy: 0.6211\n",
            "Epoch 00010: sparse_categorical_accuracy improved from 0.62091 to 0.62108, saving model to gdrive/MyDrive/richbich/transformers_full\n"
          ]
        },
        {
          "metadata": {
            "tags": null
          },
          "name": "stderr",
          "output_type": "stream",
          "text": [
            "WARNING:absl:Found untraced functions such as query_layer_call_fn, query_layer_call_and_return_conditional_losses, key_layer_call_fn, key_layer_call_and_return_conditional_losses, value_layer_call_fn while saving (showing 5 of 60). These functions will not be directly callable after loading.\n"
          ]
        },
        {
          "metadata": {
            "tags": null
          },
          "name": "stdout",
          "output_type": "stream",
          "text": [
            "INFO:tensorflow:Assets written to: gdrive/MyDrive/richbich/transformers_full/assets\n"
          ]
        },
        {
          "metadata": {
            "tags": null
          },
          "name": "stderr",
          "output_type": "stream",
          "text": [
            "INFO:tensorflow:Assets written to: gdrive/MyDrive/richbich/transformers_full/assets\n"
          ]
        },
        {
          "metadata": {
            "tags": null
          },
          "name": "stdout",
          "output_type": "stream",
          "text": [
            "3145/3145 [==============================] - 396s 126ms/step - loss: 0.8512 - sparse_categorical_accuracy: 0.6211 - val_loss: 0.8564 - val_sparse_categorical_accuracy: 0.6243\n",
            "Epoch 11/50\n",
            "3145/3145 [==============================] - ETA: 0s - loss: 0.8501 - sparse_categorical_accuracy: 0.6217\n",
            "Epoch 00011: sparse_categorical_accuracy improved from 0.62108 to 0.62168, saving model to gdrive/MyDrive/richbich/transformers_full\n"
          ]
        },
        {
          "metadata": {
            "tags": null
          },
          "name": "stderr",
          "output_type": "stream",
          "text": [
            "WARNING:absl:Found untraced functions such as query_layer_call_fn, query_layer_call_and_return_conditional_losses, key_layer_call_fn, key_layer_call_and_return_conditional_losses, value_layer_call_fn while saving (showing 5 of 60). These functions will not be directly callable after loading.\n"
          ]
        },
        {
          "metadata": {
            "tags": null
          },
          "name": "stdout",
          "output_type": "stream",
          "text": [
            "INFO:tensorflow:Assets written to: gdrive/MyDrive/richbich/transformers_full/assets\n"
          ]
        },
        {
          "metadata": {
            "tags": null
          },
          "name": "stderr",
          "output_type": "stream",
          "text": [
            "INFO:tensorflow:Assets written to: gdrive/MyDrive/richbich/transformers_full/assets\n"
          ]
        },
        {
          "metadata": {
            "tags": null
          },
          "name": "stdout",
          "output_type": "stream",
          "text": [
            "3145/3145 [==============================] - 396s 126ms/step - loss: 0.8501 - sparse_categorical_accuracy: 0.6217 - val_loss: 0.8556 - val_sparse_categorical_accuracy: 0.6249\n",
            "Epoch 12/50\n",
            "3145/3145 [==============================] - ETA: 0s - loss: 0.8494 - sparse_categorical_accuracy: 0.6215\n",
            "Epoch 00012: sparse_categorical_accuracy did not improve from 0.62168\n",
            "3145/3145 [==============================] - 383s 122ms/step - loss: 0.8494 - sparse_categorical_accuracy: 0.6215 - val_loss: 0.8589 - val_sparse_categorical_accuracy: 0.6221\n",
            "Epoch 13/50\n",
            "3145/3145 [==============================] - ETA: 0s - loss: 0.8494 - sparse_categorical_accuracy: 0.6220\n",
            "Epoch 00013: sparse_categorical_accuracy improved from 0.62168 to 0.62202, saving model to gdrive/MyDrive/richbich/transformers_full\n"
          ]
        },
        {
          "metadata": {
            "tags": null
          },
          "name": "stderr",
          "output_type": "stream",
          "text": [
            "WARNING:absl:Found untraced functions such as query_layer_call_fn, query_layer_call_and_return_conditional_losses, key_layer_call_fn, key_layer_call_and_return_conditional_losses, value_layer_call_fn while saving (showing 5 of 60). These functions will not be directly callable after loading.\n"
          ]
        },
        {
          "metadata": {
            "tags": null
          },
          "name": "stdout",
          "output_type": "stream",
          "text": [
            "INFO:tensorflow:Assets written to: gdrive/MyDrive/richbich/transformers_full/assets\n"
          ]
        },
        {
          "metadata": {
            "tags": null
          },
          "name": "stderr",
          "output_type": "stream",
          "text": [
            "INFO:tensorflow:Assets written to: gdrive/MyDrive/richbich/transformers_full/assets\n"
          ]
        },
        {
          "metadata": {
            "tags": null
          },
          "name": "stdout",
          "output_type": "stream",
          "text": [
            "3145/3145 [==============================] - 388s 123ms/step - loss: 0.8494 - sparse_categorical_accuracy: 0.6220 - val_loss: 0.8554 - val_sparse_categorical_accuracy: 0.6255\n",
            "Epoch 14/50\n",
            "3145/3145 [==============================] - ETA: 0s - loss: 0.8481 - sparse_categorical_accuracy: 0.6225\n",
            "Epoch 00014: sparse_categorical_accuracy improved from 0.62202 to 0.62254, saving model to gdrive/MyDrive/richbich/transformers_full\n"
          ]
        },
        {
          "metadata": {
            "tags": null
          },
          "name": "stderr",
          "output_type": "stream",
          "text": [
            "WARNING:absl:Found untraced functions such as query_layer_call_fn, query_layer_call_and_return_conditional_losses, key_layer_call_fn, key_layer_call_and_return_conditional_losses, value_layer_call_fn while saving (showing 5 of 60). These functions will not be directly callable after loading.\n"
          ]
        },
        {
          "metadata": {
            "tags": null
          },
          "name": "stdout",
          "output_type": "stream",
          "text": [
            "INFO:tensorflow:Assets written to: gdrive/MyDrive/richbich/transformers_full/assets\n"
          ]
        },
        {
          "metadata": {
            "tags": null
          },
          "name": "stderr",
          "output_type": "stream",
          "text": [
            "INFO:tensorflow:Assets written to: gdrive/MyDrive/richbich/transformers_full/assets\n"
          ]
        },
        {
          "metadata": {
            "tags": null
          },
          "name": "stdout",
          "output_type": "stream",
          "text": [
            "3145/3145 [==============================] - 397s 126ms/step - loss: 0.8481 - sparse_categorical_accuracy: 0.6225 - val_loss: 0.8552 - val_sparse_categorical_accuracy: 0.6258\n",
            "Epoch 15/50\n",
            "3145/3145 [==============================] - ETA: 0s - loss: 0.8483 - sparse_categorical_accuracy: 0.6224\n",
            "Epoch 00015: sparse_categorical_accuracy did not improve from 0.62254\n",
            "3145/3145 [==============================] - 383s 122ms/step - loss: 0.8483 - sparse_categorical_accuracy: 0.6224 - val_loss: 0.8547 - val_sparse_categorical_accuracy: 0.6258\n",
            "Epoch 16/50\n",
            "3145/3145 [==============================] - ETA: 0s - loss: 0.8475 - sparse_categorical_accuracy: 0.6223\n",
            "Epoch 00016: sparse_categorical_accuracy did not improve from 0.62254\n",
            "3145/3145 [==============================] - 383s 122ms/step - loss: 0.8475 - sparse_categorical_accuracy: 0.6223 - val_loss: 0.8545 - val_sparse_categorical_accuracy: 0.6250\n",
            "Epoch 17/50\n",
            "3145/3145 [==============================] - ETA: 0s - loss: 0.8467 - sparse_categorical_accuracy: 0.6227\n",
            "Epoch 00017: sparse_categorical_accuracy improved from 0.62254 to 0.62266, saving model to gdrive/MyDrive/richbich/transformers_full\n"
          ]
        },
        {
          "metadata": {
            "tags": null
          },
          "name": "stderr",
          "output_type": "stream",
          "text": [
            "WARNING:absl:Found untraced functions such as query_layer_call_fn, query_layer_call_and_return_conditional_losses, key_layer_call_fn, key_layer_call_and_return_conditional_losses, value_layer_call_fn while saving (showing 5 of 60). These functions will not be directly callable after loading.\n"
          ]
        },
        {
          "metadata": {
            "tags": null
          },
          "name": "stdout",
          "output_type": "stream",
          "text": [
            "INFO:tensorflow:Assets written to: gdrive/MyDrive/richbich/transformers_full/assets\n"
          ]
        },
        {
          "metadata": {
            "tags": null
          },
          "name": "stderr",
          "output_type": "stream",
          "text": [
            "INFO:tensorflow:Assets written to: gdrive/MyDrive/richbich/transformers_full/assets\n"
          ]
        },
        {
          "metadata": {
            "tags": null
          },
          "name": "stdout",
          "output_type": "stream",
          "text": [
            "3145/3145 [==============================] - 397s 126ms/step - loss: 0.8467 - sparse_categorical_accuracy: 0.6227 - val_loss: 0.8549 - val_sparse_categorical_accuracy: 0.6267\n",
            "Epoch 18/50\n",
            "3145/3145 [==============================] - ETA: 0s - loss: 0.8463 - sparse_categorical_accuracy: 0.6226\n",
            "Epoch 00018: sparse_categorical_accuracy did not improve from 0.62266\n",
            "3145/3145 [==============================] - 393s 125ms/step - loss: 0.8463 - sparse_categorical_accuracy: 0.6226 - val_loss: 0.8533 - val_sparse_categorical_accuracy: 0.6262\n",
            "Epoch 19/50\n",
            "3145/3145 [==============================] - ETA: 0s - loss: 0.8458 - sparse_categorical_accuracy: 0.6226\n",
            "Epoch 00019: sparse_categorical_accuracy did not improve from 0.62266\n",
            "3145/3145 [==============================] - 393s 125ms/step - loss: 0.8458 - sparse_categorical_accuracy: 0.6226 - val_loss: 0.8555 - val_sparse_categorical_accuracy: 0.6261\n",
            "Epoch 20/50\n",
            "3145/3145 [==============================] - ETA: 0s - loss: 0.8462 - sparse_categorical_accuracy: 0.6230\n",
            "Epoch 00020: sparse_categorical_accuracy improved from 0.62266 to 0.62305, saving model to gdrive/MyDrive/richbich/transformers_full\n"
          ]
        },
        {
          "metadata": {
            "tags": null
          },
          "name": "stderr",
          "output_type": "stream",
          "text": [
            "WARNING:absl:Found untraced functions such as query_layer_call_fn, query_layer_call_and_return_conditional_losses, key_layer_call_fn, key_layer_call_and_return_conditional_losses, value_layer_call_fn while saving (showing 5 of 60). These functions will not be directly callable after loading.\n"
          ]
        },
        {
          "metadata": {
            "tags": null
          },
          "name": "stdout",
          "output_type": "stream",
          "text": [
            "INFO:tensorflow:Assets written to: gdrive/MyDrive/richbich/transformers_full/assets\n"
          ]
        },
        {
          "metadata": {
            "tags": null
          },
          "name": "stderr",
          "output_type": "stream",
          "text": [
            "INFO:tensorflow:Assets written to: gdrive/MyDrive/richbich/transformers_full/assets\n"
          ]
        },
        {
          "metadata": {
            "tags": null
          },
          "name": "stdout",
          "output_type": "stream",
          "text": [
            "3145/3145 [==============================] - 389s 124ms/step - loss: 0.8462 - sparse_categorical_accuracy: 0.6230 - val_loss: 0.8550 - val_sparse_categorical_accuracy: 0.6259\n",
            "Epoch 21/50\n",
            "3145/3145 [==============================] - ETA: 0s - loss: 0.8455 - sparse_categorical_accuracy: 0.6234\n",
            "Epoch 00021: sparse_categorical_accuracy improved from 0.62305 to 0.62339, saving model to gdrive/MyDrive/richbich/transformers_full\n"
          ]
        },
        {
          "metadata": {
            "tags": null
          },
          "name": "stderr",
          "output_type": "stream",
          "text": [
            "WARNING:absl:Found untraced functions such as query_layer_call_fn, query_layer_call_and_return_conditional_losses, key_layer_call_fn, key_layer_call_and_return_conditional_losses, value_layer_call_fn while saving (showing 5 of 60). These functions will not be directly callable after loading.\n"
          ]
        },
        {
          "metadata": {
            "tags": null
          },
          "name": "stdout",
          "output_type": "stream",
          "text": [
            "INFO:tensorflow:Assets written to: gdrive/MyDrive/richbich/transformers_full/assets\n"
          ]
        },
        {
          "metadata": {
            "tags": null
          },
          "name": "stderr",
          "output_type": "stream",
          "text": [
            "INFO:tensorflow:Assets written to: gdrive/MyDrive/richbich/transformers_full/assets\n"
          ]
        },
        {
          "metadata": {
            "tags": null
          },
          "name": "stdout",
          "output_type": "stream",
          "text": [
            "3145/3145 [==============================] - 398s 126ms/step - loss: 0.8455 - sparse_categorical_accuracy: 0.6234 - val_loss: 0.8532 - val_sparse_categorical_accuracy: 0.6256\n",
            "Epoch 22/50\n",
            "3145/3145 [==============================] - ETA: 0s - loss: 0.8449 - sparse_categorical_accuracy: 0.6237\n",
            "Epoch 00022: sparse_categorical_accuracy improved from 0.62339 to 0.62370, saving model to gdrive/MyDrive/richbich/transformers_full\n"
          ]
        },
        {
          "metadata": {
            "tags": null
          },
          "name": "stderr",
          "output_type": "stream",
          "text": [
            "WARNING:absl:Found untraced functions such as query_layer_call_fn, query_layer_call_and_return_conditional_losses, key_layer_call_fn, key_layer_call_and_return_conditional_losses, value_layer_call_fn while saving (showing 5 of 60). These functions will not be directly callable after loading.\n"
          ]
        },
        {
          "metadata": {
            "tags": null
          },
          "name": "stdout",
          "output_type": "stream",
          "text": [
            "INFO:tensorflow:Assets written to: gdrive/MyDrive/richbich/transformers_full/assets\n"
          ]
        },
        {
          "metadata": {
            "tags": null
          },
          "name": "stderr",
          "output_type": "stream",
          "text": [
            "INFO:tensorflow:Assets written to: gdrive/MyDrive/richbich/transformers_full/assets\n"
          ]
        },
        {
          "output_type": "stream",
          "name": "stdout",
          "text": [
            "3145/3145 [==============================] - 398s 127ms/step - loss: 0.8449 - sparse_categorical_accuracy: 0.6237 - val_loss: 0.8539 - val_sparse_categorical_accuracy: 0.6262\n",
            "Epoch 23/50\n",
            "3145/3145 [==============================] - ETA: 0s - loss: 0.8449 - sparse_categorical_accuracy: 0.6238\n",
            "Epoch 00023: sparse_categorical_accuracy improved from 0.62370 to 0.62382, saving model to gdrive/MyDrive/richbich/transformers_full\n"
          ]
        },
        {
          "output_type": "stream",
          "name": "stderr",
          "text": [
            "WARNING:absl:Found untraced functions such as query_layer_call_fn, query_layer_call_and_return_conditional_losses, key_layer_call_fn, key_layer_call_and_return_conditional_losses, value_layer_call_fn while saving (showing 5 of 60). These functions will not be directly callable after loading.\n"
          ]
        },
        {
          "output_type": "stream",
          "name": "stdout",
          "text": [
            "INFO:tensorflow:Assets written to: gdrive/MyDrive/richbich/transformers_full/assets\n"
          ]
        },
        {
          "output_type": "stream",
          "name": "stderr",
          "text": [
            "INFO:tensorflow:Assets written to: gdrive/MyDrive/richbich/transformers_full/assets\n"
          ]
        },
        {
          "output_type": "stream",
          "name": "stdout",
          "text": [
            "\b\b\b\b\b\b\b\b\b\b\b\b\b\b\b\b\b\b\b\b\b\b\b\b\b\b\b\b\b\b\b\b\b\b\b\b\b\b\b\b\b\b\b\b\b\b\b\b\b\b\b\b\b\b\b\b\b\b\b\b\b\b\b\b\b\b\b\b\b\b\b\b\b\b\b\b\b\b\b\b\b\b\b\b\b\b\b\b\b\b\b\b\b\b\b\b\b\b\b\b\b\b\b\b\b\r3145/3145 [==============================] - 387s 123ms/step - loss: 0.8449 - sparse_categorical_accuracy: 0.6238 - val_loss: 0.8547 - val_sparse_categorical_accuracy: 0.6250\n",
            "Epoch 24/50\n",
            " 143/3145 [>.............................] - ETA: 5:35 - loss: 0.8383 - sparse_categorical_accuracy: 0.6273"
          ]
        }
      ]
    },
    {
      "cell_type": "code",
      "metadata": {
        "id": "mT050qi0v7dk"
      },
      "source": [
        "y_test_predict = model.predict(X_test_transformer)\n",
        "y_train_predict = model.predict(X_train_transformer)\n",
        "y_test_predict_class = y_test_predict.argmax(axis=1)\n",
        "y_train_predict_class = y_train_predict.argmax(axis=1)"
      ],
      "execution_count": null,
      "outputs": []
    },
    {
      "cell_type": "code",
      "metadata": {
        "id": "ta_MKlgn5Czq"
      },
      "source": [],
      "execution_count": null,
      "outputs": []
    },
    {
      "cell_type": "code",
      "metadata": {
        "id": "bLrszRm8APWh",
        "colab": {
          "base_uri": "https://localhost:8080/"
        },
        "outputId": "5b4e1756-dc83-49ea-ddea-b1e1adec45ce"
      },
      "source": [
        "  # reduced drop out\n",
        "  print('cross entropy on the test sample', metrics.log_loss(y_test_transformer, y_test_predict, eps=1e-15))\n",
        "  print('cross entropy on the train sample', metrics.log_loss(y_train_transformer, y_train_predict, eps=1e-15))"
      ],
      "execution_count": null,
      "outputs": [
        {
          "output_type": "stream",
          "name": "stdout",
          "text": [
            "cross entropy on the test sample 0.8415836720219955\n",
            "cross entropy on the train sample 0.8385373034706471\n"
          ]
        }
      ]
    },
    {
      "cell_type": "code",
      "metadata": {
        "colab": {
          "base_uri": "https://localhost:8080/"
        },
        "id": "mYwZvS8Jnc2Z",
        "outputId": "6040be8b-5f76-4201-cc3d-ce0523332e50"
      },
      "source": [
        "  # decay learning weights with full y_test\n",
        "  print('cross entropy on the test sample', metrics.log_loss(y_test_transformer, y_test_predict, eps=1e-15))\n",
        "  print('cross entropy on the train sample', metrics.log_loss(y_train_transformer, y_train_predict, eps=1e-15))"
      ],
      "execution_count": null,
      "outputs": [
        {
          "output_type": "stream",
          "name": "stdout",
          "text": [
            "cross entropy on the test sample 0.8789226195432369\n",
            "cross entropy on the train sample 0.8806341694428995\n"
          ]
        }
      ]
    },
    {
      "cell_type": "code",
      "metadata": {
        "colab": {
          "base_uri": "https://localhost:8080/"
        },
        "id": "VW6hs72VgYYw",
        "outputId": "5877c7d7-1939-45e7-a89a-fb8e1f40ec11"
      },
      "source": [
        "  # full training\n",
        "  print('cross entropy on the test sample', metrics.log_loss(y_test_transformer, y_test_predict, eps=1e-15))\n",
        "  print('cross entropy on the train sample', metrics.log_loss(y_train_transformer, y_train_predict, eps=1e-15))"
      ],
      "execution_count": null,
      "outputs": [
        {
          "output_type": "stream",
          "name": "stdout",
          "text": [
            "cross entropy on the test sample 0.8528959982622908\n",
            "cross entropy on the train sample 0.8515803047334262\n"
          ]
        }
      ]
    },
    {
      "cell_type": "code",
      "metadata": {
        "colab": {
          "base_uri": "https://localhost:8080/"
        },
        "id": "J2ceVDouBNvN",
        "outputId": "0c31a3a4-49b9-4938-cdff-ff04d4c0a8c5"
      },
      "source": [
        "  # reweighted?\n",
        "  print('cross entropy on the test sample', metrics.log_loss(y_test_transformer, y_test_predict, eps=1e-15))\n",
        "  print('cross entropy on the train sample', metrics.log_loss(y_train_transformer, y_train_predict, eps=1e-15))"
      ],
      "execution_count": null,
      "outputs": [
        {
          "output_type": "stream",
          "name": "stdout",
          "text": [
            "cross entropy on the test sample 0.6373188766092409\n",
            "cross entropy on the train sample 0.6360149512500127\n"
          ]
        }
      ]
    },
    {
      "cell_type": "code",
      "metadata": {
        "colab": {
          "base_uri": "https://localhost:8080/"
        },
        "id": "aQYqeog60AlZ",
        "outputId": "6e62044c-de8a-4aed-b5fe-11a4b48500f2"
      },
      "source": [
        "  print('cross entropy on the test sample', metrics.log_loss(y_test_transformer, y_test_predict, eps=1e-15))\n",
        "  print('cross entropy on the train sample', metrics.log_loss(y_train_transformer, y_train_predict, eps=1e-15))"
      ],
      "execution_count": null,
      "outputs": [
        {
          "output_type": "stream",
          "name": "stdout",
          "text": [
            "cross entropy on the test sample 0.738092270851514\n",
            "cross entropy on the train sample 0.742190205958328\n"
          ]
        }
      ]
    },
    {
      "cell_type": "code",
      "metadata": {
        "colab": {
          "base_uri": "https://localhost:8080/"
        },
        "id": "b_15dnNJ0sbR",
        "outputId": "5f1e5aa1-9cd0-463b-8dc4-c5adaeb8fa7c"
      },
      "source": [
        "  print('cross entropy on the test sample', metrics.log_loss(y_test_transformer, y_test_predict, eps=1e-15))\n",
        "  print('cross entropy on the train sample', metrics.log_loss(y_train_transformer, y_train_predict, eps=1e-15))"
      ],
      "execution_count": null,
      "outputs": [
        {
          "output_type": "stream",
          "name": "stdout",
          "text": [
            "cross entropy on the test sample 0.6731907490790628\n",
            "cross entropy on the train sample 0.6739053792202415\n"
          ]
        }
      ]
    },
    {
      "cell_type": "code",
      "metadata": {
        "colab": {
          "base_uri": "https://localhost:8080/"
        },
        "id": "pESyFHut0diY",
        "outputId": "36d544ca-1fee-4d2d-9e01-89507d70dcdf"
      },
      "source": [
        "y_train_predict"
      ],
      "execution_count": null,
      "outputs": [
        {
          "output_type": "execute_result",
          "data": {
            "text/plain": [
              "array([[0.06307638, 0.8432734 , 0.09365023],\n",
              "       [0.07156683, 0.82294834, 0.10548488],\n",
              "       [0.07039494, 0.8273391 , 0.10226589],\n",
              "       ...,\n",
              "       [0.22628717, 0.35464197, 0.41907093],\n",
              "       [0.08344429, 0.79056   , 0.12599565],\n",
              "       [0.07509489, 0.8174181 , 0.10748698]], dtype=float32)"
            ]
          },
          "metadata": {},
          "execution_count": 37
        }
      ]
    },
    {
      "cell_type": "code",
      "metadata": {
        "colab": {
          "base_uri": "https://localhost:8080/"
        },
        "id": "t749OHiujSED",
        "outputId": "77e4c4d8-a66c-48ef-e41a-fd14e15e3778"
      },
      "source": [
        "  # reduced dropout\n",
        "  print('confusion matrix on the test sample', metrics.confusion_matrix(y_test_transformer, y_test_predict.argmax(axis=1)))\n",
        "  print('confusion matrix on the train sample', metrics.confusion_matrix(y_train_transformer, y_train_predict.argmax(axis=1)))"
      ],
      "execution_count": null,
      "outputs": [
        {
          "output_type": "stream",
          "name": "stdout",
          "text": [
            "confusion matrix on the test sample [[   506  25596  21710]\n",
            " [   139 123250  11405]\n",
            " [   591  33429  31187]]\n",
            "confusion matrix on the train sample [[  1147  51961  43961]\n",
            " [   237 250352  23398]\n",
            " [  1128  67951  62999]]\n"
          ]
        }
      ]
    },
    {
      "cell_type": "code",
      "metadata": {
        "colab": {
          "base_uri": "https://localhost:8080/"
        },
        "id": "hxAjec9bga8B",
        "outputId": "47353124-853a-4733-d500-ea400662e718"
      },
      "source": [
        "  # full training\n",
        "  print('confusion matrix on the test sample', metrics.confusion_matrix(y_test_transformer, y_test_predict.argmax(axis=1)))\n",
        "  print('confusion matrix on the train sample', metrics.confusion_matrix(y_train_transformer, y_train_predict.argmax(axis=1)))"
      ],
      "execution_count": null,
      "outputs": [
        {
          "output_type": "stream",
          "name": "stdout",
          "text": [
            "confusion matrix on the test sample [[   326  25717  21769]\n",
            " [    81 123284  11429]\n",
            " [   354  33649  31204]]\n",
            "confusion matrix on the train sample [[   650  52221  44198]\n",
            " [   130 250206  23651]\n",
            " [   673  68438  62967]]\n"
          ]
        }
      ]
    },
    {
      "cell_type": "code",
      "metadata": {
        "colab": {
          "base_uri": "https://localhost:8080/"
        },
        "id": "QT9SvmT2eu52",
        "outputId": "ae56742c-bb2b-42b1-832e-45ceec03cc07"
      },
      "source": [
        "  # reweighted?\n",
        "  print('confusion matrix on the test sample', metrics.confusion_matrix(y_test_transformer, y_test_predict.argmax(axis=1)))\n",
        "  print('confusion matrix on the train sample', metrics.confusion_matrix(y_train_transformer, y_train_predict.argmax(axis=1)))"
      ],
      "execution_count": null,
      "outputs": [
        {
          "output_type": "stream",
          "name": "stdout",
          "text": [
            "confusion matrix on the test sample [[  977  1464   516]\n",
            " [ 3024 18872  1259]\n",
            " [ 1535  1899  1326]]\n",
            "confusion matrix on the train sample [[ 2150  2771  1144]\n",
            " [ 5971 38271  2605]\n",
            " [ 3125  3887  2755]]\n"
          ]
        }
      ]
    },
    {
      "cell_type": "code",
      "metadata": {
        "colab": {
          "base_uri": "https://localhost:8080/"
        },
        "id": "9tLMf2iFBgyw",
        "outputId": "45c971b6-19c5-45d6-9dc6-2391b6156afa"
      },
      "source": [
        "  # faslter learning\n",
        "  print('confusion matrix on the test sample', metrics.confusion_matrix(y_test_transformer, y_test_predict.argmax(axis=1)))\n",
        "  print('confusion matrix on the train sample', metrics.confusion_matrix(y_train_transformer, y_train_predict.argmax(axis=1)))"
      ],
      "execution_count": null,
      "outputs": [
        {
          "output_type": "stream",
          "name": "stdout",
          "text": [
            "confusion matrix on the test sample [[    2  2533   422]\n",
            " [    0 22758   397]\n",
            " [    0  3807   953]]\n",
            "confusion matrix on the train sample [[    7  5156   902]\n",
            " [    3 46033   811]\n",
            " [    3  7750  2014]]\n"
          ]
        }
      ]
    },
    {
      "cell_type": "code",
      "metadata": {
        "colab": {
          "base_uri": "https://localhost:8080/"
        },
        "id": "GvGskAk60H7g",
        "outputId": "0ece43c2-b689-44e3-fdf7-1abb59b3a3da"
      },
      "source": [
        "  # basic\n",
        "  print('confusion matrix on the test sample', metrics.confusion_matrix(y_test_transformer, y_test_predict.argmax(axis=1)))\n",
        "  print('confusion matrix on the train sample', metrics.confusion_matrix(y_train_transformer, y_train_predict.argmax(axis=1)))"
      ],
      "execution_count": null,
      "outputs": [
        {
          "output_type": "stream",
          "name": "stdout",
          "text": [
            "confusion matrix on the test sample [[    0  2754   203]\n",
            " [    0 22938   217]\n",
            " [    0  4238   522]]\n",
            "confusion matrix on the train sample [[    1  5627   437]\n",
            " [    1 46450   396]\n",
            " [    0  8616  1151]]\n"
          ]
        }
      ]
    },
    {
      "cell_type": "code",
      "metadata": {
        "id": "gkjLLc_EBc5E"
      },
      "source": [
        "  print('confusion matrix on the test sample', metrics.confusion_matrix(y_test_transformer, y_test_predict.argmax(axis=1)))\n",
        "  print('confusion matrix on the train sample', metrics.confusion_matrix(y_train_transformer, y_train_predict.argmax(axis=1)))"
      ],
      "execution_count": null,
      "outputs": []
    },
    {
      "cell_type": "code",
      "metadata": {
        "colab": {
          "base_uri": "https://localhost:8080/",
          "height": 761
        },
        "id": "7dPHB9gtlu-_",
        "outputId": "e95f9c19-0d44-4f00-cbda-334d1ad7af92"
      },
      "source": [
        "fig = plt.figure()\n",
        "ax = fig.add_subplot(111)\n",
        "ax.hist(y_test_predict[y_test == '2'][:,2], alpha = 0.5, lw=3, color= 'b')\n",
        "ax.hist(y_train_predict[y_train == '2'][:,2], alpha = 0.5, lw=3, color= 'r')\n",
        "plt.show()\n",
        "\n",
        "fig = plt.figure()\n",
        "ax = fig.add_subplot(111)\n",
        "ax.hist(y_test_predict[y_test == '1'][:,1], alpha = 0.5, lw=3, color= 'b')\n",
        "ax.hist(y_train_predict[y_train == '1'][:,1], alpha = 0.5, lw=3, color= 'r')\n",
        "plt.show()\n",
        "\n",
        "fig = plt.figure()\n",
        "ax = fig.add_subplot(111)\n",
        "ax.hist(y_test_predict[y_test == '0'][:,0], alpha = 0.5, lw=3, color= 'b')\n",
        "ax.hist(y_train_predict[y_train == '0'][:,0], alpha = 0.5, lw=3, color= 'r')\n",
        "plt.show()"
      ],
      "execution_count": null,
      "outputs": [
        {
          "output_type": "display_data",
          "data": {
            "image/png": "[encoded data removed]",
            "text/plain": [
              "<Figure size 432x288 with 1 Axes>"
            ]
          },
          "metadata": {
            "needs_background": "light"
          }
        },
        {
          "output_type": "display_data",
          "data": {
            "image/png": "[encoded data removed]",
            "text/plain": [
              "<Figure size 432x288 with 1 Axes>"
            ]
          },
          "metadata": {
            "needs_background": "light"
          }
        },
        {
          "output_type": "display_data",
          "data": {
            "image/png": "[encoded data removed]",
            "text/plain": [
              "<Figure size 432x288 with 1 Axes>"
            ]
          },
          "metadata": {
            "needs_background": "light"
          }
        }
      ]
    },
    {
      "cell_type": "code",
      "metadata": {
        "colab": {
          "base_uri": "https://localhost:8080/",
          "height": 765
        },
        "id": "NyUebtd0mVtr",
        "outputId": "37b10ec7-b039-4083-cf10-2c6e3736352f"
      },
      "source": [
        "fig = plt.figure()\n",
        "ax = fig.add_subplot(111)\n",
        "ax.hist(y_test_predict[y_test == '2'][:,2], alpha = 0.5, lw=3, color= 'b')\n",
        "ax.hist(y_train_predict[y_train == '2'][:,2], alpha = 0.5, lw=3, color= 'r')\n",
        "plt.show()\n",
        "\n",
        "fig = plt.figure()\n",
        "ax = fig.add_subplot(111)\n",
        "ax.hist(y_test_predict[y_test == '2'][:,1], alpha = 0.5, lw=3, color= 'b')\n",
        "ax.hist(y_train_predict[y_train == '2'][:,1], alpha = 0.5, lw=3, color= 'r')\n",
        "plt.show()\n",
        "\n",
        "fig = plt.figure()\n",
        "ax = fig.add_subplot(111)\n",
        "ax.hist(y_test_predict[y_test == '2'][:,0], alpha = 0.5, lw=3, color= 'b')\n",
        "ax.hist(y_train_predict[y_train == '2'][:,0], alpha = 0.5, lw=3, color= 'r')\n",
        "plt.show()"
      ],
      "execution_count": null,
      "outputs": [
        {
          "output_type": "display_data",
          "data": {
            "image/png": "[encoded data removed]",
            "text/plain": [
              "<Figure size 432x288 with 1 Axes>"
            ]
          },
          "metadata": {
            "needs_background": "light"
          }
        },
        {
          "output_type": "display_data",
          "data": {
            "image/png": "[encoded data removed]",
            "text/plain": [
              "<Figure size 432x288 with 1 Axes>"
            ]
          },
          "metadata": {
            "needs_background": "light"
          }
        },
        {
          "output_type": "display_data",
          "data": {
            "image/png": "[encoded data removed]",
            "text/plain": [
              "<Figure size 432x288 with 1 Axes>"
            ]
          },
          "metadata": {
            "needs_background": "light"
          }
        }
      ]
    },
    {
      "cell_type": "code",
      "metadata": {
        "id": "RupIFXLonMeA"
      },
      "source": [
        "# true positive\n",
        "def example_plots(y_proba, y, X, Truth, Prediction):\n",
        "  high_score = y[y_proba[:,Prediction] > 0.7]\n",
        "  example_test = X[y_proba[:,Prediction] > 0.7]\n",
        "  example_test = example_test[high_score[:,0]== Truth]\n",
        "  print(f'found examples for prediction {Prediction} and Truth {Truth}')\n",
        "  print(len(example_test))\n",
        "  high_score = high_score[high_score[:,0]== Truth]\n",
        "  high_score = high_score[0:5,1:3:1]\n",
        "\n",
        "\n",
        "  for example in high_score:\n",
        "    print(example)\n",
        "    print()\n",
        "    plotter(df, example[0],\n",
        "            pd.to_datetime(example[1])-timedelta(days=200),\n",
        "            pd.to_datetime(example[1])+timedelta(days=40),\n",
        "            pd.to_datetime(example[1]))"
      ],
      "execution_count": null,
      "outputs": []
    },
    {
      "cell_type": "code",
      "metadata": {
        "id": "vu5LJR0Jrhkt"
      },
      "source": [
        "# found examples for prediction 2 and Truth 2 46\n",
        "# found examples for prediction 2 and Truth 0 19"
      ],
      "execution_count": null,
      "outputs": []
    },
    {
      "cell_type": "code",
      "metadata": {
        "colab": {
          "base_uri": "https://localhost:8080/",
          "height": 302
        },
        "id": "Uo8uVOmlok5n",
        "outputId": "0fd8cdfb-788b-4533-c158-06d426496834"
      },
      "source": [
        "example_plots(y_test_predict, y_full_test, X_test, '2', 2)"
      ],
      "execution_count": null,
      "outputs": [
        {
          "output_type": "error",
          "ename": "IndexError",
          "evalue": "ignored",
          "traceback": [
            "\u001b[0;31m---------------------------------------------------------------------------\u001b[0m",
            "\u001b[0;31mIndexError\u001b[0m                                Traceback (most recent call last)",
            "\u001b[0;32m<ipython-input-97-16d46df41b39>\u001b[0m in \u001b[0;36m<module>\u001b[0;34m()\u001b[0m\n\u001b[0;32m----> 1\u001b[0;31m \u001b[0mexample_plots\u001b[0m\u001b[0;34m(\u001b[0m\u001b[0my_test_predict\u001b[0m\u001b[0;34m,\u001b[0m \u001b[0my_full_test\u001b[0m\u001b[0;34m,\u001b[0m \u001b[0mX_test\u001b[0m\u001b[0;34m,\u001b[0m \u001b[0;34m'2'\u001b[0m\u001b[0;34m,\u001b[0m \u001b[0;36m2\u001b[0m\u001b[0;34m)\u001b[0m\u001b[0;34m\u001b[0m\u001b[0;34m\u001b[0m\u001b[0m\n\u001b[0m",
            "\u001b[0;32m<ipython-input-96-b0771d4b886d>\u001b[0m in \u001b[0;36mexample_plots\u001b[0;34m(y_proba, y, X, Truth, Prediction)\u001b[0m\n\u001b[1;32m      1\u001b[0m \u001b[0;31m# true positive\u001b[0m\u001b[0;34m\u001b[0m\u001b[0;34m\u001b[0m\u001b[0;34m\u001b[0m\u001b[0m\n\u001b[1;32m      2\u001b[0m \u001b[0;32mdef\u001b[0m \u001b[0mexample_plots\u001b[0m\u001b[0;34m(\u001b[0m\u001b[0my_proba\u001b[0m\u001b[0;34m,\u001b[0m \u001b[0my\u001b[0m\u001b[0;34m,\u001b[0m \u001b[0mX\u001b[0m\u001b[0;34m,\u001b[0m \u001b[0mTruth\u001b[0m\u001b[0;34m,\u001b[0m \u001b[0mPrediction\u001b[0m\u001b[0;34m)\u001b[0m\u001b[0;34m:\u001b[0m\u001b[0;34m\u001b[0m\u001b[0;34m\u001b[0m\u001b[0m\n\u001b[0;32m----> 3\u001b[0;31m   \u001b[0mhigh_score\u001b[0m \u001b[0;34m=\u001b[0m \u001b[0my\u001b[0m\u001b[0;34m[\u001b[0m\u001b[0my_proba\u001b[0m\u001b[0;34m[\u001b[0m\u001b[0;34m:\u001b[0m\u001b[0;34m,\u001b[0m\u001b[0mPrediction\u001b[0m\u001b[0;34m]\u001b[0m \u001b[0;34m>\u001b[0m \u001b[0;36m0.7\u001b[0m\u001b[0;34m]\u001b[0m\u001b[0;34m\u001b[0m\u001b[0;34m\u001b[0m\u001b[0m\n\u001b[0m\u001b[1;32m      4\u001b[0m   \u001b[0mexample_test\u001b[0m \u001b[0;34m=\u001b[0m \u001b[0mX\u001b[0m\u001b[0;34m[\u001b[0m\u001b[0my_proba\u001b[0m\u001b[0;34m[\u001b[0m\u001b[0;34m:\u001b[0m\u001b[0;34m,\u001b[0m\u001b[0mPrediction\u001b[0m\u001b[0;34m]\u001b[0m \u001b[0;34m>\u001b[0m \u001b[0;36m0.7\u001b[0m\u001b[0;34m]\u001b[0m\u001b[0;34m\u001b[0m\u001b[0;34m\u001b[0m\u001b[0m\n\u001b[1;32m      5\u001b[0m   \u001b[0mexample_test\u001b[0m \u001b[0;34m=\u001b[0m \u001b[0mexample_test\u001b[0m\u001b[0;34m[\u001b[0m\u001b[0mhigh_score\u001b[0m\u001b[0;34m[\u001b[0m\u001b[0;34m:\u001b[0m\u001b[0;34m,\u001b[0m\u001b[0;36m0\u001b[0m\u001b[0;34m]\u001b[0m\u001b[0;34m==\u001b[0m \u001b[0mTruth\u001b[0m\u001b[0;34m]\u001b[0m\u001b[0;34m\u001b[0m\u001b[0;34m\u001b[0m\u001b[0m\n",
            "\u001b[0;31mIndexError\u001b[0m: boolean index did not match indexed array along dimension 0; dimension is 285700 but corresponding boolean dimension is 247813"
          ]
        }
      ]
    },
    {
      "cell_type": "code",
      "metadata": {
        "id": "DkwqySRcof7d"
      },
      "source": [],
      "execution_count": null,
      "outputs": []
    },
    {
      "cell_type": "code",
      "metadata": {
        "colab": {
          "base_uri": "https://localhost:8080/"
        },
        "id": "1WBhwgRA3OvA",
        "outputId": "7aee48b4-17df-4f7e-b53c-e732861e0450"
      },
      "source": [
        "y_test_predict.argmax(axis=1)"
      ],
      "execution_count": null,
      "outputs": [
        {
          "output_type": "execute_result",
          "data": {
            "text/plain": [
              "array([1, 1, 1, ..., 1, 1, 1])"
            ]
          },
          "metadata": {},
          "execution_count": 46
        }
      ]
    },
    {
      "cell_type": "code",
      "metadata": {
        "id": "AP-qTbDA3DSk"
      },
      "source": [
        "from collections import Counter"
      ],
      "execution_count": null,
      "outputs": []
    },
    {
      "cell_type": "code",
      "metadata": {
        "colab": {
          "base_uri": "https://localhost:8080/"
        },
        "id": "Kvimzimz4PeN",
        "outputId": "b5ef24c3-1fcc-47c4-8959-5c507641cc72"
      },
      "source": [
        "len(y_train_transformer)"
      ],
      "execution_count": null,
      "outputs": [
        {
          "output_type": "execute_result",
          "data": {
            "text/plain": [
              "62679"
            ]
          },
          "metadata": {},
          "execution_count": 47
        }
      ]
    },
    {
      "cell_type": "code",
      "metadata": {
        "colab": {
          "base_uri": "https://localhost:8080/"
        },
        "id": "14pn_tje4Zbs",
        "outputId": "67618d69-3033-48f4-9679-4a089f54f538"
      },
      "source": [
        "9767/62679"
      ],
      "execution_count": null,
      "outputs": [
        {
          "output_type": "execute_result",
          "data": {
            "text/plain": [
              "0.15582571515180524"
            ]
          },
          "metadata": {},
          "execution_count": 48
        }
      ]
    },
    {
      "cell_type": "code",
      "metadata": {
        "colab": {
          "base_uri": "https://localhost:8080/"
        },
        "id": "wyMfLLXo4jQx",
        "outputId": "f7f6e3d8-9a20-40dc-aaed-0b4764558fdf"
      },
      "source": [
        "0.155*9767"
      ],
      "execution_count": null,
      "outputs": [
        {
          "output_type": "execute_result",
          "data": {
            "text/plain": [
              "1513.885"
            ]
          },
          "metadata": {},
          "execution_count": 50
        }
      ]
    },
    {
      "cell_type": "code",
      "metadata": {
        "colab": {
          "base_uri": "https://localhost:8080/"
        },
        "id": "oyCzhLIn3Gl6",
        "outputId": "849577d6-74a8-4f0d-aa7f-f308d65fc372"
      },
      "source": [
        "Counter(y_train_transformer)"
      ],
      "execution_count": null,
      "outputs": [
        {
          "output_type": "execute_result",
          "data": {
            "text/plain": [
              "Counter({0: 6065, 1: 46847, 2: 9767})"
            ]
          },
          "metadata": {},
          "execution_count": 44
        }
      ]
    },
    {
      "cell_type": "code",
      "metadata": {
        "colab": {
          "base_uri": "https://localhost:8080/"
        },
        "id": "14CH4Tc33Kf3",
        "outputId": "089c81ca-d586-49da-ee54-aff447a5f0a0"
      },
      "source": [
        "Counter(y_train)"
      ],
      "execution_count": null,
      "outputs": [
        {
          "output_type": "execute_result",
          "data": {
            "text/plain": [
              "Counter({'0': 6065, '1': 46847, '2': 9767})"
            ]
          },
          "metadata": {},
          "execution_count": 45
        }
      ]
    },
    {
      "cell_type": "code",
      "metadata": {
        "colab": {
          "base_uri": "https://localhost:8080/"
        },
        "id": "yayo8LTZ2n9V",
        "outputId": "c926d598-780b-4f1b-9dbb-956623ba1d10"
      },
      "source": [
        "y_train_transformer"
      ],
      "execution_count": null,
      "outputs": [
        {
          "output_type": "execute_result",
          "data": {
            "text/plain": [
              "array([1, 1, 1, ..., 1, 1, 1])"
            ]
          },
          "metadata": {},
          "execution_count": 42
        }
      ]
    },
    {
      "cell_type": "code",
      "metadata": {
        "colab": {
          "base_uri": "https://localhost:8080/"
        },
        "id": "TbI5JbNfzQgg",
        "outputId": "2010b8d7-cd55-4be4-a990-bce54f087101"
      },
      "source": [
        "print(model.evaluate(X_test_transformer, y_test_transformer, verbose=1))\n",
        "print(model.evaluate(X_train_transformer, y_train_transformer, verbose=1))"
      ],
      "execution_count": null,
      "outputs": [
        {
          "output_type": "stream",
          "name": "stdout",
          "text": [
            "965/965 [==============================] - 14s 15ms/step - loss: 0.6732 - sparse_categorical_accuracy: 0.7599\n",
            "[0.6731902956962585, 0.7599118947982788]\n",
            "1959/1959 [==============================] - 28s 15ms/step - loss: 0.6739 - sparse_categorical_accuracy: 0.7595\n",
            "[0.6739057898521423, 0.7594569325447083]\n"
          ]
        }
      ]
    },
    {
      "cell_type": "code",
      "metadata": {
        "id": "O1XAYL1_mVNq"
      },
      "source": [],
      "execution_count": null,
      "outputs": []
    },
    {
      "cell_type": "markdown",
      "metadata": {
        "id": "dx62A_YTCC5W"
      },
      "source": [
        "## Future predictions"
      ]
    },
    {
      "cell_type": "code",
      "metadata": {
        "id": "NA2YEo2dmVTA"
      },
      "source": [
        "y_future_predict = model.predict(x_future_transformer)\n",
        "y_test_predict_class = y_future_predict.argmax(axis=1)\n"
      ],
      "execution_count": null,
      "outputs": []
    },
    {
      "cell_type": "code",
      "metadata": {
        "id": "5hAbW8LICsXy"
      },
      "source": [
        "# true positive\n",
        "def future_example_plots(y_proba, y, X, Prediction):\n",
        "  # return y_proba[:,Prediction] > 0.7\n",
        "  high_score = y[y_proba[:,Prediction] > 0.7]\n",
        "  example_test = X[y_proba[:,Prediction] > 0.7]\n",
        "  print(f'found examples for prediction {Prediction}')\n",
        "  print(len(example_test))\n",
        "  high_score = high_score[0:5,1:3:1]\n",
        "\n",
        "  print(high_score)\n",
        "  for example in high_score:\n",
        "    print(example)\n",
        "    plotter(df_future, example[0],\n",
        "            pd.to_datetime(example[1])-timedelta(days=200),\n",
        "            pd.to_datetime(example[1])+timedelta(days=5),\n",
        "            pd.to_datetime(example[1]))"
      ],
      "execution_count": null,
      "outputs": []
    },
    {
      "cell_type": "code",
      "metadata": {
        "colab": {
          "base_uri": "https://localhost:8080/",
          "height": 909
        },
        "id": "JbQbvi7jNvEu",
        "outputId": "b97e80d2-a83e-4125-d93d-7840218bb105"
      },
      "source": [
        "future_example_plots(y_future_predict, y_future, x_future, 2)"
      ],
      "execution_count": null,
      "outputs": [
        {
          "output_type": "stream",
          "name": "stdout",
          "text": [
            "found examples for prediction 2\n",
            "3\n",
            "[['ANVS' '2021-12-01T00:00:00.000000000']\n",
            " ['ATER' '2021-11-30T00:00:00.000000000']\n",
            " ['CRTX' '2021-11-30T00:00:00.000000000']]\n",
            "['ANVS' '2021-12-01T00:00:00.000000000']\n"
          ]
        },
        {
          "output_type": "display_data",
          "data": {
            "image/png": "[encoded data removed]",
            "text/plain": [
              "<Figure size 432x288 with 1 Axes>"
            ]
          },
          "metadata": {
            "needs_background": "light"
          }
        },
        {
          "output_type": "stream",
          "name": "stdout",
          "text": [
            "['ATER' '2021-11-30T00:00:00.000000000']\n"
          ]
        },
        {
          "output_type": "display_data",
          "data": {
            "image/png": "[encoded data removed]",
            "text/plain": [
              "<Figure size 432x288 with 1 Axes>"
            ]
          },
          "metadata": {
            "needs_background": "light"
          }
        },
        {
          "output_type": "stream",
          "name": "stdout",
          "text": [
            "['CRTX' '2021-11-30T00:00:00.000000000']\n"
          ]
        },
        {
          "output_type": "display_data",
          "data": {
            "image/png": "[encoded data removed]",
            "text/plain": [
              "<Figure size 432x288 with 1 Axes>"
            ]
          },
          "metadata": {
            "needs_background": "light"
          }
        }
      ]
    },
    {
      "cell_type": "code",
      "metadata": {
        "id": "cr9qQXdgFeEg",
        "colab": {
          "base_uri": "https://localhost:8080/",
          "height": 909
        },
        "outputId": "33075426-33c9-411d-cd9e-9b572ff521b5"
      },
      "source": [
        "future_example_plots(y_future_predict, y_future, x_future, 2)"
      ],
      "execution_count": null,
      "outputs": [
        {
          "output_type": "stream",
          "name": "stdout",
          "text": [
            "found examples for prediction 2\n",
            "3\n",
            "[['ANVS' '2021-12-01T00:00:00.000000000']\n",
            " ['ATER' '2021-11-30T00:00:00.000000000']\n",
            " ['CRTX' '2021-11-30T00:00:00.000000000']]\n",
            "['ANVS' '2021-12-01T00:00:00.000000000']\n"
          ]
        },
        {
          "output_type": "display_data",
          "data": {
            "image/png": "[encoded data removed]",
            "text/plain": [
              "<Figure size 432x288 with 1 Axes>"
            ]
          },
          "metadata": {
            "needs_background": "light"
          }
        },
        {
          "output_type": "stream",
          "name": "stdout",
          "text": [
            "['ATER' '2021-11-30T00:00:00.000000000']\n"
          ]
        },
        {
          "output_type": "display_data",
          "data": {
            "image/png": "[encoded data removed]",
            "text/plain": [
              "<Figure size 432x288 with 1 Axes>"
            ]
          },
          "metadata": {
            "needs_background": "light"
          }
        },
        {
          "output_type": "stream",
          "name": "stdout",
          "text": [
            "['CRTX' '2021-11-30T00:00:00.000000000']\n"
          ]
        },
        {
          "output_type": "display_data",
          "data": {
            "image/png": "[encoded data removed]",
            "text/plain": [
              "<Figure size 432x288 with 1 Axes>"
            ]
          },
          "metadata": {
            "needs_background": "light"
          }
        }
      ]
    },
    {
      "cell_type": "code",
      "metadata": {
        "id": "J34pCMNhFbrm"
      },
      "source": [
        "test"
      ],
      "execution_count": null,
      "outputs": []
    },
    {
      "cell_type": "code",
      "metadata": {
        "colab": {
          "base_uri": "https://localhost:8080/"
        },
        "id": "g6Lw4_SrFf7W",
        "outputId": "ff2e10e2-659c-41f5-df80-e74b49094394"
      },
      "source": [
        "len(y_full_test)"
      ],
      "execution_count": null,
      "outputs": [
        {
          "output_type": "execute_result",
          "data": {
            "text/plain": [
              "30872"
            ]
          },
          "metadata": {},
          "execution_count": 29
        }
      ]
    },
    {
      "cell_type": "code",
      "metadata": {
        "colab": {
          "base_uri": "https://localhost:8080/"
        },
        "id": "z6XBwtu6G0MX",
        "outputId": "77db055d-84ac-4739-c0f5-ba08b88508ee"
      },
      "source": [
        "y_full_test"
      ],
      "execution_count": null,
      "outputs": [
        {
          "output_type": "execute_result",
          "data": {
            "text/plain": [
              "array([['1', 'SEDG', '2016-11-18T00:00:00.000000000'],\n",
              "       ['1', 'CQP', '2015-01-13T00:00:00.000000000'],\n",
              "       ['1', 'EMN', '2020-07-08T00:00:00.000000000'],\n",
              "       ...,\n",
              "       ['1', 'IHG', '2017-05-17T00:00:00.000000000'],\n",
              "       ['1', 'IMBBF', '2018-08-03T00:00:00.000000000'],\n",
              "       ['1', 'AQN', '2013-04-18T00:00:00.000000000']], dtype='<U29')"
            ]
          },
          "metadata": {},
          "execution_count": 137
        }
      ]
    },
    {
      "cell_type": "code",
      "metadata": {
        "colab": {
          "base_uri": "https://localhost:8080/"
        },
        "id": "bmclXT-SFiIO",
        "outputId": "4cb1e99a-3b76-439f-9260-e4a25b8162b3"
      },
      "source": [
        "len(y_future)"
      ],
      "execution_count": null,
      "outputs": [
        {
          "output_type": "execute_result",
          "data": {
            "text/plain": [
              "2"
            ]
          },
          "metadata": {},
          "execution_count": 30
        }
      ]
    },
    {
      "cell_type": "code",
      "metadata": {
        "colab": {
          "base_uri": "https://localhost:8080/"
        },
        "id": "mk2Fv9TgGb-U",
        "outputId": "6c141b8a-11ef-4664-d901-ed22d4baf10d"
      },
      "source": [
        "y_future"
      ],
      "execution_count": null,
      "outputs": [
        {
          "output_type": "execute_result",
          "data": {
            "text/plain": [
              "(array([['211.3000030517578', 'AAP', '2021-10-06T00:00:00.000000000'],\n",
              "        ['337.29998779296875', 'ABMD', '2021-10-06T00:00:00.000000000'],\n",
              "        ['53.290000915527344', 'AEM', '2021-10-06T00:00:00.000000000'],\n",
              "        ['134.24000549316406', 'AFG', '2021-10-06T00:00:00.000000000'],\n",
              "        ['125.62000274658205', 'AGCO', '2021-10-06T00:00:00.000000000'],\n",
              "        ['161.10000610351562', 'AIZ', '2021-10-06T00:00:00.000000000'],\n",
              "        ['222.3699951171875', 'ALB', '2021-10-06T00:00:00.000000000'],\n",
              "        ['129.32000732421878', 'ALLE', '2021-10-06T00:00:00.000000000'],\n",
              "        ['53.68999862670898', 'ALLY', '2021-10-06T00:00:00.000000000'],\n",
              "        ['201.0800018310547', 'ALNY', '2021-10-06T00:00:00.000000000'],\n",
              "        ['36.83000183105469', 'AMC', '2021-10-06T00:00:00.000000000'],\n",
              "        ['115.1500015258789', 'AN', '2021-10-06T00:00:00.000000000'],\n",
              "        ['75.76000213623047', 'ARES', '2021-10-06T00:00:00.000000000'],\n",
              "        ['293.29998779296875', 'ARGX', '2021-10-06T00:00:00.000000000'],\n",
              "        ['373.2200012207031', 'ASMIY', '2021-10-06T00:00:00.000000000'],\n",
              "        ['123.0999984741211', 'ATR', '2021-10-06T00:00:00.000000000'],\n",
              "        ['168.0399932861328', 'AVLR', '2021-10-06T00:00:00.000000000'],\n",
              "        ['40.72999954223633', 'AVTR', '2021-10-06T00:00:00.000000000'],\n",
              "        ['210.30999755859366', 'AVY', '2021-10-06T00:00:00.000000000'],\n",
              "        ['166.02000427246094', 'AXON', '2021-10-06T00:00:00.000000000'],\n",
              "        ['125.5199966430664', 'AZPN', '2021-10-06T00:00:00.000000000'],\n",
              "        ['80.27999877929688', 'BAH', '2021-10-06T00:00:00.000000000'],\n",
              "        ['115.12999725341795', 'BAP', '2021-10-06T00:00:00.000000000'],\n",
              "        ['44.90999984741211', 'BBIO', '2021-10-06T00:00:00.000000000'],\n",
              "        ['36.06999969482422', 'BEP', '2021-10-06T00:00:00.000000000'],\n",
              "        ['83.93000030517578', 'BG', '2021-10-06T00:00:00.000000000'],\n",
              "        ['273.51998901367193', 'BILL', '2021-10-06T00:00:00.000000000'],\n",
              "        ['722.77001953125', 'BIO', '2021-10-06T00:00:00.000000000'],\n",
              "        ['70.37999725341797', 'BKI', '2021-10-06T00:00:00.000000000'],\n",
              "        ['166.97999572753906', 'BR', '2021-10-06T00:00:00.000000000'],\n",
              "        ['76.9800033569336', 'BRKR', '2021-10-06T00:00:00.000000000'],\n",
              "        ['270.5599975585937', 'BURL', '2021-10-06T00:00:00.000000000'],\n",
              "        ['43.849998474121094', 'BWA', '2021-10-06T00:00:00.000000000'],\n",
              "        ['1821.1099853515625', 'CABO', '2021-10-06T00:00:00.000000000'],\n",
              "        ['121.69000244140624', 'CBOE', '2021-10-06T00:00:00.000000000'],\n",
              "        ['103.06999969482422', 'CCK', '2021-10-06T00:00:00.000000000'],\n",
              "        ['116.11000061035156', 'CDAY', '2021-10-06T00:00:00.000000000'],\n",
              "        ['175.52999877929688', 'CDW', '2021-10-06T00:00:00.000000000'],\n",
              "        ['158.83999633789062', 'CE', '2021-10-06T00:00:00.000000000'],\n",
              "        ['70.62000274658203', 'CERN', '2021-10-06T00:00:00.000000000'],\n",
              "        ['59.849998474121094', 'CF', '2021-10-06T00:00:00.000000000'],\n",
              "        ['69.59999847412111', 'CHGG', '2021-10-06T00:00:00.000000000'],\n",
              "        ['49.4900016784668', 'CLR', '2021-10-06T00:00:00.000000000'],\n",
              "        ['165.1699981689453', 'CLX', '2021-10-06T00:00:00.000000000'],\n",
              "        ['83.87000274658203', 'CMA', '2021-10-06T00:00:00.000000000'],\n",
              "        ['414.6400146484375', 'COO', '2021-10-06T00:00:00.000000000'],\n",
              "        ['220.6199951171875', 'COUP', '2021-10-06T00:00:00.000000000'],\n",
              "        ['40.88000106811523', 'CQP', '2021-10-06T00:00:00.000000000'],\n",
              "        ['82.94999694824219', 'CREE', '2021-10-06T00:00:00.000000000'],\n",
              "        ['407.8200073242188', 'CRL', '2021-10-06T00:00:00.000000000'],\n",
              "        ['101.98999786376952', 'CRSP', '2021-10-06T00:00:00.000000000'],\n",
              "        ['200.9499969482422', 'CSL', '2021-10-06T00:00:00.000000000'],\n",
              "        ['129.36000061035156', 'CTLT', '2021-10-06T00:00:00.000000000'],\n",
              "        ['105.95999908447266', 'CTXS', '2021-10-06T00:00:00.000000000'],\n",
              "        ['114.33999633789062', 'CZR', '2021-10-06T00:00:00.000000000'],\n",
              "        ['71.33000183105469', 'DAR', '2021-10-06T00:00:00.000000000'],\n",
              "        ['363.8699951171875', 'DECK', '2021-10-06T00:00:00.000000000'],\n",
              "        ['142.3300018310547', 'DGX', '2021-10-06T00:00:00.000000000'],\n",
              "        ['48.9900016784668', 'DKNG', '2021-10-06T00:00:00.000000000'],\n",
              "        ['89.01000213623047', 'DLB', '2021-10-06T00:00:00.000000000'],\n",
              "        ['97.11000061035156', 'DLTR', '2021-10-06T00:00:00.000000000'],\n",
              "        ['159.07000732421875', 'DOV', '2021-10-06T00:00:00.000000000'],\n",
              "        ['482.6600036621094', 'DPZ', '2021-10-06T00:00:00.000000000'],\n",
              "        ['156.24000549316406', 'DRI', '2021-10-06T00:00:00.000000000'],\n",
              "        ['71.19999694824219', 'DT', '2021-10-06T00:00:00.000000000'],\n",
              "        ['38.68000030517578', 'DVN', '2021-10-06T00:00:00.000000000'],\n",
              "        ['103.12000274658205', 'EMN', '2021-10-06T00:00:00.000000000'],\n",
              "        ['153.5800018310547', 'ENPH', '2021-10-06T00:00:00.000000000'],\n",
              "        ['120.36000061035156', 'ENTG', '2021-10-06T00:00:00.000000000'],\n",
              "        ['147.52999877929688', 'ESTC', '2021-10-06T00:00:00.000000000'],\n",
              "        ['103.16999816894531', 'ETR', '2021-10-06T00:00:00.000000000'],\n",
              "        ['209.52999877929688', 'ETSY', '2021-10-06T00:00:00.000000000'],\n",
              "        ['63.43000030517578', 'EVRG', '2021-10-06T00:00:00.000000000'],\n",
              "        ['78.33000183105469', 'EWBC', '2021-10-06T00:00:00.000000000'],\n",
              "        ['91.81999969482422', 'EXAS', '2021-10-06T00:00:00.000000000'],\n",
              "        ['170.2100067138672', 'EXPE', '2021-10-06T00:00:00.000000000'],\n",
              "        ['104.11000061035156', 'FANG', '2021-10-06T00:00:00.000000000'],\n",
              "        ['394.8200073242188', 'FDS', '2021-10-06T00:00:00.000000000'],\n",
              "        ['197.6100006103516', 'FFIV', '2021-10-06T00:00:00.000000000'],\n",
              "        ['400.1600036621094', 'FICO', '2021-10-06T00:00:00.000000000'],\n",
              "        ['175.75', 'FIVE', '2021-10-06T00:00:00.000000000'],\n",
              "        ['148.47999572753906', 'FIVN', '2021-10-06T00:00:00.000000000'],\n",
              "        ['89.58999633789062', 'FMC', '2021-10-06T00:00:00.000000000'],\n",
              "        ['117.95999908447266', 'FND', '2021-10-06T00:00:00.000000000'],\n",
              "        ['95.18000030517578', 'FSLR', '2021-10-06T00:00:00.000000000'],\n",
              "        ['83.38999938964844', 'FUTU', '2021-10-06T00:00:00.000000000'],\n",
              "        ['42.77999877929688', 'GBTC', '2021-10-06T00:00:00.000000000'],\n",
              "        ['69.55000305175781', 'GDDY', '2021-10-06T00:00:00.000000000'],\n",
              "        ['55.61999893188477', 'GDS', '2021-10-06T00:00:00.000000000'],\n",
              "        ['70.4800033569336', 'GGG', '2021-10-06T00:00:00.000000000'],\n",
              "        ['275.5599975585937', 'GLOB', '2021-10-06T00:00:00.000000000'],\n",
              "        ['171.07000732421875', 'GME', '2021-10-06T00:00:00.000000000'],\n",
              "        ['123.16999816894531', 'GPC', '2021-10-06T00:00:00.000000000'],\n",
              "        ['409.2999877929688', 'GWW', '2021-10-06T00:00:00.000000000'],\n",
              "        ['134.69000244140622', 'HEI', '2021-10-06T00:00:00.000000000'],\n",
              "        ['82.87999725341797', 'HES', '2021-10-06T00:00:00.000000000'],\n",
              "        ['72.43000030517578', 'HIG', '2021-10-06T00:00:00.000000000'],\n",
              "        ['71.33999633789062', 'HOLX', '2021-10-06T00:00:00.000000000'],\n",
              "        ['183.97999572753903', 'HUBB', '2021-10-06T00:00:00.000000000'],\n",
              "        ['113.11000061035156', 'HZNP', '2021-10-06T00:00:00.000000000'],\n",
              "        ['131.67999267578122', 'IAC', '2021-10-06T00:00:00.000000000'],\n",
              "        ['264.07998657226557', 'ICLR', '2021-10-06T00:00:00.000000000'],\n",
              "        ['53.66999816894531', 'IEP', '2021-10-06T00:00:00.000000000'],\n",
              "        ['211.7400054931641', 'IEX', '2021-10-06T00:00:00.000000000'],\n",
              "        ['32.639999389648445', 'IMO', '2021-10-06T00:00:00.000000000'],\n",
              "        ['65.81999969482422', 'INCY', '2021-10-06T00:00:00.000000000'],\n",
              "        ['54.02999877929688', 'IP', '2021-10-06T00:00:00.000000000'],\n",
              "        ['154.4499969482422', 'IPGP', '2021-10-06T00:00:00.000000000'],\n",
              "        ['304.20001220703125', 'IT', '2021-10-06T00:00:00.000000000'],\n",
              "        ['132.24000549316406', 'J', '2021-10-06T00:00:00.000000000'],\n",
              "        ['136.91000366210938', 'JAZZ', '2021-10-06T00:00:00.000000000'],\n",
              "        ['171.66000366210938', 'JBHT', '2021-10-06T00:00:00.000000000'],\n",
              "        ['163.19000244140625', 'JKHY', '2021-10-06T00:00:00.000000000'],\n",
              "        ['251.9900054931641', 'JLL', '2021-10-06T00:00:00.000000000'],\n",
              "        ['42.91999816894531', 'KL', '2021-10-06T00:00:00.000000000'],\n",
              "        ['129.27000427246094', 'KMX', '2021-10-06T00:00:00.000000000'],\n",
              "        ['282.5299987792969', 'KSU', '2021-10-06T00:00:00.000000000'],\n",
              "        ['56.58000183105469', 'L', '2021-10-06T00:00:00.000000000'],\n",
              "        ['310.4700012207031', 'LAD', '2021-10-06T00:00:00.000000000'],\n",
              "        ['96.94000244140624', 'LDOS', '2021-10-06T00:00:00.000000000'],\n",
              "        ['157.1300048828125', 'LEA', '2021-10-06T00:00:00.000000000'],\n",
              "        ['297.0199890136719', 'LII', '2021-10-06T00:00:00.000000000'],\n",
              "        ['87.41999816894531', 'LOGI', '2021-10-06T00:00:00.000000000'],\n",
              "        ['48.52999877929688', 'LSXMA', '2021-10-06T00:00:00.000000000'],\n",
              "        ['101.02999877929688', 'LYV', '2021-10-06T00:00:00.000000000'],\n",
              "        ['154.75', 'MANH', '2021-10-06T00:00:00.000000000'],\n",
              "        ['270.66000366210943', 'MASI', '2021-10-06T00:00:00.000000000'],\n",
              "        ['466.239990234375', 'MDB', '2021-10-06T00:00:00.000000000'],\n",
              "        ['44.63999938964844', 'MGM', '2021-10-06T00:00:00.000000000'],\n",
              "        ['179.1199951171875', 'MHK', '2021-10-06T00:00:00.000000000'],\n",
              "        ['171.64999389648438', 'MIDD', '2021-10-06T00:00:00.000000000'],\n",
              "        ['79.94063568115234', 'MKC', '2021-10-06T00:00:00.000000000'],\n",
              "        ['1244.43994140625', 'MKL', '2021-10-06T00:00:00.000000000'],\n",
              "        ['142.77999877929688', 'MKSI', '2021-10-06T00:00:00.000000000'],\n",
              "        ['412.42999267578125', 'MKTX', '2021-10-06T00:00:00.000000000'],\n",
              "        ['357.30999755859375', 'MLM', '2021-10-06T00:00:00.000000000'],\n",
              "        ['270.510009765625', 'MOH', '2021-10-06T00:00:00.000000000'],\n",
              "        ['266.51998901367193', 'MORN', '2021-10-06T00:00:00.000000000'],\n",
              "        ['466.8200073242188', 'MPWR', '2021-10-06T00:00:00.000000000'],\n",
              "        ['152.24000549316406', 'MTB', '2021-10-06T00:00:00.000000000'],\n",
              "        ['342.8800048828125', 'MTN', '2021-10-06T00:00:00.000000000'],\n",
              "        ['238.5200042724609', 'NDSN', '2021-10-06T00:00:00.000000000'],\n",
              "        ['265.0', 'NICE', '2021-10-06T00:00:00.000000000'],\n",
              "        ['90.16000366210938', 'NTAP', '2021-10-06T00:00:00.000000000'],\n",
              "        ['129.69000244140622', 'NTLA', '2021-10-06T00:00:00.000000000'],\n",
              "        ['111.0', 'NTRA', '2021-10-06T00:00:00.000000000'],\n",
              "        ['111.2300033569336', 'NTRS', '2021-10-06T00:00:00.000000000'],\n",
              "        ['161.88999938964844', 'NVAX', '2021-10-06T00:00:00.000000000'],\n",
              "        ['110.62000274658205', 'NVCR', '2021-10-06T00:00:00.000000000'],\n",
              "        ['4803.5', 'NVR', '2021-10-06T00:00:00.000000000'],\n",
              "        ['88.76000213623047', 'OC', '2021-10-06T00:00:00.000000000'],\n",
              "        ['60.099998474121094', 'OKE', '2021-10-06T00:00:00.000000000'],\n",
              "        ['164.75999450683594', 'OLED', '2021-10-06T00:00:00.000000000'],\n",
              "        ['75.23999786376953', 'OMC', '2021-10-06T00:00:00.000000000'],\n",
              "        ['44.70000076293945', 'ON', '2021-10-06T00:00:00.000000000'],\n",
              "        ['48.43999862670898', 'OTEX', '2021-10-06T00:00:00.000000000'],\n",
              "        ['507.489990234375', 'PAYC', '2021-10-06T00:00:00.000000000'],\n",
              "        ['276.75', 'PCTY', '2021-10-06T00:00:00.000000000'],\n",
              "        ['124.62999725341795', 'PEGA', '2021-10-06T00:00:00.000000000'],\n",
              "        ['259.44000244140625', 'PEN', '2021-10-06T00:00:00.000000000'],\n",
              "        ['71.62000274658203', 'PENN', '2021-10-06T00:00:00.000000000'],\n",
              "        ['141.2100067138672', 'PKG', '2021-10-06T00:00:00.000000000'],\n",
              "        ['72.48999786376953', 'PNR', '2021-10-06T00:00:00.000000000'],\n",
              "        ['74.18000030517578', 'PNW', '2021-10-06T00:00:00.000000000'],\n",
              "        ['291.6300048828125', 'PODD', '2021-10-06T00:00:00.000000000'],\n",
              "        ['440.95001220703125', 'POOL', '2021-10-06T00:00:00.000000000'],\n",
              "        ['119.58999633789062', 'PTC', '2021-10-06T00:00:00.000000000'],\n",
              "        ['111.70999908447266', 'PWR', '2021-10-06T00:00:00.000000000'],\n",
              "        ['164.83999633789062', 'QRVO', '2021-10-06T00:00:00.000000000'],\n",
              "        ['60.75', 'QSR', '2021-10-06T00:00:00.000000000'],\n",
              "        ['90.06999969482422', 'RCL', '2021-10-06T00:00:00.000000000'],\n",
              "        ['260.85000610351557', 'RE', '2021-10-06T00:00:00.000000000'],\n",
              "        ['267.94000244140625', 'RGEN', '2021-10-06T00:00:00.000000000'],\n",
              "        ['630.010009765625', 'RH', '2021-10-06T00:00:00.000000000'],\n",
              "        ['94.47000122070312', 'RJF', '2021-10-06T00:00:00.000000000'],\n",
              "        ['208.33999633789062', 'RNG', '2021-10-06T00:00:00.000000000'],\n",
              "        ['81.52999877929688', 'RPM', '2021-10-06T00:00:00.000000000'],\n",
              "        ['141.17999267578125', 'RS', '2021-10-06T00:00:00.000000000'],\n",
              "        ['40.900001525878906', 'RUN', '2021-10-06T00:00:00.000000000'],\n",
              "        ['525.5', 'SAM', '2021-10-06T00:00:00.000000000'],\n",
              "        ['290.6199951171875', 'SBNY', '2021-10-06T00:00:00.000000000'],\n",
              "        ['62.43000030517578', 'SCI', '2021-10-06T00:00:00.000000000'],\n",
              "        ['260.42001342773443', 'SEDG', '2021-10-06T00:00:00.000000000'],\n",
              "        ['123.18000030517578', 'SJM', '2021-10-06T00:00:00.000000000'],\n",
              "        ['65.91999816894531', 'SMAR', '2021-10-06T00:00:00.000000000'],\n",
              "        ['147.44000244140625', 'SMG', '2021-10-06T00:00:00.000000000'],\n",
              "        ['216.1100006103516', 'SNA', '2021-10-06T00:00:00.000000000'],\n",
              "        ['146.4600067138672', 'SPLK', '2021-10-06T00:00:00.000000000'],\n",
              "        ['51.77000045776367', 'SQM', '2021-10-06T00:00:00.000000000'],\n",
              "        ['70.05000305175781', 'SSNC', '2021-10-06T00:00:00.000000000'],\n",
              "        ['212.1999969482422', 'STE', '2021-10-06T00:00:00.000000000'],\n",
              "        ['33.09999847412109', 'STNE', '2021-10-06T00:00:00.000000000'],\n",
              "        ['80.61000061035156', 'STX', '2021-10-06T00:00:00.000000000'],\n",
              "        ['47.31999969482422', 'TAP', '2021-10-06T00:00:00.000000000'],\n",
              "        ['126.30999755859376', 'TDOC', '2021-10-06T00:00:00.000000000'],\n",
              "        ['428.7900085449219', 'TDY', '2021-10-06T00:00:00.000000000'],\n",
              "        ['483.5700073242188', 'TECH', '2021-10-06T00:00:00.000000000'],\n",
              "        ['109.0', 'TER', '2021-10-06T00:00:00.000000000'],\n",
              "        ['102.31999969482422', 'TFII', '2021-10-06T00:00:00.000000000'],\n",
              "        ['378.739990234375', 'TFX', '2021-10-06T00:00:00.000000000'],\n",
              "        ['1162.3299560546875', 'TPL', '2021-10-06T00:00:00.000000000'],\n",
              "        ['113.9800033569336', 'TRU', '2021-10-06T00:00:00.000000000'],\n",
              "        ['41.63000106811523', 'TX', '2021-10-06T00:00:00.000000000'],\n",
              "        ['145.32000732421875', 'TXG', '2021-10-06T00:00:00.000000000'],\n",
              "        ['464.42999267578125', 'TYL', '2021-10-06T00:00:00.000000000'],\n",
              "        ['670.2000122070312', 'UHAL', '2021-10-06T00:00:00.000000000'],\n",
              "        ['132.44000244140622', 'UHS', '2021-10-06T00:00:00.000000000'],\n",
              "        ['305.7900085449219', 'UI', '2021-10-06T00:00:00.000000000'],\n",
              "        ['368.2099914550781', 'ULTA', '2021-10-06T00:00:00.000000000'],\n",
              "        ['346.6700134277344', 'URI', '2021-10-06T00:00:00.000000000'],\n",
              "        ['174.7100067138672', 'VMC', '2021-10-06T00:00:00.000000000'],\n",
              "        ['108.12999725341795', 'WAL', '2021-10-06T00:00:00.000000000'],\n",
              "        ['343.6400146484375', 'WAT', '2021-10-06T00:00:00.000000000'],\n",
              "        ['45.02999877929688', 'WB', '2021-10-06T00:00:00.000000000'],\n",
              "        ['56.43000030517578', 'WDC', '2021-10-06T00:00:00.000000000'],\n",
              "        ['201.02999877929688', 'WHR', '2021-10-06T00:00:00.000000000'],\n",
              "        ['178.4600067138672', 'WIX', '2021-10-06T00:00:00.000000000'],\n",
              "        ['97.3000030517578', 'WLK', '2021-10-06T00:00:00.000000000'],\n",
              "        ['76.62999725341797', 'WRB', '2021-10-06T00:00:00.000000000'],\n",
              "        ['50.59000015258789', 'WRK', '2021-10-06T00:00:00.000000000'],\n",
              "        ['166.86000061035156', 'WSM', '2021-10-06T00:00:00.000000000'],\n",
              "        ['271.1199951171875', 'WSO', '2021-10-06T00:00:00.000000000'],\n",
              "        ['84.25', 'WYNN', '2021-10-06T00:00:00.000000000'],\n",
              "        ['39.58000183105469', 'XP', '2021-10-06T00:00:00.000000000'],\n",
              "        ['79.41000366210938', 'XPO', '2021-10-06T00:00:00.000000000'],\n",
              "        ['57.459999084472656', 'XRAY', '2021-10-06T00:00:00.000000000'],\n",
              "        ['122.25', 'XYL', '2021-10-06T00:00:00.000000000'],\n",
              "        ['639.0900268554688', 'Y', '2021-10-06T00:00:00.000000000'],\n",
              "        ['111.95999908447266', 'ZEN', '2021-10-06T00:00:00.000000000'],\n",
              "        ['62.56000137329102', 'ZI', '2021-10-06T00:00:00.000000000'],\n",
              "        ['101.73999786376952', 'ZLAB', '2021-10-06T00:00:00.000000000']],\n",
              "       dtype='<U32'),           Close start_date Ticker\n",
              " 0    211.300003 2021-10-06    AAP\n",
              " 1    337.299988 2021-10-06   ABMD\n",
              " 2     53.290001 2021-10-06    AEM\n",
              " 3    134.240005 2021-10-06    AFG\n",
              " 4    125.620003 2021-10-06   AGCO\n",
              " ..          ...        ...    ...\n",
              " 226  122.250000 2021-10-06    XYL\n",
              " 227  639.090027 2021-10-06      Y\n",
              " 228  111.959999 2021-10-06    ZEN\n",
              " 229   62.560001 2021-10-06     ZI\n",
              " 230  101.739998 2021-10-06   ZLAB\n",
              " \n",
              " [231 rows x 3 columns])"
            ]
          },
          "metadata": {},
          "execution_count": 140
        }
      ]
    },
    {
      "cell_type": "markdown",
      "metadata": {
        "id": "fHv9BA18ETOC"
      },
      "source": [
        "# New Section"
      ]
    },
    {
      "cell_type": "code",
      "metadata": {
        "id": "QEhAP-H0aFXF",
        "colab": {
          "base_uri": "https://localhost:8080/",
          "height": 228
        },
        "outputId": "d5ba245b-7038-4926-c93e-b0b3ae694d41"
      },
      "source": [
        "tsf = ComposableTimeSeriesForestClassifier()\n",
        "tsf.fit(X_train, y_train)\n",
        "tsf.score(X_test, y_test)"
      ],
      "execution_count": null,
      "outputs": [
        {
          "output_type": "error",
          "ename": "TypeError",
          "evalue": "ignored",
          "traceback": [
            "\u001b[0;31m---------------------------------------------------------------------------\u001b[0m",
            "\u001b[0;31mTypeError\u001b[0m                                 Traceback (most recent call last)",
            "\u001b[0;32m<ipython-input-45-7a9fbeeba80e>\u001b[0m in \u001b[0;36m<module>\u001b[0;34m()\u001b[0m\n\u001b[0;32m----> 1\u001b[0;31m \u001b[0mtsf\u001b[0m \u001b[0;34m=\u001b[0m \u001b[0mComposableTimeSeriesForestClassifier\u001b[0m\u001b[0;34m(\u001b[0m\u001b[0;34m)\u001b[0m\u001b[0;34m\u001b[0m\u001b[0;34m\u001b[0m\u001b[0m\n\u001b[0m\u001b[1;32m      2\u001b[0m \u001b[0mtsf\u001b[0m\u001b[0;34m.\u001b[0m\u001b[0mfit\u001b[0m\u001b[0;34m(\u001b[0m\u001b[0mX_train\u001b[0m\u001b[0;34m,\u001b[0m \u001b[0my_train\u001b[0m\u001b[0;34m)\u001b[0m\u001b[0;34m\u001b[0m\u001b[0;34m\u001b[0m\u001b[0m\n\u001b[1;32m      3\u001b[0m \u001b[0mtsf\u001b[0m\u001b[0;34m.\u001b[0m\u001b[0mscore\u001b[0m\u001b[0;34m(\u001b[0m\u001b[0mX_test\u001b[0m\u001b[0;34m,\u001b[0m \u001b[0my_test\u001b[0m\u001b[0;34m)\u001b[0m\u001b[0;34m\u001b[0m\u001b[0;34m\u001b[0m\u001b[0m\n",
            "\u001b[0;31mTypeError\u001b[0m: Can't instantiate abstract class ComposableTimeSeriesForestClassifier with abstract methods _set_oob_score_and_attributes"
          ]
        }
      ]
    },
    {
      "cell_type": "code",
      "metadata": {
        "id": "Ic6127HQbkMV"
      },
      "source": [
        "test_predict = tsf.predict_proba(X_test)"
      ],
      "execution_count": null,
      "outputs": []
    },
    {
      "cell_type": "code",
      "metadata": {
        "colab": {
          "base_uri": "https://localhost:8080/"
        },
        "id": "CtE0IjHb2pqT",
        "outputId": "b4f5440a-e189-4c78-8209-719e03e8eaab"
      },
      "source": [
        "tsf.predict(X_test)"
      ],
      "execution_count": null,
      "outputs": [
        {
          "output_type": "execute_result",
          "data": {
            "text/plain": [
              "array([1, 1, 1, ..., 1, 1, 0], dtype=int64)"
            ]
          },
          "metadata": {},
          "execution_count": 24
        }
      ]
    },
    {
      "cell_type": "code",
      "metadata": {
        "colab": {
          "base_uri": "https://localhost:8080/"
        },
        "id": "H5WSaZ9S3N_a",
        "outputId": "bfbc9450-cea1-4f56-a500-4c3f9b1572de"
      },
      "source": [
        "test_predict[:,2]"
      ],
      "execution_count": null,
      "outputs": [
        {
          "output_type": "execute_result",
          "data": {
            "text/plain": [
              "array([0.08, 0.42, 0.18, ..., 0.15, 0.3 , 0.18])"
            ]
          },
          "metadata": {},
          "execution_count": 28
        }
      ]
    },
    {
      "cell_type": "code",
      "metadata": {
        "colab": {
          "base_uri": "https://localhost:8080/",
          "height": 320
        },
        "id": "H0QOKfOB24Zo",
        "outputId": "5dfce7a0-bad6-4a94-f06c-2069ae6cf60f"
      },
      "source": [
        "plt.hist(test_predict[:,2][y_test == 2])"
      ],
      "execution_count": null,
      "outputs": [
        {
          "output_type": "execute_result",
          "data": {
            "text/plain": [
              "(array([232., 469., 636., 640., 504., 361., 186.,  95.,  38.,  12.]),\n",
              " array([0.  , 0.09, 0.18, 0.27, 0.36, 0.45, 0.54, 0.63, 0.72, 0.81, 0.9 ]),\n",
              " <a list of 10 Patch objects>)"
            ]
          },
          "metadata": {},
          "execution_count": 29
        },
        {
          "output_type": "display_data",
          "data": {
            "image/png": "[encoded data removed]",
            "text/plain": [
              "<Figure size 432x288 with 1 Axes>"
            ]
          },
          "metadata": {
            "needs_background": "light"
          }
        }
      ]
    },
    {
      "cell_type": "code",
      "metadata": {
        "colab": {
          "base_uri": "https://localhost:8080/",
          "height": 357
        },
        "id": "uCOK-Tto3l2H",
        "outputId": "c80c2c87-923f-43e2-e590-97f025b20693"
      },
      "source": [
        "plt.hist(test_predict[:,2][y_test == 1])"
      ],
      "execution_count": null,
      "outputs": [
        {
          "output_type": "execute_result",
          "data": {
            "text/plain": [
              "(array([5.447e+03, 3.193e+03, 1.716e+03, 1.186e+03, 5.960e+02, 3.470e+02,\n",
              "        1.240e+02, 3.700e+01, 1.300e+01, 2.000e+00]),\n",
              " array([0.   , 0.076, 0.152, 0.228, 0.304, 0.38 , 0.456, 0.532, 0.608,\n",
              "        0.684, 0.76 ]),\n",
              " <a list of 10 Patch objects>)"
            ]
          },
          "metadata": {},
          "execution_count": 30
        },
        {
          "output_type": "display_data",
          "data": {
            "image/png": "[encoded data removed]",
            "text/plain": [
              "<Figure size 432x288 with 1 Axes>"
            ]
          },
          "metadata": {
            "needs_background": "light"
          }
        }
      ]
    },
    {
      "cell_type": "code",
      "metadata": {
        "colab": {
          "base_uri": "https://localhost:8080/",
          "height": 339
        },
        "id": "S-JyRC793okt",
        "outputId": "1adfb5e8-2a50-4df2-e9c2-df5be41d2197"
      },
      "source": [
        "plt.hist(test_predict[:,2][y_test == 0])"
      ],
      "execution_count": null,
      "outputs": [
        {
          "output_type": "execute_result",
          "data": {
            "text/plain": [
              "(array([179., 256., 357., 425., 379., 281., 157.,  66.,  26.,  10.]),\n",
              " array([0.   , 0.079, 0.158, 0.237, 0.316, 0.395, 0.474, 0.553, 0.632,\n",
              "        0.711, 0.79 ]),\n",
              " <a list of 10 Patch objects>)"
            ]
          },
          "metadata": {},
          "execution_count": 31
        },
        {
          "output_type": "display_data",
          "data": {
            "image/png": "[encoded data removed]",
            "text/plain": [
              "<Figure size 432x288 with 1 Axes>"
            ]
          },
          "metadata": {
            "needs_background": "light"
          }
        }
      ]
    },
    {
      "cell_type": "code",
      "metadata": {
        "id": "NP6xVwbnbkPl",
        "colab": {
          "base_uri": "https://localhost:8080/",
          "height": 279
        },
        "outputId": "ae1a80bf-bb82-4b11-9270-4475a05288c7"
      },
      "source": [
        "fi = tsf.feature_importances_\n",
        "# renaming _slope to slope.\n",
        "fi.rename(columns={\"_slope\": \"slope\"}, inplace=True)\n",
        "fig, ax = plt.subplots(1, figsize=plt.figaspect(0.25))\n",
        "fi.plot(ax=ax)\n",
        "ax.set(xlabel=\"Time\", ylabel=\"Feature importance\");"
      ],
      "execution_count": null,
      "outputs": [
        {
          "output_type": "display_data",
          "data": {
            "image/png": "[encoded data removed]",
            "text/plain": [
              "<Figure size 1152x288 with 1 Axes>"
            ]
          },
          "metadata": {
            "needs_background": "light"
          }
        }
      ]
    },
    {
      "cell_type": "code",
      "metadata": {
        "id": "ftJ3sDg2bkbl"
      },
      "source": [],
      "execution_count": null,
      "outputs": []
    },
    {
      "cell_type": "code",
      "metadata": {
        "id": "6tMjjBWebkeu"
      },
      "source": [],
      "execution_count": null,
      "outputs": []
    },
    {
      "cell_type": "markdown",
      "metadata": {
        "id": "wLrDE5cA2FXU"
      },
      "source": [
        "*Benchmark* model"
      ]
    },
    {
      "cell_type": "code",
      "metadata": {
        "id": "pX6jx1i82HXm"
      },
      "source": [
        "\n"
      ],
      "execution_count": null,
      "outputs": []
    },
    {
      "cell_type": "code",
      "metadata": {
        "id": "s80b3hdE4o8r"
      },
      "source": [
        "def readucr(filename):\n",
        "    data = np.loadtxt(filename, delimiter=\"\\t\")\n",
        "    y = data[:, 0]\n",
        "    x = data[:, 1:]\n",
        "    return x, y.astype(int)\n",
        "\n",
        "\n",
        "root_url = \"https://raw.githubusercontent.com/hfawaz/cd-diagram/master/FordA/\"\n",
        "\n",
        "x_train, y_train = readucr(root_url + \"FordA_TRAIN.tsv\")\n",
        "x_test, y_test = readucr(root_url + \"FordA_TEST.tsv\")\n"
      ],
      "execution_count": null,
      "outputs": []
    },
    {
      "cell_type": "code",
      "metadata": {
        "colab": {
          "base_uri": "https://localhost:8080/",
          "height": 265
        },
        "id": "sM__K6PP5dUV",
        "outputId": "927ffc0e-6143-437d-81f1-56749dc62f01"
      },
      "source": [
        "classes = np.unique(np.concatenate((y_train, y_test), axis=0))\n",
        "\n",
        "plt.figure()\n",
        "for c in classes:\n",
        "    c_x_train = x_train[y_train == c]\n",
        "    plt.plot(c_x_train[0], label=\"class \" + str(c))\n",
        "plt.legend(loc=\"best\")\n",
        "plt.show()\n",
        "plt.close()\n"
      ],
      "execution_count": null,
      "outputs": [
        {
          "output_type": "display_data",
          "data": {
            "image/png": "[encoded data removed]",
            "text/plain": [
              "<Figure size 432x288 with 1 Axes>"
            ]
          },
          "metadata": {
            "needs_background": "light"
          }
        }
      ]
    },
    {
      "cell_type": "code",
      "metadata": {
        "colab": {
          "base_uri": "https://localhost:8080/"
        },
        "id": "Ler7Qk5dDamQ",
        "outputId": "00e145aa-a17a-471c-bef6-a121193bf9df"
      },
      "source": [],
      "execution_count": null,
      "outputs": [
        {
          "data": {
            "text/plain": [
              "(3601, 500)"
            ]
          },
          "execution_count": 16,
          "metadata": {},
          "output_type": "execute_result"
        }
      ]
    },
    {
      "cell_type": "code",
      "metadata": {
        "id": "13depFTx5iqH"
      },
      "source": [
        "x_train = x_train.reshape((x_train.shape[0], x_train.shape[1], 1))\n",
        "x_test = x_test.reshape((x_test.shape[0], x_test.shape[1], 1))\n"
      ],
      "execution_count": null,
      "outputs": []
    },
    {
      "cell_type": "code",
      "metadata": {
        "id": "uQBqAEu20Sbd"
      },
      "source": [
        "x_train"
      ],
      "execution_count": null,
      "outputs": []
    },
    {
      "cell_type": "code",
      "metadata": {
        "id": "vjzsVrSe5kqN"
      },
      "source": [
        "num_classes = len(np.unique(y_train))"
      ],
      "execution_count": null,
      "outputs": []
    },
    {
      "cell_type": "code",
      "metadata": {
        "id": "LkSdQ80p5mEe"
      },
      "source": [
        "idx = np.random.permutation(len(x_train))\n",
        "x_train = x_train[idx]\n",
        "y_train = y_train[idx]\n",
        "y_train[y_train == -1] = 0\n",
        "y_test[y_test == -1] = 0\n"
      ],
      "execution_count": null,
      "outputs": []
    },
    {
      "cell_type": "code",
      "metadata": {
        "id": "YrgrBLCX5qY0",
        "colab": {
          "base_uri": "https://localhost:8080/",
          "height": 1000
        },
        "outputId": "e5bc621a-970c-4345-877e-35cc3b3cb9f7"
      },
      "source": [
        "def make_model(input_shape):\n",
        "    input_layer = keras.layers.Input(input_shape)\n",
        "\n",
        "    conv1 = keras.layers.Conv1D(filters=64, kernel_size=3, padding=\"same\")(input_layer)\n",
        "    conv1 = keras.layers.BatchNormalization()(conv1)\n",
        "    conv1 = keras.layers.ReLU()(conv1)\n",
        "\n",
        "    conv2 = keras.layers.Conv1D(filters=64, kernel_size=3, padding=\"same\")(conv1)\n",
        "    conv2 = keras.layers.BatchNormalization()(conv2)\n",
        "    conv2 = keras.layers.ReLU()(conv2)\n",
        "\n",
        "    conv3 = keras.layers.Conv1D(filters=64, kernel_size=3, padding=\"same\")(conv2)\n",
        "    conv3 = keras.layers.BatchNormalization()(conv3)\n",
        "    conv3 = keras.layers.ReLU()(conv3)\n",
        "\n",
        "    gap = keras.layers.GlobalAveragePooling1D()(conv3)\n",
        "\n",
        "    output_layer = keras.layers.Dense(num_classes, activation=\"softmax\")(gap)\n",
        "\n",
        "    return keras.models.Model(inputs=input_layer, outputs=output_layer)\n",
        "\n",
        "\n",
        "model = make_model(input_shape=x_train.shape[1:])\n",
        "keras.utils.plot_model(model, show_shapes=True)\n"
      ],
      "execution_count": null,
      "outputs": [
        {
          "output_type": "execute_result",
          "data": {
            "image/png": "[encoded data removed]",
            "text/plain": [
              "<IPython.core.display.Image object>"
            ]
          },
          "metadata": {},
          "execution_count": 52
        }
      ]
    },
    {
      "cell_type": "code",
      "metadata": {
        "id": "bBp08ccj5sqa"
      },
      "source": [
        "epochs = 20\n",
        "batch_size = 32\n",
        "\n",
        "callbacks = [\n",
        "    keras.callbacks.ModelCheckpoint(\n",
        "        \"best_model.h5\", save_best_only=True, monitor=\"val_loss\"\n",
        "    ),\n",
        "    keras.callbacks.ReduceLROnPlateau(\n",
        "        monitor=\"val_loss\", factor=0.5, patience=20, min_lr=0.0001\n",
        "    ),\n",
        "    keras.callbacks.EarlyStopping(monitor=\"val_loss\", patience=50, verbose=1),\n",
        "]\n",
        "model.compile(\n",
        "    optimizer=\"adam\",\n",
        "    loss=\"sparse_categorical_crossentropy\",\n",
        "    metrics=[\"sparse_categorical_accuracy\"],\n",
        ")\n",
        "history = model.fit(\n",
        "    x_train,\n",
        "    y_train,\n",
        "    batch_size=batch_size,\n",
        "    epochs=epochs,\n",
        "    callbacks=callbacks,\n",
        "    validation_split=0.2,\n",
        "    verbose=1,\n",
        ")\n"
      ],
      "execution_count": null,
      "outputs": []
    },
    {
      "cell_type": "code",
      "metadata": {
        "colab": {
          "base_uri": "https://localhost:8080/"
        },
        "id": "wWtK4Med5u34",
        "outputId": "380ab1fb-7a03-4965-b98b-b9238e2095eb"
      },
      "source": [
        "model = keras.models.load_model(\"best_model.h5\")\n",
        "\n",
        "test_loss, test_acc = model.evaluate(x_test, y_test)\n",
        "\n",
        "print(\"Test accuracy\", test_acc)\n",
        "print(\"Test loss\", test_loss)\n"
      ],
      "execution_count": null,
      "outputs": [
        {
          "name": "stdout",
          "output_type": "stream",
          "text": [
            "42/42 [==============================] - 1s 28ms/step - loss: 0.2706 - sparse_categorical_accuracy: 0.8909\n",
            "Test accuracy 0.8909090757369995\n",
            "Test loss 0.27063798904418945\n"
          ]
        }
      ]
    },
    {
      "cell_type": "code",
      "metadata": {
        "colab": {
          "base_uri": "https://localhost:8080/",
          "height": 298
        },
        "id": "E8h8YmF87Z9-",
        "outputId": "384afcb2-de8c-45be-b3d8-675363fc8032"
      },
      "source": [
        "metric = \"sparse_categorical_accuracy\"\n",
        "plt.figure()\n",
        "plt.plot(history.history[metric])\n",
        "plt.plot(history.history[\"val_\" + metric])\n",
        "plt.title(\"model \" + metric)\n",
        "plt.ylabel(metric, fontsize=\"large\")\n",
        "plt.xlabel(\"epoch\", fontsize=\"large\")\n",
        "plt.legend([\"train\", \"val\"], loc=\"best\")\n",
        "plt.show()\n",
        "plt.close()\n"
      ],
      "execution_count": null,
      "outputs": [
        {
          "data": {
            "image/png": "[encoded data removed]",
            "text/plain": [
              "<Figure size 432x288 with 1 Axes>"
            ]
          },
          "metadata": {},
          "output_type": "display_data"
        }
      ]
    },
    {
      "cell_type": "code",
      "metadata": {
        "colab": {
          "base_uri": "https://localhost:8080/"
        },
        "id": "_JsCFk6f7gDA",
        "outputId": "3d1f4978-8ab1-4bb9-c2f5-e689f3614184"
      },
      "source": [
        "!pip install sktime"
      ],
      "execution_count": null,
      "outputs": [
        {
          "name": "stdout",
          "output_type": "stream",
          "text": [
            "Collecting sktime\n",
            "  Downloading sktime-0.7.0-cp37-cp37m-manylinux_2_17_x86_64.manylinux2014_x86_64.whl (5.8 MB)\n",
            "\u001b[K     |████████████████████████████████| 5.8 MB 4.4 MB/s \n",
            "\u001b[?25hRequirement already satisfied: numba>=0.50 in /usr/local/lib/python3.7/dist-packages (from sktime) (0.51.2)\n",
            "Collecting scikit-learn>=0.24.0\n",
            "  Downloading scikit_learn-0.24.2-cp37-cp37m-manylinux2010_x86_64.whl (22.3 MB)\n",
            "\u001b[K     |████████████████████████████████| 22.3 MB 1.2 MB/s \n",
            "\u001b[?25hRequirement already satisfied: pandas>=1.1.0 in /usr/local/lib/python3.7/dist-packages (from sktime) (1.1.5)\n",
            "Requirement already satisfied: numpy>=1.19.0 in /usr/local/lib/python3.7/dist-packages (from sktime) (1.19.5)\n",
            "Collecting statsmodels>=0.12.1\n",
            "  Downloading statsmodels-0.12.2-cp37-cp37m-manylinux1_x86_64.whl (9.5 MB)\n",
            "\u001b[K     |████████████████████████████████| 9.5 MB 36.5 MB/s \n",
            "\u001b[?25hRequirement already satisfied: wheel in /usr/local/lib/python3.7/dist-packages (from sktime) (0.37.0)\n",
            "Requirement already satisfied: llvmlite<0.35,>=0.34.0.dev0 in /usr/local/lib/python3.7/dist-packages (from numba>=0.50->sktime) (0.34.0)\n",
            "Requirement already satisfied: setuptools in /usr/local/lib/python3.7/dist-packages (from numba>=0.50->sktime) (57.4.0)\n",
            "Requirement already satisfied: pytz>=2017.2 in /usr/local/lib/python3.7/dist-packages (from pandas>=1.1.0->sktime) (2018.9)\n",
            "Requirement already satisfied: python-dateutil>=2.7.3 in /usr/local/lib/python3.7/dist-packages (from pandas>=1.1.0->sktime) (2.8.2)\n",
            "Requirement already satisfied: six>=1.5 in /usr/local/lib/python3.7/dist-packages (from python-dateutil>=2.7.3->pandas>=1.1.0->sktime) (1.15.0)\n",
            "Requirement already satisfied: scipy>=0.19.1 in /usr/local/lib/python3.7/dist-packages (from scikit-learn>=0.24.0->sktime) (1.4.1)\n",
            "Requirement already satisfied: joblib>=0.11 in /usr/local/lib/python3.7/dist-packages (from scikit-learn>=0.24.0->sktime) (1.0.1)\n",
            "Collecting threadpoolctl>=2.0.0\n",
            "  Downloading threadpoolctl-2.2.0-py3-none-any.whl (12 kB)\n",
            "Requirement already satisfied: patsy>=0.5 in /usr/local/lib/python3.7/dist-packages (from statsmodels>=0.12.1->sktime) (0.5.1)\n",
            "Installing collected packages: threadpoolctl, statsmodels, scikit-learn, sktime\n",
            "  Attempting uninstall: statsmodels\n",
            "    Found existing installation: statsmodels 0.10.2\n",
            "    Uninstalling statsmodels-0.10.2:\n",
            "      Successfully uninstalled statsmodels-0.10.2\n",
            "  Attempting uninstall: scikit-learn\n",
            "    Found existing installation: scikit-learn 0.22.2.post1\n",
            "    Uninstalling scikit-learn-0.22.2.post1:\n",
            "      Successfully uninstalled scikit-learn-0.22.2.post1\n",
            "Successfully installed scikit-learn-0.24.2 sktime-0.7.0 statsmodels-0.12.2 threadpoolctl-2.2.0\n"
          ]
        }
      ]
    },
    {
      "cell_type": "code",
      "metadata": {
        "id": "QH14LIIjARDQ"
      },
      "source": [
        "import matplotlib.pyplot as plt\n",
        "import numpy as np\n",
        "from sklearn.metrics import accuracy_score\n",
        "from sklearn.model_selection import train_test_split\n",
        "from sklearn.pipeline import Pipeline\n",
        "from sklearn.tree import DecisionTreeClassifier\n",
        "\n",
        "from sktime.classification.compose import ComposableTimeSeriesForestClassifier\n",
        "from sktime.datasets import load_arrow_head\n",
        "from sktime.utils.slope_and_trend import _slope"
      ],
      "execution_count": null,
      "outputs": []
    },
    {
      "cell_type": "code",
      "metadata": {
        "id": "2QfUWS4yAn_D"
      },
      "source": [
        "x_train"
      ],
      "execution_count": null,
      "outputs": []
    },
    {
      "cell_type": "code",
      "metadata": {
        "colab": {
          "base_uri": "https://localhost:8080/"
        },
        "id": "AIYlMXywBqRL",
        "outputId": "21f7e22a-11ff-45e2-e86a-c470b7974fa6"
      },
      "source": [
        "\n",
        "\n",
        "# binary target variable\n",
        "labels, counts = np.unique(y_train, return_counts=True)\n",
        "print(labels, counts)\n",
        "\n"
      ],
      "execution_count": null,
      "outputs": [
        {
          "output_type": "stream",
          "name": "stdout",
          "text": [
            "[0 1] [1846 1755]\n"
          ]
        }
      ]
    },
    {
      "cell_type": "code",
      "metadata": {
        "id": "h8K1Sm7THCrg"
      },
      "source": [],
      "execution_count": null,
      "outputs": []
    },
    {
      "cell_type": "code",
      "metadata": {
        "id": "jQAAQrJ-Ep5X"
      },
      "source": [
        "from sktime.transformations.panel.summarize import RandomIntervalFeatureExtractor"
      ],
      "execution_count": null,
      "outputs": []
    },
    {
      "cell_type": "code",
      "metadata": {
        "id": "y0YSrpicEuzk"
      },
      "source": [
        "steps = [\n",
        "    (\n",
        "        \"extract\",\n",
        "        RandomIntervalFeatureExtractor(\n",
        "            n_intervals=\"sqrt\", features=[np.mean, np.std, _slope]\n",
        "        ),\n",
        "    ),\n",
        "    (\"clf\", DecisionTreeClassifier()),\n",
        "]\n",
        "time_series_tree = Pipeline(steps)"
      ],
      "execution_count": null,
      "outputs": []
    },
    {
      "cell_type": "code",
      "metadata": {
        "id": "QY4J4_2vLxio"
      },
      "source": [
        "X_train = np.expand_dims(np.squeeze(x_train), axis=1)\n",
        "X_test = np.expand_dims(np.squeeze(x_test), axis=1)"
      ],
      "execution_count": null,
      "outputs": []
    },
    {
      "cell_type": "code",
      "metadata": {
        "colab": {
          "base_uri": "https://localhost:8080/"
        },
        "id": "56HTpLsX0cQo",
        "outputId": "f27b440f-8dda-45e4-f460-63964f234dad"
      },
      "source": [
        "X_train"
      ],
      "execution_count": null,
      "outputs": [
        {
          "data": {
            "text/plain": [
              "array([[[-2.2684911 , -1.9243162 , -1.4612245 , ...,  0.06955051,\n",
              "         -0.04785627, -0.20277423]],\n",
              "\n",
              "       [[-0.0920256 , -0.09287315, -0.1299057 , ..., -1.423377  ,\n",
              "         -1.1884021 , -0.93066682]],\n",
              "\n",
              "       [[-1.4004939 , -1.2250255 , -0.98908249, ..., -0.97285656,\n",
              "         -0.65455192, -0.31043243]],\n",
              "\n",
              "       ...,\n",
              "\n",
              "       [[ 0.42264061,  0.33757879,  0.2433211 , ..., -3.0924816 ,\n",
              "         -3.0924816 , -2.9545435 ]],\n",
              "\n",
              "       [[ 0.43219686,  0.35433578,  0.2563533 , ...,  1.1836875 ,\n",
              "          1.5511218 ,  1.8398202 ]],\n",
              "\n",
              "       [[ 0.23289829,  0.16649513,  0.11186558, ..., -0.77445172,\n",
              "         -1.4337738 , -1.9800693 ]]])"
            ]
          },
          "execution_count": 80,
          "metadata": {},
          "output_type": "execute_result"
        }
      ]
    },
    {
      "cell_type": "code",
      "metadata": {
        "colab": {
          "base_uri": "https://localhost:8080/"
        },
        "id": "C8e8caSy-XIL",
        "outputId": "df245d6f-92ec-4919-9223-887fbcee4cc6"
      },
      "source": [
        "y_train"
      ],
      "execution_count": null,
      "outputs": [
        {
          "data": {
            "text/plain": [
              "array([1, 1, 1, ..., 0, 0, 0])"
            ]
          },
          "execution_count": 126,
          "metadata": {},
          "output_type": "execute_result"
        }
      ]
    },
    {
      "cell_type": "code",
      "metadata": {
        "colab": {
          "base_uri": "https://localhost:8080/"
        },
        "id": "RzRbCUl4FQm6",
        "outputId": "fd377a7a-5116-4227-d044-3a1c197b07bb"
      },
      "source": [
        "time_series_tree.fit(X_train, y_train)\n",
        "time_series_tree.score(X_test, y_test)"
      ],
      "execution_count": null,
      "outputs": [
        {
          "output_type": "execute_result",
          "data": {
            "text/plain": [
              "0.5848484848484848"
            ]
          },
          "metadata": {},
          "execution_count": 58
        }
      ]
    },
    {
      "cell_type": "code",
      "metadata": {
        "id": "y-qQryJvJYTd",
        "colab": {
          "base_uri": "https://localhost:8080/",
          "height": 191
        },
        "outputId": "f0ef3bf3-6a62-4b0d-ab13-94b1971f3151"
      },
      "source": [
        "tsf = ComposableTimeSeriesForestClassifier(\n",
        "    estimator=time_series_tree,\n",
        "    n_estimators=100,\n",
        "    criterion=\"entropy\",\n",
        "    bootstrap=True,\n",
        "    oob_score=True,\n",
        "    random_state=1,\n",
        "    n_jobs=-1,\n",
        ")"
      ],
      "execution_count": null,
      "outputs": [
        {
          "output_type": "error",
          "ename": "TypeError",
          "evalue": "ignored",
          "traceback": [
            "\u001b[0;31m---------------------------------------------------------------------------\u001b[0m",
            "\u001b[0;31mTypeError\u001b[0m                                 Traceback (most recent call last)",
            "\u001b[0;32m<ipython-input-61-dcff8b49acb3>\u001b[0m in \u001b[0;36m<module>\u001b[0;34m()\u001b[0m\n\u001b[0;32m----> 1\u001b[0;31m \u001b[0mtsf\u001b[0m \u001b[0;34m=\u001b[0m \u001b[0mComposableTimeSeriesForestClassifier\u001b[0m\u001b[0;34m(\u001b[0m\u001b[0mestimator\u001b[0m\u001b[0;34m=\u001b[0m\u001b[0mtime_series_tree\u001b[0m\u001b[0;34m)\u001b[0m\u001b[0;34m\u001b[0m\u001b[0;34m\u001b[0m\u001b[0m\n\u001b[0m",
            "\u001b[0;31mTypeError\u001b[0m: Can't instantiate abstract class ComposableTimeSeriesForestClassifier with abstract methods _set_oob_score_and_attributes"
          ]
        }
      ]
    },
    {
      "cell_type": "code",
      "metadata": {
        "colab": {
          "base_uri": "https://localhost:8080/"
        },
        "id": "MVURuxdoQrv7",
        "outputId": "1ae244cb-d644-4278-84eb-6e50720c7aec"
      },
      "source": [
        "tsf = ComposableTimeSeriesForestClassifier()\n",
        "tsf.fit(X_train, y_train)\n",
        "tsf.score(X_test, y_test)"
      ],
      "execution_count": null,
      "outputs": [
        {
          "data": {
            "text/plain": [
              "0.7916666666666666"
            ]
          },
          "execution_count": 63,
          "metadata": {},
          "output_type": "execute_result"
        }
      ]
    },
    {
      "cell_type": "code",
      "metadata": {
        "colab": {
          "base_uri": "https://localhost:8080/"
        },
        "id": "9duPK0QNRgsg",
        "outputId": "8caf2595-1abd-4979-b50c-411dc55629e5"
      },
      "source": [
        "tsf.predict_proba(X_test)"
      ],
      "execution_count": null,
      "outputs": [
        {
          "data": {
            "text/plain": [
              "array([[0.87, 0.13],\n",
              "       [0.7 , 0.3 ],\n",
              "       [0.76, 0.24],\n",
              "       ...,\n",
              "       [0.39, 0.61],\n",
              "       [0.54, 0.46],\n",
              "       [0.53, 0.47]])"
            ]
          },
          "execution_count": 65,
          "metadata": {},
          "output_type": "execute_result"
        }
      ]
    },
    {
      "cell_type": "code",
      "metadata": {
        "colab": {
          "base_uri": "https://localhost:8080/",
          "height": 267
        },
        "id": "yuwV7dfmQyNS",
        "outputId": "2f545636-4788-412f-dbff-add2fcf26046"
      },
      "source": [
        "fi = tsf.feature_importances_\n",
        "# renaming _slope to slope.\n",
        "fi.rename(columns={\"_slope\": \"slope\"}, inplace=True)\n",
        "fig, ax = plt.subplots(1, figsize=plt.figaspect(0.25))\n",
        "fi.plot(ax=ax)\n",
        "ax.set(xlabel=\"Time\", ylabel=\"Feature importance\");"
      ],
      "execution_count": null,
      "outputs": [
        {
          "data": {
            "image/png": "[encoded data removed]",
            "text/plain": [
              "<Figure size 1152x288 with 1 Axes>"
            ]
          },
          "metadata": {},
          "output_type": "display_data"
        }
      ]
    },
    {
      "cell_type": "code",
      "metadata": {
        "id": "Nsine_R3RGcl"
      },
      "source": [],
      "execution_count": null,
      "outputs": []
    }
  ]
}